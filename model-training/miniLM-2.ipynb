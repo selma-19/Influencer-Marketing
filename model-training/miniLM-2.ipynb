{
 "cells": [
  {
   "cell_type": "code",
   "execution_count": null,
   "outputs": [],
   "source": [],
   "metadata": {
    "collapsed": false
   },
   "id": "f968c0097321ebdf"
  },
  {
   "cell_type": "code",
   "execution_count": null,
   "outputs": [],
   "source": [
    "from  services.influencers_service import  InfluencersService\n",
    "from shared.mongo import MongoConnection\n",
    "mongo_connection=MongoConnection()\n",
    "influencers_service = InfluencersService(mongo_connection)\n",
    "bios=[]\n",
    "posts=influencers_service.get_posts()\n",
    "influencers=influencers_service.get_influencers()\n",
    "for influencer in influencers:\n",
    "    info_string=\"\"\n",
    "    if influencer['Bio']!= 'NULL':\n",
    "        info_string+=influencer['Bio']\n",
    "    if influencer['Category']!= 'NULL':\n",
    "        info_string+=influencer['Category']\n",
    "    if info_string!= \"\":\n",
    "        bios.append(influencer['Bio']+\" \"+influencer['Category'])\n",
    "print(bios[:5])"
   ],
   "metadata": {
    "collapsed": false
   },
   "id": "aa5764cb4541bafb"
  },
  {
   "cell_type": "code",
   "execution_count": null,
   "outputs": [],
   "source": [
    "import pandas as pd\n",
    "df = pd.read_csv('data.csv')\n",
    "df.head()"
   ],
   "metadata": {
    "collapsed": false
   },
   "id": "initial_id"
  },
  {
   "cell_type": "code",
   "execution_count": null,
   "outputs": [],
   "source": [
    "from transformers import AutoTokenizer\n",
    "tokenizer = AutoTokenizer.from_pretrained('bert-base-uncased')"
   ],
   "metadata": {
    "collapsed": false
   },
   "id": "196081ca670eff55"
  },
  {
   "cell_type": "code",
   "execution_count": null,
   "outputs": [],
   "source": [
    "def process_data(row):\n",
    "\n",
    "    text = row['Text']\n",
    "    text = str(text)\n",
    "    text = ' '.join(text.split())\n",
    "\n",
    "    encodings = tokenizer(text, padding=\"max_length\", truncation=True, max_length=128)\n",
    "\n",
    "    label = 0\n",
    "    if row['Category'] == 'Food':\n",
    "        label += 1\n",
    "    if row['Category'] == 'Beauty':\n",
    "        label += 2\n",
    "    \n",
    "    encodings['label'] = label\n",
    "    encodings['text'] = text\n",
    "\n",
    "    return encodings"
   ],
   "metadata": {
    "collapsed": false
   },
   "id": "97c2ca60afc72f63"
  },
  {
   "cell_type": "code",
   "execution_count": 45,
   "outputs": [],
   "source": [
    "processed_data = []\n",
    "for i in range(len(df)):\n",
    "    processed_data.append(process_data(df.iloc[i]))"
   ],
   "metadata": {
    "collapsed": false,
    "ExecuteTime": {
     "end_time": "2024-05-28T13:52:33.168885200Z",
     "start_time": "2024-05-28T13:52:32.707609300Z"
    }
   },
   "id": "48b45c4581bdd453"
  },
  {
   "cell_type": "code",
   "execution_count": 46,
   "outputs": [],
   "source": [
    "from sklearn.model_selection import train_test_split\n",
    "\n",
    "new_df = pd.DataFrame(processed_data)\n",
    "\n",
    "train_df, valid_df = train_test_split(\n",
    "    new_df,\n",
    "    test_size=0.2,\n",
    "    random_state=2022\n",
    ")"
   ],
   "metadata": {
    "collapsed": false,
    "ExecuteTime": {
     "end_time": "2024-05-28T13:52:34.637395900Z",
     "start_time": "2024-05-28T13:52:34.600568700Z"
    }
   },
   "id": "b2159e688db9f94d"
  },
  {
   "cell_type": "code",
   "execution_count": 47,
   "outputs": [],
   "source": [
    "import pyarrow as pa\n",
    "from datasets import Dataset\n",
    "\n",
    "train_hg = Dataset(pa.Table.from_pandas(train_df))\n",
    "valid_hg = Dataset(pa.Table.from_pandas(valid_df))"
   ],
   "metadata": {
    "collapsed": false,
    "ExecuteTime": {
     "end_time": "2024-05-28T13:52:37.883327100Z",
     "start_time": "2024-05-28T13:52:37.599257200Z"
    }
   },
   "id": "cbfb3eb1a688f1aa"
  },
  {
   "cell_type": "code",
   "execution_count": 48,
   "outputs": [
    {
     "name": "stderr",
     "output_type": "stream",
     "text": [
      "Some weights of BertForSequenceClassification were not initialized from the model checkpoint at bert-base-uncased and are newly initialized: ['classifier.bias', 'classifier.weight']\n",
      "You should probably TRAIN this model on a down-stream task to be able to use it for predictions and inference.\n"
     ]
    }
   ],
   "source": [
    "from transformers import AutoModelForSequenceClassification\n",
    "\n",
    "model = AutoModelForSequenceClassification.from_pretrained(\n",
    "    'bert-base-uncased',\n",
    "    num_labels=3\n",
    ")"
   ],
   "metadata": {
    "collapsed": false,
    "ExecuteTime": {
     "end_time": "2024-05-28T13:52:41.875315900Z",
     "start_time": "2024-05-28T13:52:39.497934300Z"
    }
   },
   "id": "519a296e4ec53937"
  },
  {
   "cell_type": "code",
   "execution_count": 49,
   "outputs": [
    {
     "name": "stderr",
     "output_type": "stream",
     "text": [
      "C:\\Users\\chadha\\PycharmProjects\\Influencer-Marketing-2\\venv\\Lib\\site-packages\\transformers\\training_args.py:1474: FutureWarning: `evaluation_strategy` is deprecated and will be removed in version 4.46 of 🤗 Transformers. Use `eval_strategy` instead\n",
      "  warnings.warn(\n"
     ]
    }
   ],
   "source": [
    "from transformers import TrainingArguments, Trainer\n",
    "\n",
    "training_args = TrainingArguments(output_dir=\"./result\", evaluation_strategy=\"epoch\")\n",
    "\n",
    "trainer = Trainer(\n",
    "    model=model,\n",
    "    args=training_args,\n",
    "    train_dataset=train_hg,\n",
    "    eval_dataset=valid_hg,\n",
    "    tokenizer=tokenizer\n",
    ")"
   ],
   "metadata": {
    "collapsed": false,
    "ExecuteTime": {
     "end_time": "2024-05-28T13:52:47.647061600Z",
     "start_time": "2024-05-28T13:52:44.745630200Z"
    }
   },
   "id": "d77fb7fa72023d4e"
  },
  {
   "cell_type": "code",
   "execution_count": 50,
   "outputs": [
    {
     "data": {
      "text/plain": "<IPython.core.display.HTML object>",
      "text/html": "\n    <div>\n      \n      <progress value='2' max='66' style='width:300px; height:20px; vertical-align: middle;'></progress>\n      [ 2/66 : < :, Epoch 0.05/3]\n    </div>\n    <table border=\"1\" class=\"dataframe\">\n  <thead>\n <tr style=\"text-align: left;\">\n      <th>Epoch</th>\n      <th>Training Loss</th>\n      <th>Validation Loss</th>\n    </tr>\n  </thead>\n  <tbody>\n  </tbody>\n</table><p>"
     },
     "metadata": {},
     "output_type": "display_data"
    },
    {
     "data": {
      "text/plain": "TrainOutput(global_step=66, training_loss=0.5234694625392105, metrics={'train_runtime': 276.5215, 'train_samples_per_second': 1.899, 'train_steps_per_second': 0.239, 'total_flos': 34533636076800.0, 'train_loss': 0.5234694625392105, 'epoch': 3.0})"
     },
     "execution_count": 50,
     "metadata": {},
     "output_type": "execute_result"
    }
   ],
   "source": [
    "trainer.train()"
   ],
   "metadata": {
    "collapsed": false,
    "ExecuteTime": {
     "end_time": "2024-05-28T13:57:26.641038500Z",
     "start_time": "2024-05-28T13:52:49.802137500Z"
    }
   },
   "id": "f6de42b4b47fea39"
  },
  {
   "cell_type": "code",
   "execution_count": 51,
   "outputs": [
    {
     "data": {
      "text/plain": "<IPython.core.display.HTML object>",
      "text/html": "\n    <div>\n      \n      <progress value='1' max='6' style='width:300px; height:20px; vertical-align: middle;'></progress>\n      [1/6 : < :]\n    </div>\n    "
     },
     "metadata": {},
     "output_type": "display_data"
    },
    {
     "data": {
      "text/plain": "{'eval_loss': 0.14367276430130005,\n 'eval_runtime': 6.2817,\n 'eval_samples_per_second': 7.004,\n 'eval_steps_per_second': 0.955,\n 'epoch': 3.0}"
     },
     "execution_count": 51,
     "metadata": {},
     "output_type": "execute_result"
    }
   ],
   "source": [
    "trainer.evaluate()"
   ],
   "metadata": {
    "collapsed": false,
    "ExecuteTime": {
     "end_time": "2024-05-28T13:58:32.014011800Z",
     "start_time": "2024-05-28T13:58:25.726419600Z"
    }
   },
   "id": "16171c80dc960fb8"
  },
  {
   "cell_type": "code",
   "execution_count": 52,
   "outputs": [],
   "source": [
    "model.save_pretrained('./model/')"
   ],
   "metadata": {
    "collapsed": false,
    "ExecuteTime": {
     "end_time": "2024-05-28T13:58:37.995432200Z",
     "start_time": "2024-05-28T13:58:37.195026200Z"
    }
   },
   "id": "ca3042323ed49589"
  },
  {
   "cell_type": "code",
   "execution_count": 53,
   "outputs": [],
   "source": [
    "from transformers import AutoModelForSequenceClassification\n",
    "import torch\n",
    "device = torch.device('cuda' if torch.cuda.is_available() else 'cpu')\n",
    "\n",
    "new_model = AutoModelForSequenceClassification.from_pretrained('./model/').to(device)"
   ],
   "metadata": {
    "collapsed": false,
    "ExecuteTime": {
     "end_time": "2024-05-28T13:58:51.279433400Z",
     "start_time": "2024-05-28T13:58:50.045950300Z"
    }
   },
   "id": "1423e3d6cfb6194c"
  },
  {
   "cell_type": "code",
   "execution_count": 54,
   "outputs": [],
   "source": [
    "from transformers import AutoTokenizer\n",
    "\n",
    "new_tokenizer = AutoTokenizer.from_pretrained('bert-base-uncased')"
   ],
   "metadata": {
    "collapsed": false,
    "ExecuteTime": {
     "end_time": "2024-05-28T13:58:55.986497900Z",
     "start_time": "2024-05-28T13:58:55.162259300Z"
    }
   },
   "id": "12e110303a28c390"
  },
  {
   "cell_type": "code",
   "execution_count": 55,
   "outputs": [],
   "source": [
    "import torch\n",
    "import numpy as np\n",
    "\n",
    "def get_prediction(text):\n",
    "    encoding = new_tokenizer(text, return_tensors=\"pt\", padding=\"max_length\", truncation=True, max_length=128)\n",
    "    encoding = {k: v.to(trainer.model.device) for k,v in encoding.items()}\n",
    "\n",
    "    outputs = new_model(**encoding)\n",
    "\n",
    "    logits = outputs.logits\n",
    "    device = torch.device('cuda' if torch.cuda.is_available() else 'cpu')\n",
    "    sigmoid = torch.nn.Sigmoid()\n",
    "    print(sigmoid)\n",
    "    probs = sigmoid(logits.squeeze().cpu())\n",
    "    probs = probs.detach().numpy()\n",
    "    label = np.argmax(probs, axis=-1)\n",
    "    print(logits)\n",
    "    print(label)"
   ],
   "metadata": {
    "collapsed": false,
    "ExecuteTime": {
     "end_time": "2024-05-28T13:59:05.777090600Z",
     "start_time": "2024-05-28T13:59:05.768493200Z"
    }
   },
   "id": "6fed321aedab65bb"
  },
  {
   "cell_type": "code",
   "execution_count": 1,
   "outputs": [
    {
     "ename": "NameError",
     "evalue": "name 'get_prediction' is not defined",
     "output_type": "error",
     "traceback": [
      "\u001B[1;31m---------------------------------------------------------------------------\u001B[0m",
      "\u001B[1;31mNameError\u001B[0m                                 Traceback (most recent call last)",
      "Cell \u001B[1;32mIn[1], line 1\u001B[0m\n\u001B[1;32m----> 1\u001B[0m \u001B[43mget_prediction\u001B[49m(\u001B[38;5;124m'\u001B[39m\u001B[38;5;124mhair | Nails | Fashion Enthusiast YouTuber www.youtube.com/1nOnlyCash\u001B[39m\u001B[38;5;124m'\u001B[39m)\n",
      "\u001B[1;31mNameError\u001B[0m: name 'get_prediction' is not defined"
     ]
    }
   ],
   "source": [
    "get_prediction('hair | Nails | Fashion Enthusiast YouTuber www.youtube.com/1nOnlyCash')"
   ],
   "metadata": {
    "collapsed": false,
    "ExecuteTime": {
     "end_time": "2024-05-28T15:03:37.178105800Z",
     "start_time": "2024-05-28T15:03:36.856716700Z"
    }
   },
   "id": "910002ebbf95ab5c"
  },
  {
   "cell_type": "code",
   "execution_count": 1,
   "outputs": [],
   "source": [],
   "metadata": {
    "collapsed": false,
    "ExecuteTime": {
     "end_time": "2024-05-28T15:03:38.540636500Z",
     "start_time": "2024-05-28T15:03:38.535125400Z"
    }
   },
   "id": "6a18f13b5d2a461f"
  },
  {
   "cell_type": "code",
   "execution_count": null,
   "outputs": [],
   "source": [],
   "metadata": {
    "collapsed": false
   },
   "id": "45f316b8f04bc371"
  }
 ],
 "metadata": {
  "kernelspec": {
   "display_name": "Python 3",
   "language": "python",
   "name": "python3"
  },
  "language_info": {
   "codemirror_mode": {
    "name": "ipython",
    "version": 2
   },
   "file_extension": ".py",
   "mimetype": "text/x-python",
   "name": "python",
   "nbconvert_exporter": "python",
   "pygments_lexer": "ipython2",
   "version": "2.7.6"
  }
 },
 "nbformat": 4,
 "nbformat_minor": 5
}
