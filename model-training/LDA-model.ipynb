{
 "cells": [
  {
   "cell_type": "code",
   "execution_count": 1,
   "id": "initial_id",
   "metadata": {
    "ExecuteTime": {
     "end_time": "2024-05-29T11:09:18.782038800Z",
     "start_time": "2024-05-29T11:09:11.962282300Z"
    }
   },
   "outputs": [
    {
     "name": "stderr",
     "output_type": "stream",
     "text": [
      "2024-05-29 12:12:29,620 - INFO - Note: NumExpr detected 12 cores but \"NUMEXPR_MAX_THREADS\" not set, so enforcing safe limit of 8.\n",
      "2024-05-29 12:12:29,621 - INFO - NumExpr defaulting to 8 threads.\n"
     ]
    }
   ],
   "source": [
    "from gensim.utils import simple_preprocess\n",
    "from gensim.models import CoherenceModel\n",
    "from  services.influencers_service import  InfluencersService\n",
    "from shared.mongo import MongoConnection\n",
    "#visualisation \n",
    "import pyLDAvis\n",
    "import pyLDAvis.gensim\n",
    "import gensim\n",
    "import gensim.corpora as corpora\n",
    "import json \n",
    "import glob\n",
    "import nltk\n",
    "from nltk.corpus import stopwords"
   ]
  },
  {
   "cell_type": "code",
   "execution_count": 2,
   "id": "d3935b9537cce65e",
   "metadata": {
    "ExecuteTime": {
     "end_time": "2024-05-29T11:09:30.631269100Z",
     "start_time": "2024-05-29T11:09:18.783039800Z"
    },
    "collapsed": false
   },
   "outputs": [
    {
     "name": "stderr",
     "output_type": "stream",
     "text": [
      "2024-05-29 12:12:30,843 - INFO - MongoDB connection established successfully\n",
      "2024-05-29 12:12:31,194 - INFO - Fetched 20316 posts\n",
      "2024-05-29 12:12:31,369 - INFO - Fetched 38112 influencers\n"
     ]
    }
   ],
   "source": [
    "mongo_connection=MongoConnection()\n",
    "influencers_service = InfluencersService(mongo_connection)\n",
    "bios=[]\n",
    "posts=influencers_service.get_posts()\n",
    "influencers=influencers_service.get_influencers()\n",
    "for influencer in influencers:\n",
    "    info_string=\"\"\n",
    "    if influencer['Bio']!= 'NULL':\n",
    "        info_string+=influencer['Bio']\n",
    "    if influencer['Category']!= 'NULL':\n",
    "        info_string+=influencer['Category']\n",
    "    if info_string!= \"\":\n",
    "        bios.append(influencer['Bio']+\" \"+influencer['Category'])"
   ]
  },
  {
   "cell_type": "code",
   "execution_count": null,
   "id": "a580d567784b0475",
   "metadata": {
    "ExecuteTime": {
     "end_time": "2024-05-29T11:09:30.631269100Z",
     "start_time": "2024-05-29T11:09:30.631269100Z"
    },
    "collapsed": false
   },
   "outputs": [],
   "source": []
  },
  {
   "cell_type": "code",
   "execution_count": 3,
   "id": "6c2fc0c4e6d7d0b1",
   "metadata": {
    "ExecuteTime": {
     "start_time": "2024-05-29T11:09:30.663605400Z"
    },
    "collapsed": false
   },
   "outputs": [],
   "source": [
    "def merge_content_posts_bios(posts,bios) : \n",
    "    #concatenation of captions of all posts + bios of all influencers\n",
    "    merged_content = \"\"\n",
    "    for post in posts:\n",
    "         #extract caption text\n",
    "         caption = post.get('caption')\n",
    "         if (caption):\n",
    "            merged_content += caption + \" \"\n",
    "    for bio in bios:\n",
    "        merged_content+=bio\n",
    "    return merged_content"
   ]
  },
  {
   "cell_type": "code",
   "execution_count": 4,
   "id": "528624ed0c398732",
   "metadata": {
    "ExecuteTime": {
     "end_time": "2024-05-29T11:09:30.673633600Z",
     "start_time": "2024-05-29T11:09:30.669635500Z"
    },
    "collapsed": false
   },
   "outputs": [],
   "source": [
    "def gen_words(text):\n",
    "    words=[]\n",
    "    new = gensim.utils.simple_preprocess(text, deacc=True)    \n",
    "    words.append(new)\n",
    "    return words"
   ]
  },
  {
   "cell_type": "code",
   "execution_count": 5,
   "id": "8e08f19493148dbe",
   "metadata": {
    "ExecuteTime": {
     "end_time": "2024-05-29T11:09:30.674667Z",
     "start_time": "2024-05-29T11:09:30.672637400Z"
    },
    "collapsed": false
   },
   "outputs": [],
   "source": [
    "def gen_bow(words):\n",
    "    id2word = corpora.Dictionary(words)\n",
    "    corpus=[]\n",
    "    for word in words: \n",
    "        new = id2word.doc2bow(word)\n",
    "        corpus.append(new)\n",
    "    return  corpus"
   ]
  },
  {
   "cell_type": "code",
   "execution_count": 6,
   "id": "2264c5dfce18f4f",
   "metadata": {
    "ExecuteTime": {
     "start_time": "2024-05-29T11:09:30.700109200Z"
    },
    "collapsed": false
   },
   "outputs": [],
   "source": [
    "def make_bigrams(texts,bigram):\n",
    "    return [bigram[doc] for doc in texts]\n",
    "\n",
    "def make_trigrams(texts,bigram,trigram):\n",
    "    return [trigram[bigram[doc]] for doc in texts]"
   ]
  },
  {
   "cell_type": "code",
   "execution_count": 7,
   "id": "71cccd7184bb6b19",
   "metadata": {
    "ExecuteTime": {
     "end_time": "2024-05-29T11:09:36.132668Z",
     "start_time": "2024-05-29T11:09:30.702107600Z"
    },
    "collapsed": false
   },
   "outputs": [
    {
     "name": "stderr",
     "output_type": "stream",
     "text": [
      "2024-05-29 12:12:33,110 - INFO - collecting all words and their counts\n",
      "2024-05-29 12:12:33,110 - INFO - PROGRESS: at sentence #0, processed 0 words and 0 word types\n",
      "2024-05-29 12:12:33,556 - INFO - collected 378929 token types (unigram + bigrams) from a corpus of 463576 words and 1 sentences\n",
      "2024-05-29 12:12:33,557 - INFO - merged Phrases<378929 vocab, min_count=5, threshold=100, max_vocab_size=40000000>\n",
      "2024-05-29 12:12:33,557 - INFO - Phrases lifecycle event {'msg': 'built Phrases<378929 vocab, min_count=5, threshold=100, max_vocab_size=40000000> in 0.45s', 'datetime': '2024-05-29T12:12:33.557267', 'gensim': '4.3.2', 'python': '3.11.3 (tags/v3.11.3:f3909b8, Apr  4 2023, 23:49:59) [MSC v.1934 64 bit (AMD64)]', 'platform': 'Windows-10-10.0.22621-SP0', 'event': 'created'}\n",
      "2024-05-29 12:12:33,558 - INFO - collecting all words and their counts\n",
      "2024-05-29 12:12:34,172 - INFO - PROGRESS: at sentence #0, processed 0 words and 0 word types\n",
      "2024-05-29 12:12:34,629 - INFO - collected 383215 token types (unigram + bigrams) from a corpus of 443929 words and 1 sentences\n",
      "2024-05-29 12:12:34,634 - INFO - merged Phrases<383215 vocab, min_count=5, threshold=100, max_vocab_size=40000000>\n",
      "2024-05-29 12:12:34,634 - INFO - Phrases lifecycle event {'msg': 'built Phrases<383215 vocab, min_count=5, threshold=100, max_vocab_size=40000000> in 1.08s', 'datetime': '2024-05-29T12:12:34.634152', 'gensim': '4.3.2', 'python': '3.11.3 (tags/v3.11.3:f3909b8, Apr  4 2023, 23:49:59) [MSC v.1934 64 bit (AMD64)]', 'platform': 'Windows-10-10.0.22621-SP0', 'event': 'created'}\n",
      "2024-05-29 12:12:34,635 - INFO - exporting phrases from Phrases<378929 vocab, min_count=5, threshold=100, max_vocab_size=40000000>\n",
      "2024-05-29 12:12:35,093 - INFO - FrozenPhrases lifecycle event {'msg': 'exported FrozenPhrases<716 phrases, min_count=5, threshold=100> from Phrases<378929 vocab, min_count=5, threshold=100, max_vocab_size=40000000> in 0.46s', 'datetime': '2024-05-29T12:12:35.092773', 'gensim': '4.3.2', 'python': '3.11.3 (tags/v3.11.3:f3909b8, Apr  4 2023, 23:49:59) [MSC v.1934 64 bit (AMD64)]', 'platform': 'Windows-10-10.0.22621-SP0', 'event': 'created'}\n",
      "2024-05-29 12:12:35,093 - INFO - exporting phrases from Phrases<383215 vocab, min_count=5, threshold=100, max_vocab_size=40000000>\n",
      "2024-05-29 12:12:35,610 - INFO - FrozenPhrases lifecycle event {'msg': 'exported FrozenPhrases<777 phrases, min_count=5, threshold=100> from Phrases<383215 vocab, min_count=5, threshold=100, max_vocab_size=40000000> in 0.52s', 'datetime': '2024-05-29T12:12:35.610548', 'gensim': '4.3.2', 'python': '3.11.3 (tags/v3.11.3:f3909b8, Apr  4 2023, 23:49:59) [MSC v.1934 64 bit (AMD64)]', 'platform': 'Windows-10-10.0.22621-SP0', 'event': 'created'}\n"
     ]
    }
   ],
   "source": [
    "# posts=posts[0:3] #for rapid testing we only use three posts\n",
    "merge=merge_content_posts_bios(posts,bios)\n",
    "# print(merge)\n",
    "words=gen_words(merge)\n",
    "# print(words)\n",
    "\n",
    "##generate bigrams and tigrams##\n",
    "bigram_phrases = gensim.models.Phrases(words, min_count=5, threshold=100)\n",
    "trigram_phrases = gensim.models.Phrases(bigram_phrases[words], threshold=100)\n",
    "bigram = gensim.models.phrases.Phraser(bigram_phrases)\n",
    "trigram = gensim.models.phrases.Phraser(trigram_phrases)\n",
    "data_bigrams = make_bigrams(words,bigram)\n",
    "data_bigrams_trigrams = make_trigrams(data_bigrams,bigram,trigram)\n"
   ]
  },
  {
   "cell_type": "code",
   "execution_count": 8,
   "id": "2fe33c7f3f3c0288",
   "metadata": {
    "ExecuteTime": {
     "end_time": "2024-05-29T11:09:36.187875900Z",
     "start_time": "2024-05-29T11:09:36.135679300Z"
    },
    "collapsed": false
   },
   "outputs": [],
   "source": [
    "from gensim.parsing.preprocessing import STOPWORDS\n",
    "texts = data_bigrams_trigrams #for easier typing\n",
    "custom_stopwords = {\n",
    "    'com','gmail','creator','love','new','creators','dm','www','hotmail','dm','info','null','email','collab','contact','lover','celebrities','life','live','influencer',\n",
    "}  # Add any additional stop words to this set\n",
    "stopwords = STOPWORDS.union(custom_stopwords)\n",
    "filtered_texts = []\n",
    "for text in texts:\n",
    "    filtered_text = [word for word in text if word not in stopwords]\n",
    "    filtered_texts.append(filtered_text)\n",
    "texts=filtered_texts\n",
    "# print(texts)"
   ]
  },
  {
   "cell_type": "code",
   "execution_count": 9,
   "id": "49e0dccc4dcdbeae",
   "metadata": {
    "ExecuteTime": {
     "end_time": "2024-05-29T11:09:36.664964400Z",
     "start_time": "2024-05-29T11:09:36.201989800Z"
    },
    "collapsed": false
   },
   "outputs": [
    {
     "name": "stderr",
     "output_type": "stream",
     "text": [
      "2024-05-29 12:12:36,421 - INFO - adding document #0 to Dictionary<0 unique tokens: []>\n",
      "2024-05-29 12:12:36,710 - INFO - built Dictionary<75047 unique tokens: ['a_', 'a_lops_life', 'a_mayesing', 'a_mexicanpup', 'a_texanpup']...> from 1 documents (total 342437 corpus positions)\n",
      "2024-05-29 12:12:36,711 - INFO - Dictionary lifecycle event {'msg': \"built Dictionary<75047 unique tokens: ['a_', 'a_lops_life', 'a_mayesing', 'a_mexicanpup', 'a_texanpup']...> from 1 documents (total 342437 corpus positions)\", 'datetime': '2024-05-29T12:12:36.711551', 'gensim': '4.3.2', 'python': '3.11.3 (tags/v3.11.3:f3909b8, Apr  4 2023, 23:49:59) [MSC v.1934 64 bit (AMD64)]', 'platform': 'Windows-10-10.0.22621-SP0', 'event': 'created'}\n"
     ]
    }
   ],
   "source": [
    "# # #TF-IDF REMOVAL\n",
    "# from gensim.models import TfidfModel\n",
    "# # \n",
    "id2word = corpora.Dictionary(texts)\n",
    "# \n",
    "corpus = [id2word.doc2bow(text) for text in texts]\n",
    "# tfidf = TfidfModel(corpus, id2word=id2word,smartirs='ntc')\n",
    "# \n",
    "# low_value =0.0005\n",
    "# words  = []\n",
    "# words_missing_in_tfidf = []\n",
    "# for i in range(0, len(corpus)):\n",
    "#     bow = corpus[i]\n",
    "#     low_value_words = []\n",
    "#     tfidf_ids = [id for id, value in tfidf[bow]]\n",
    "#     bow_ids = [id for id, value in bow]\n",
    "#     low_value_words = [id for id, value in tfidf[bow] if value < low_value]\n",
    "#     drops = low_value_words+words_missing_in_tfidf\n",
    "#     for item in drops:\n",
    "#         words.append(id2word[item])\n",
    "#     words_missing_in_tfidf = [id for id in bow_ids if id not in tfidf_ids] # The words with tf-idf socre 0 will be missing\n",
    "#     new_bow = [b for b in bow if b[0] not in low_value_words and b[0] not in words_missing_in_tfidf]\n",
    "#     corpus[i] = new_bow\n",
    "\n",
    "# print(corpus)"
   ]
  },
  {
   "cell_type": "code",
   "execution_count": 28,
   "id": "bad2d2ca1e42c1d3",
   "metadata": {
    "collapsed": false,
    "ExecuteTime": {
     "end_time": "2024-05-29T12:45:41.512990200Z",
     "start_time": "2024-05-29T12:45:40.917748100Z"
    }
   },
   "outputs": [
    {
     "name": "stderr",
     "output_type": "stream",
     "text": [
      "2024-05-29 13:45:40,919 - INFO - using autotuned alpha, starting with [0.25, 0.25, 0.25, 0.25]\n",
      "2024-05-29 13:45:40,927 - INFO - using serial LDA version on this node\n",
      "2024-05-29 13:45:40,959 - INFO - running online (single-pass) LDA training, 4 topics, 1 passes over the supplied corpus of 1 documents, updating model once every 1 documents, evaluating perplexity every 1 documents, iterating 6x with a convergence threshold of 0.001000\n",
      "2024-05-29 13:45:40,973 - WARNING - too few updates, training might not converge; consider increasing the number of passes or iterations to improve accuracy\n",
      "2024-05-29 13:45:41,224 - INFO - -12.168 per-word bound, 4603.0 perplexity estimate based on a held-out corpus of 1 documents with 342437 words\n",
      "2024-05-29 13:45:41,226 - INFO - PROGRESS: pass 0, at document #1/1\n",
      "2024-05-29 13:45:41,263 - INFO - optimized alpha [0.4666872, 0.45600092, 0.45693246, 0.47100177]\n",
      "2024-05-29 13:45:41,323 - INFO - topic #0 (0.467): 0.008*\"fashion\" + 0.008*\"lifestyle\" + 0.008*\"blogger\" + 0.007*\"travel\" + 0.006*\"food\" + 0.006*\"beauty\" + 0.006*\"mom\" + 0.006*\"blog\" + 0.005*\"youtube\" + 0.003*\"model\"\n",
      "2024-05-29 13:45:41,325 - INFO - topic #1 (0.456): 0.010*\"blogger\" + 0.009*\"travel\" + 0.009*\"lifestyle\" + 0.006*\"fashion\" + 0.005*\"blog\" + 0.005*\"food\" + 0.004*\"beauty\" + 0.004*\"personal_goods_general_merchandise\" + 0.004*\"mom\" + 0.004*\"youtube\"\n",
      "2024-05-29 13:45:41,327 - INFO - topic #2 (0.457): 0.012*\"travel\" + 0.010*\"lifestyle\" + 0.008*\"blogger\" + 0.008*\"fashion\" + 0.006*\"blog\" + 0.005*\"beauty\" + 0.004*\"food\" + 0.004*\"personal_goods_general_merchandise\" + 0.004*\"youtube\" + 0.003*\"model\"\n",
      "2024-05-29 13:45:41,328 - INFO - topic #3 (0.471): 0.010*\"fashion\" + 0.010*\"lifestyle\" + 0.008*\"blogger\" + 0.008*\"travel\" + 0.006*\"beauty\" + 0.006*\"blog\" + 0.005*\"food\" + 0.004*\"youtube\" + 0.004*\"style\" + 0.004*\"mom\"\n",
      "2024-05-29 13:45:41,331 - INFO - topic diff=1.610941, rho=1.000000\n",
      "2024-05-29 13:45:41,365 - INFO - LdaModel lifecycle event {'msg': 'trained LdaModel<num_terms=75047, num_topics=4, decay=0.5, chunksize=1000> in 0.41s', 'datetime': '2024-05-29T13:45:41.365604', 'gensim': '4.3.2', 'python': '3.11.3 (tags/v3.11.3:f3909b8, Apr  4 2023, 23:49:59) [MSC v.1934 64 bit (AMD64)]', 'platform': 'Windows-10-10.0.22621-SP0', 'event': 'created'}\n"
     ]
    }
   ],
   "source": [
    "lda_model=gensim.models.ldamodel.LdaModel(\n",
    "    corpus=corpus,\n",
    "    id2word=id2word,\n",
    "    num_topics=4,\n",
    "    random_state=50,\n",
    "    chunksize=1000,\n",
    "    update_every=1,\n",
    "    iterations=6,\n",
    "    passes=1,\n",
    "    alpha=\"auto\",\n",
    "    eta=\"auto\",\n",
    ")"
   ]
  },
  {
   "cell_type": "code",
   "execution_count": 23,
   "id": "d358152e6ac5c2d1",
   "metadata": {
    "collapsed": false,
    "ExecuteTime": {
     "end_time": "2024-05-29T12:41:25.036969400Z",
     "start_time": "2024-05-29T12:41:21.598058900Z"
    }
   },
   "outputs": [
    {
     "data": {
      "text/plain": "PreparedData(topic_coordinates=              x         y  topics  cluster       Freq\ntopic                                                \n0      0.001584  0.003058       1        1  53.531124\n2      0.001747 -0.002537       2        1  26.633827\n1     -0.003330 -0.000521       3        1  19.835050, topic_info=                                     Term         Freq        Total Category  \\\n68591                              travel  2888.000000  2888.000000  Default   \n36936                           lifestyle  3043.000000  3043.000000  Default   \n6784                              blogger  2815.000000  2815.000000  Default   \n50798  personal_goods_general_merchandise  1195.000000  1195.000000  Default   \n63730                               style  1053.000000  1053.000000  Default   \n...                                   ...          ...          ...      ...   \n39472                                mama   133.599495   853.253576   Topic3   \n22275                             fitness   129.061570   805.469698   Topic3   \n42495                               model   139.896714  1077.874798   Topic3   \n28028                                home   129.798460   854.416101   Topic3   \n24683                                girl   128.221625   882.815967   Topic3   \n\n       logprob  loglift  \n68591  30.0000  30.0000  \n36936  29.0000  29.0000  \n6784   28.0000  28.0000  \n50798  27.0000  27.0000  \n63730  26.0000  26.0000  \n...        ...      ...  \n39472  -6.2313  -0.2365  \n22275  -6.2658  -0.2134  \n42495  -6.1852  -0.4241  \n28028  -6.2601  -0.2667  \n24683  -6.2724  -0.3116  \n\n[276 rows x 6 columns], token_table=       Topic      Freq      Term\nterm                            \n291        1  0.472784   account\n291        2  0.375340   account\n291        3  0.147971   account\n436        1  0.447722   actress\n436        2  0.286542   actress\n...      ...       ...       ...\n74397      2  0.215555   youtube\n74397      3  0.171356   youtube\n74410      1  0.479967  youtuber\n74410      2  0.278691  youtuber\n74410      3  0.241919  youtuber\n\n[554 rows x 3 columns], R=30, lambda_step=0.01, plot_opts={'xlab': 'PC1', 'ylab': 'PC2'}, topic_order=[1, 3, 2])",
      "text/html": "\n<link rel=\"stylesheet\" type=\"text/css\" href=\"https://cdn.jsdelivr.net/gh/bmabey/pyLDAvis@3.4.0/pyLDAvis/js/ldavis.v1.0.0.css\">\n\n\n<div id=\"ldavis_el3306823450479641602906037796\" style=\"background-color:white;\"></div>\n<script type=\"text/javascript\">\n\nvar ldavis_el3306823450479641602906037796_data = {\"mdsDat\": {\"x\": [0.0015836011581083214, 0.001746895923898759, -0.0033304970820070804], \"y\": [0.003057647540429821, -0.002537082473253371, -0.0005205650671764498], \"topics\": [1, 2, 3], \"cluster\": [1, 1, 1], \"Freq\": [53.531123802993406, 26.63382669192036, 19.83504950508623]}, \"tinfo\": {\"Term\": [\"travel\", \"lifestyle\", \"blogger\", \"personal_goods_general_merchandise\", \"style\", \"fashion\", \"blog\", \"general\", \"wife\", \"la\", \"post\", \"nyc\", \"video\", \"food\", \"london\", \"youtuber\", \"girl\", \"beauty\", \"business\", \"follow\", \"base\", \"writer\", \"good\", \"youtube\", \"artist\", \"twitter\", \"content_creator\", \"ambassador\", \"creative\", \"shop\", \"morning\", \"subscribe_youtube_channel\", \"euch\", \"critic\", \"bad\", \"sister\", \"nv\", \"builder\", \"mental_health_advocate\", \"influencers\", \"ninja\", \"location\", \"government\", \"services\", \"scrub\", \"mummy\", \"nullwhen\", \"nullmom\", \"happiness\", \"begin\", \"item\", \"los_angeles_ca\", \"pins\", \"culinary\", \"cooking\", \"celeb\", \"interiors\", \"inq\", \"minas\", \"mom\", \"family\", \"link\", \"collaboration\", \"client\", \"food\", \"hair\", \"hello\", \"shop\", \"motherhood\", \"youtube\", \"beauty\", \"celebritiesi\", \"italian\", \"personal\", \"international\", \"fashion\", \"work\", \"founder\", \"fitness\", \"mother\", \"thing\", \"world\", \"digital\", \"model\", \"wellness\", \"blog\", \"mama\", \"host\", \"owner\", \"photographer\", \"blogger\", \"currently\", \"home\", \"lifestyle\", \"stylist\", \"travel\", \"girl\", \"twitter\", \"video\", \"la\", \"base\", \"content_creator\", \"personal_goods_general_merchandise\", \"style\", \"business\", \"wife\", \"general\", \"london\", \"tee\", \"science\", \"promise\", \"custom\", \"storesstyle\", \"tarot\", \"shower\", \"brunch\", \"goofy\", \"nullpost\", \"manager\", \"adcmanagement\", \"interestwifey\", \"cancun\", \"united_kingdom\", \"nulllike\", \"account\", \"mio\", \"dna\", \"broadcaster\", \"dfw\", \"fairytale\", \"espoo\", \"vocalist\", \"snacker\", \"profile\", \"texture\", \"celebritiesf\", \"straight\", \"happily\", \"collaborate\", \"travel\", \"celebritieswife\", \"mix\", \"nyc\", \"marketing\", \"online\", \"mia\", \"brand_ambassador\", \"break\", \"big\", \"artist\", \"help\", \"study\", \"movie\", \"girl\", \"ig\", \"management\", \"creative\", \"lifestyle\", \"tag\", \"ca\", \"dancer\", \"fun\", \"content_creator\", \"wife\", \"mommy\", \"video\", \"dog\", \"enthusiast\", \"business\", \"model\", \"fashion\", \"blog\", \"personal_goods_general_merchandise\", \"base\", \"home\", \"blogger\", \"style\", \"world\", \"beauty\", \"photographer\", \"mama\", \"london\", \"youtube\", \"general\", \"ambassador\", \"food\", \"fitness\", \"mom\", \"la\", \"follow\", \"twitter\", \"family\", \"photographers\", \"marriage\", \"embajador\", \"hellobabybrown\", \"celebritiesnj\", \"monday\", \"nullhere\", \"monmode\", \"theknitshow\", \"flywheel\", \"phreshaf\", \"von\", \"fake\", \"ex\", \"island\", \"ahora\", \"piace\", \"clothe\", \"suchmaschine\", \"bama\", \"inquiry\", \"nullworld\", \"istanbul\", \"nontoxic\", \"post\", \"thejuicyvlog\", \"hip_hop\", \"whatskickinkw\", \"babybae\", \"binge\", \"ny\", \"promotion\", \"taste\", \"outfit\", \"naples\", \"general\", \"actress\", \"handmade\", \"finalist\", \"room\", \"chief\", \"style\", \"blogger\", \"la\", \"brand\", \"year_old\", \"personal_goods_general_merchandise\", \"stores\", \"writer\", \"usa\", \"youtuber\", \"foodie\", \"travel\", \"lifestyle\", \"follow\", \"pro\", \"good\", \"adventure\", \"wife\", \"london\", \"art\", \"traveler\", \"woman\", \"blog\", \"twitter\", \"food\", \"share\", \"fashion\", \"shop\", \"youtube\", \"beauty\", \"mom\", \"video\", \"base\", \"business\", \"ambassador\", \"snapchat\", \"photographer\", \"nyc\", \"mama\", \"fitness\", \"model\", \"home\", \"girl\"], \"Freq\": [2888.0, 3043.0, 2815.0, 1195.0, 1053.0, 2852.0, 1931.0, 784.0, 847.0, 822.0, 515.0, 686.0, 905.0, 1900.0, 695.0, 516.0, 882.0, 1977.0, 800.0, 563.0, 797.0, 490.0, 584.0, 1470.0, 460.0, 669.0, 738.0, 635.0, 347.0, 863.0, 29.076740339689486, 18.112936245270525, 3.725265111410561, 5.555272767784768, 31.681389249725527, 47.45330728507928, 9.656998877805014, 13.364554677627451, 17.37482363527555, 13.31398522505727, 14.433532752453894, 18.451216073463133, 8.368354116583276, 112.06311261318518, 4.782180674591356, 57.796689617315295, 4.764564392656846, 24.78130981886421, 47.64017218242579, 11.183943598193554, 13.034011982346872, 37.65834509752527, 3.535721026727898, 17.51968847825215, 56.531726404691995, 11.11048618331741, 40.22950066474336, 5.843383270949619, 4.106114842281415, 1017.8659105978505, 481.52931893520065, 246.2239783163153, 284.28571066197816, 18.556932437688843, 1205.7785232415797, 157.6305120901361, 255.44618193454008, 542.2858800246494, 177.2870603685749, 901.7179545894185, 1197.6148116890529, 265.4885723242621, 73.53314568234238, 215.9697052995394, 67.66311458394647, 1647.883222071278, 222.4032226783481, 385.69367223193734, 484.14775357283173, 180.2245940537732, 341.1277439783718, 434.1977944689339, 206.37261951929946, 628.6243554625332, 138.92572318921182, 1072.6475751625844, 497.2823509505519, 225.14551546297844, 313.581811590493, 474.8789217583297, 1451.337670973537, 223.0475027121274, 479.09743976294993, 1492.8421860547692, 254.37746794389165, 1274.5718647570302, 466.58490733785356, 369.68430250780676, 471.19808981018656, 434.4232316613702, 420.1382729342112, 395.2688630330558, 575.112172884135, 510.51178389086084, 418.39819827771214, 405.30914074935384, 380.7909467998376, 354.6250383006819, 4.254760864027564, 21.165050065553988, 3.043724911093482, 12.507335187228833, 2.712620709678718, 2.718259127314362, 1.8532813678290374, 9.68546335472787, 1.7741995203854626, 1.1671441556161435, 75.9684972737943, 1.487374325126181, 1.230045186109857, 2.668522699599396, 4.239702853167032, 1.1992238437491973, 104.3933500557428, 4.399802260443411, 3.472937114850573, 5.269787522736111, 5.949945228465893, 2.865357010769707, 1.1549537132033154, 1.1630559834742549, 2.3224565429868838, 12.751680885441814, 2.643735029825301, 5.5766997985651345, 4.74706222802206, 5.136235312624997, 28.97322278193569, 1019.1281605229625, 72.39322786412909, 15.31900753415474, 242.67728799587667, 128.09793665570183, 88.45245526662897, 25.129018751578762, 77.45890954589267, 11.011342728129765, 62.456309033149765, 156.28701608521865, 68.52353905537109, 13.589586210752595, 18.610254782202112, 288.0094345025861, 55.567768918881235, 104.71266230473093, 116.13486513035097, 932.0300058247708, 109.609731957165, 83.24653165360384, 50.40940131979565, 90.31147177135342, 229.79993909603726, 260.16354619576805, 80.45010212929726, 272.41329161626686, 116.58221443495351, 141.03762120140837, 236.72292254793024, 309.3537287482753, 747.4793750972968, 516.1133258945147, 334.92542242733293, 232.59613503420707, 245.5202011614039, 692.648681924272, 281.5081589680074, 203.6875359805239, 472.3235274139079, 224.45801526364363, 222.37173006537688, 187.93675907165152, 317.22226888188294, 200.83485466745827, 171.74873014981682, 360.3978844684627, 192.26037475827297, 275.3867581971548, 182.3439637283484, 153.98144659226708, 160.64166687537775, 162.6928504478164, 3.296321253012109, 4.548380186806317, 0.9457175894576383, 0.47603743744552, 4.981637806732508, 4.107827410419128, 1.1570233543208854, 0.6881627738357806, 0.4686135723633922, 1.3741615625512418, 0.47085131706788685, 3.3845199244293016, 1.8138211931528299, 13.543983429660646, 20.84401864854774, 0.9162776313403072, 1.1636572690825429, 18.052422245659265, 0.4518999841753248, 1.34738176792952, 76.37274020608328, 1.1498973383468827, 5.852678944553917, 1.130974978021304, 149.5288054253191, 0.6754021186726665, 9.19670868733313, 0.44938548659218236, 0.4526156189348549, 1.340212385767836, 64.41798448357575, 21.268634659838153, 11.504080462483016, 36.907435746622106, 8.96144501880723, 202.76204767426148, 59.2740301251132, 11.598730935383685, 11.625461309848506, 6.22176992696092, 6.512204281845249, 261.8922137458285, 671.4319617346299, 205.32889108759386, 82.55435576136026, 37.41432050470312, 285.8861664477315, 56.419802568980465, 119.80448669038677, 39.89338185854096, 125.01323680496587, 78.73311015749421, 594.5300858390224, 618.7559258243318, 128.43313538421694, 45.02724659777053, 131.31063785744396, 103.99654412820469, 182.4370790496176, 152.55153199481023, 88.87079741188931, 78.37041364918868, 62.4888627285114, 342.6379973524508, 138.70841626265062, 334.43883749738154, 87.23308457720339, 457.44805926470843, 167.751432668153, 251.68068091618505, 307.8727435413263, 241.2261116157383, 161.39943222633025, 144.91263066727544, 145.017448843257, 122.6728563186184, 107.16013791292754, 135.37474597316105, 120.93922093619317, 133.5994948650123, 129.06157000660005, 139.896714051313, 129.79846012851266, 128.22162501990414], \"Total\": [2888.0, 3043.0, 2815.0, 1195.0, 1053.0, 2852.0, 1931.0, 784.0, 847.0, 822.0, 515.0, 686.0, 905.0, 1900.0, 695.0, 516.0, 882.0, 1977.0, 800.0, 563.0, 797.0, 490.0, 584.0, 1470.0, 460.0, 669.0, 738.0, 635.0, 347.0, 863.0, 41.578994363285986, 25.903569885631775, 5.370592361285527, 8.030261930841279, 46.086664349304876, 69.53637249001463, 14.15165928866108, 19.669113966282247, 25.585337899240038, 19.611895665574036, 21.28180338640904, 27.249833846853285, 12.38517502081708, 166.16153577586937, 7.0994852951303375, 85.84977071254308, 7.089823348975594, 36.98762721408211, 71.17805569902636, 16.711975061522054, 19.48283292467448, 56.321551827783225, 5.293996510741767, 26.302104112666328, 84.97744125178063, 16.710102341919608, 60.51420965611588, 8.794620817721915, 6.184502769798364, 1534.4787804107436, 729.5880892674602, 371.3632469134701, 438.97499896230624, 27.992433232443233, 1900.6152452074239, 243.32781856345105, 399.6236037539802, 863.4799079201564, 277.8761214450523, 1470.6209043874865, 1977.8110826442871, 421.9683922726796, 113.84689376057563, 345.8777176285279, 104.70949543894136, 2852.810656433283, 357.60130025013325, 635.0106882591144, 805.4696983377048, 287.9972464843385, 560.7904288590821, 721.2280207392587, 333.39636613625566, 1077.8747982621214, 220.38550297228218, 1931.39889840955, 853.2535758809411, 368.8732192178534, 526.9974564127663, 834.7116829951344, 2815.418314632439, 367.9992110470904, 854.4161010528665, 3043.628117703872, 428.3384664548987, 2888.230111119015, 882.8159668603439, 669.0343856458352, 905.0108136527836, 822.0960864773125, 797.6470386356937, 738.9752737997909, 1195.9237617591994, 1053.9121566046967, 800.1385696688994, 847.9097659947396, 784.3878491415574, 695.1133293671437, 10.102043999280083, 52.83187545370425, 7.729964246561541, 31.76766059393788, 6.92714738815069, 6.977321743727386, 4.769295287811451, 24.96208840514691, 4.585336587485366, 3.020848630471279, 196.88747161984372, 3.9071994487575497, 3.23181183060035, 7.058798531500074, 11.227774797944777, 3.1795848138073195, 277.08191996791385, 11.699224262864782, 9.252486779401787, 14.065591739384507, 15.905338963625441, 7.678932555270353, 3.0966776532632667, 3.1277383786836546, 6.249914818231742, 34.33817998819573, 7.128989368775732, 15.062744665516583, 12.835238256075838, 13.91072889904799, 78.70776775952115, 2888.230111119015, 200.6408130995848, 41.94602268650268, 686.5422909544984, 365.21427040653634, 251.05168526375374, 69.71080011858078, 220.09858254738964, 30.073245392704674, 177.87269990097445, 460.79078330157824, 198.00118655497573, 37.361593264008995, 51.729823095598235, 882.8159668603439, 160.51152910092856, 311.18829577417404, 347.04238321799346, 3043.628117703872, 332.03324067881726, 249.02901408960975, 146.9372907656558, 272.4720244236649, 738.9752737997909, 847.9097659947396, 244.8414680510751, 905.0108136527836, 364.0528411524441, 448.7978673724152, 800.1385696688994, 1077.8747982621214, 2852.810656433283, 1931.39889840955, 1195.9237617591994, 797.6470386356937, 854.4161010528665, 2815.418314632439, 1053.9121566046967, 721.2280207392587, 1977.8110826442871, 834.7116829951344, 853.2535758809411, 695.1133293671437, 1470.6209043874865, 784.3878491415574, 635.3422244308478, 1900.6152452074239, 805.4696983377048, 1534.4787804107436, 822.0960864773125, 563.5941505419198, 669.0343856458352, 729.5880892674602, 10.227850787693718, 14.244113194054087, 3.0363867786368512, 1.5514304497608644, 16.272201380458274, 13.505988668230883, 3.8198877970286134, 2.2752458066373435, 1.554166363036997, 4.5705655966062215, 1.5688720401837277, 11.308771640774332, 6.064418952093803, 45.315457414343484, 69.74628220790976, 3.0884572130106513, 3.923233862158919, 61.0045451992907, 1.5340739569563953, 4.608566444989027, 262.54474851275427, 3.9573542763170737, 20.151410760371725, 3.895056004590118, 515.6636636940304, 2.3305721513172033, 31.751388033221538, 1.5521492387187878, 1.5651018489969484, 4.656130165825909, 225.9956085508499, 74.05513452763697, 40.24561825565674, 135.31957732110274, 32.09704654648756, 784.3878491415574, 223.35272304223523, 41.967158289278224, 42.289900108247906, 22.215296661989953, 23.288776679716392, 1053.9121566046967, 2815.418314632439, 822.0960864773125, 321.3215072105313, 142.60264426852925, 1195.9237617591994, 221.19586059390787, 490.0696452411149, 154.06546497909312, 516.7019079098902, 321.0083168377584, 2888.230111119015, 3043.628117703872, 563.5941505419198, 181.82808871516454, 584.5724515792222, 453.2314199800844, 847.9097659947396, 695.1133293671437, 388.5337711025233, 338.05768906409196, 262.1983852901849, 1931.39889840955, 669.0343856458352, 1900.6152452074239, 389.60955262699633, 2852.810656433283, 863.4799079201564, 1470.6209043874865, 1977.8110826442871, 1534.4787804107436, 905.0108136527836, 797.6470386356937, 800.1385696688994, 635.3422244308478, 534.7688720216321, 834.7116829951344, 686.5422909544984, 853.2535758809411, 805.4696983377048, 1077.8747982621214, 854.4161010528665, 882.8159668603439], \"Category\": [\"Default\", \"Default\", \"Default\", \"Default\", \"Default\", \"Default\", \"Default\", \"Default\", \"Default\", \"Default\", \"Default\", \"Default\", \"Default\", \"Default\", \"Default\", \"Default\", \"Default\", \"Default\", \"Default\", \"Default\", \"Default\", \"Default\", \"Default\", \"Default\", \"Default\", \"Default\", \"Default\", \"Default\", \"Default\", \"Default\", \"Topic1\", \"Topic1\", \"Topic1\", \"Topic1\", \"Topic1\", \"Topic1\", \"Topic1\", \"Topic1\", \"Topic1\", \"Topic1\", \"Topic1\", \"Topic1\", \"Topic1\", \"Topic1\", \"Topic1\", \"Topic1\", \"Topic1\", \"Topic1\", \"Topic1\", \"Topic1\", \"Topic1\", \"Topic1\", \"Topic1\", \"Topic1\", \"Topic1\", \"Topic1\", \"Topic1\", \"Topic1\", \"Topic1\", \"Topic1\", \"Topic1\", \"Topic1\", \"Topic1\", \"Topic1\", \"Topic1\", \"Topic1\", \"Topic1\", \"Topic1\", \"Topic1\", \"Topic1\", \"Topic1\", \"Topic1\", \"Topic1\", \"Topic1\", \"Topic1\", \"Topic1\", \"Topic1\", \"Topic1\", \"Topic1\", \"Topic1\", \"Topic1\", \"Topic1\", \"Topic1\", \"Topic1\", \"Topic1\", \"Topic1\", \"Topic1\", \"Topic1\", \"Topic1\", \"Topic1\", \"Topic1\", \"Topic1\", \"Topic1\", \"Topic1\", \"Topic1\", \"Topic1\", \"Topic1\", \"Topic1\", \"Topic1\", \"Topic1\", \"Topic1\", \"Topic1\", \"Topic1\", \"Topic1\", \"Topic1\", \"Topic1\", \"Topic1\", \"Topic1\", \"Topic2\", \"Topic2\", \"Topic2\", \"Topic2\", \"Topic2\", \"Topic2\", \"Topic2\", \"Topic2\", \"Topic2\", \"Topic2\", \"Topic2\", \"Topic2\", \"Topic2\", \"Topic2\", \"Topic2\", \"Topic2\", \"Topic2\", \"Topic2\", \"Topic2\", \"Topic2\", \"Topic2\", \"Topic2\", \"Topic2\", \"Topic2\", \"Topic2\", \"Topic2\", \"Topic2\", \"Topic2\", \"Topic2\", \"Topic2\", \"Topic2\", \"Topic2\", \"Topic2\", \"Topic2\", \"Topic2\", \"Topic2\", \"Topic2\", \"Topic2\", \"Topic2\", \"Topic2\", \"Topic2\", \"Topic2\", \"Topic2\", \"Topic2\", \"Topic2\", \"Topic2\", \"Topic2\", \"Topic2\", \"Topic2\", \"Topic2\", \"Topic2\", \"Topic2\", \"Topic2\", \"Topic2\", \"Topic2\", \"Topic2\", \"Topic2\", \"Topic2\", \"Topic2\", \"Topic2\", \"Topic2\", \"Topic2\", \"Topic2\", \"Topic2\", \"Topic2\", \"Topic2\", \"Topic2\", \"Topic2\", \"Topic2\", \"Topic2\", \"Topic2\", \"Topic2\", \"Topic2\", \"Topic2\", \"Topic2\", \"Topic2\", \"Topic2\", \"Topic2\", \"Topic2\", \"Topic2\", \"Topic2\", \"Topic2\", \"Topic2\", \"Topic2\", \"Topic3\", \"Topic3\", \"Topic3\", \"Topic3\", \"Topic3\", \"Topic3\", \"Topic3\", \"Topic3\", \"Topic3\", \"Topic3\", \"Topic3\", \"Topic3\", \"Topic3\", \"Topic3\", \"Topic3\", \"Topic3\", \"Topic3\", \"Topic3\", \"Topic3\", \"Topic3\", \"Topic3\", \"Topic3\", \"Topic3\", \"Topic3\", \"Topic3\", \"Topic3\", \"Topic3\", \"Topic3\", \"Topic3\", \"Topic3\", \"Topic3\", \"Topic3\", \"Topic3\", \"Topic3\", \"Topic3\", \"Topic3\", \"Topic3\", \"Topic3\", \"Topic3\", \"Topic3\", \"Topic3\", \"Topic3\", \"Topic3\", \"Topic3\", \"Topic3\", \"Topic3\", \"Topic3\", \"Topic3\", \"Topic3\", \"Topic3\", \"Topic3\", \"Topic3\", \"Topic3\", \"Topic3\", \"Topic3\", \"Topic3\", \"Topic3\", \"Topic3\", \"Topic3\", \"Topic3\", \"Topic3\", \"Topic3\", \"Topic3\", \"Topic3\", \"Topic3\", \"Topic3\", \"Topic3\", \"Topic3\", \"Topic3\", \"Topic3\", \"Topic3\", \"Topic3\", \"Topic3\", \"Topic3\", \"Topic3\", \"Topic3\", \"Topic3\", \"Topic3\", \"Topic3\", \"Topic3\", \"Topic3\", \"Topic3\", \"Topic3\", \"Topic3\"], \"logprob\": [30.0, 29.0, 28.0, 27.0, 26.0, 25.0, 24.0, 23.0, 22.0, 21.0, 20.0, 19.0, 18.0, 17.0, 16.0, 15.0, 14.0, 13.0, 12.0, 11.0, 10.0, 9.0, 8.0, 7.0, 6.0, 5.0, 4.0, 3.0, 2.0, 1.0, -8.749, -9.2223, -10.8038, -10.4042, -8.6632, -8.2592, -9.8513, -9.5263, -9.2639, -9.5301, -9.4494, -9.2038, -9.9945, -7.3999, -10.554, -8.062, -10.5577, -8.9088, -8.2553, -9.7045, -9.5514, -8.4904, -10.856, -9.2556, -8.0841, -9.711, -8.4243, -10.3536, -10.7065, -5.1935, -5.942, -6.6127, -6.469, -9.1981, -5.0241, -7.0587, -6.5759, -5.8231, -6.9412, -5.3146, -5.0308, -6.5374, -7.8212, -6.7438, -7.9044, -4.7117, -6.7144, -6.1639, -5.9365, -6.9247, -6.2867, -6.0454, -6.7893, -5.6754, -7.185, -5.1411, -5.9098, -6.7022, -6.3709, -5.9559, -4.8387, -6.7116, -5.947, -4.8105, -6.5801, -4.9686, -5.9735, -6.2063, -5.9637, -6.0449, -6.0784, -6.1394, -5.7644, -5.8835, -6.0825, -6.1143, -6.1767, -6.2479, -9.9728, -8.3685, -10.3078, -8.8945, -10.4229, -10.4209, -10.8039, -9.1502, -10.8475, -11.2663, -7.0905, -11.0238, -11.2138, -10.4393, -9.9764, -11.2392, -6.7727, -9.9393, -10.1759, -9.7589, -9.6375, -10.3682, -11.2768, -11.2698, -10.5782, -8.8752, -10.4487, -9.7023, -9.8633, -9.7845, -8.0545, -4.4942, -7.1387, -8.6918, -5.9291, -6.5681, -6.9384, -8.1968, -7.0711, -9.0219, -7.2864, -6.3692, -7.1937, -8.8116, -8.4971, -5.7579, -7.4033, -6.7696, -6.6661, -4.5835, -6.7239, -6.999, -7.5007, -6.9176, -5.9836, -5.8595, -7.0332, -5.8135, -6.6623, -6.4718, -5.954, -5.6864, -4.8041, -5.1745, -5.6069, -5.9716, -5.9175, -4.8803, -5.7807, -6.1043, -5.2632, -6.0072, -6.0165, -6.1847, -5.6613, -6.1184, -6.2748, -5.5336, -6.162, -5.8027, -6.215, -6.384, -6.3417, -6.329, -9.9333, -9.6114, -11.1819, -11.8684, -9.5204, -9.7132, -10.9803, -11.4999, -11.8841, -10.8083, -11.8793, -9.9069, -10.5307, -8.5202, -8.0891, -11.2136, -10.9746, -8.2328, -11.9204, -10.828, -6.7905, -10.9865, -9.3592, -11.003, -6.1186, -11.5186, -8.9073, -11.926, -11.9188, -10.8333, -6.9607, -8.0689, -8.6834, -7.5177, -8.9332, -5.8141, -7.044, -8.6752, -8.6729, -9.2981, -9.2524, -5.5582, -4.6167, -5.8015, -6.7127, -7.5041, -5.4705, -7.0933, -6.3403, -7.4399, -6.2977, -6.7601, -4.7384, -4.6984, -6.2707, -7.3189, -6.2486, -6.4818, -5.9197, -6.0986, -6.6389, -6.7647, -6.9911, -5.2894, -6.1937, -5.3137, -6.6575, -5.0005, -6.0036, -5.598, -5.3964, -5.6404, -6.0422, -6.15, -6.1493, -6.3166, -6.4518, -6.2181, -6.3308, -6.2313, -6.2658, -6.1852, -6.2601, -6.2724], \"loglift\": [30.0, 29.0, 28.0, 27.0, 26.0, 25.0, 24.0, 23.0, 22.0, 21.0, 20.0, 19.0, 18.0, 17.0, 16.0, 15.0, 14.0, 13.0, 12.0, 11.0, 10.0, 9.0, 8.0, 7.0, 6.0, 5.0, 4.0, 3.0, 2.0, 1.0, 0.2673, 0.2672, 0.2591, 0.2564, 0.2501, 0.2428, 0.2428, 0.2385, 0.2379, 0.2376, 0.2366, 0.235, 0.2329, 0.231, 0.2298, 0.2292, 0.2275, 0.2244, 0.2234, 0.2233, 0.2229, 0.2224, 0.2213, 0.2186, 0.2173, 0.2168, 0.2166, 0.2161, 0.2153, 0.2144, 0.2094, 0.214, 0.1904, 0.2138, 0.1699, 0.1908, 0.1774, 0.1597, 0.1755, 0.1358, 0.1232, 0.1615, 0.1878, 0.154, 0.1883, 0.0761, 0.15, 0.1263, 0.1159, 0.1562, 0.1278, 0.1175, 0.1453, 0.0857, 0.1635, 0.0368, 0.085, 0.1312, 0.1058, 0.0609, -0.0377, 0.1242, 0.0464, -0.0875, 0.1038, -0.1931, -0.0128, 0.0317, -0.0278, -0.0129, -0.0162, -0.0008, -0.1072, -0.0999, -0.0234, -0.1132, -0.0977, -0.0481, 0.4583, 0.4082, 0.391, 0.3909, 0.3855, 0.3803, 0.3777, 0.3763, 0.3735, 0.372, 0.3707, 0.3572, 0.357, 0.3502, 0.3491, 0.3479, 0.3468, 0.345, 0.3431, 0.3412, 0.3397, 0.3372, 0.3367, 0.3337, 0.333, 0.3324, 0.331, 0.3294, 0.3283, 0.3266, 0.3236, 0.2813, 0.3036, 0.3157, 0.2831, 0.2753, 0.2798, 0.3027, 0.2787, 0.3183, 0.2764, 0.2417, 0.2619, 0.3116, 0.3007, 0.2029, 0.2622, 0.2338, 0.2283, 0.1395, 0.2147, 0.2272, 0.2532, 0.2187, 0.1549, 0.1415, 0.21, 0.1224, 0.1843, 0.1654, 0.1051, 0.0747, -0.0164, 0.0033, 0.0502, 0.0906, 0.0759, -0.0794, 0.0029, 0.0586, -0.1091, 0.0096, -0.0217, 0.015, -0.2108, -0.0394, 0.0149, -0.3397, -0.1096, -0.3948, -0.183, 0.0255, -0.1037, -0.1776, 0.4854, 0.4761, 0.4512, 0.4363, 0.434, 0.4275, 0.4233, 0.4219, 0.4188, 0.4159, 0.4141, 0.4114, 0.4107, 0.41, 0.4099, 0.4026, 0.4024, 0.4001, 0.3955, 0.388, 0.3829, 0.3818, 0.3813, 0.3811, 0.3798, 0.3792, 0.3786, 0.3782, 0.3771, 0.3724, 0.3626, 0.3701, 0.3654, 0.3185, 0.3419, 0.2648, 0.2911, 0.3317, 0.3264, 0.345, 0.3434, 0.2254, 0.1843, 0.2305, 0.2587, 0.2797, 0.1866, 0.2515, 0.209, 0.2666, 0.1987, 0.2123, 0.0371, 0.0246, 0.1388, 0.2219, 0.1244, 0.1457, 0.0814, 0.1011, 0.1425, 0.1559, 0.1836, -0.1116, 0.0443, -0.1198, 0.1212, -0.2127, -0.0208, -0.1476, -0.2423, -0.2325, -0.1063, -0.0878, -0.0902, -0.0269, 0.0102, -0.2013, -0.1187, -0.2365, -0.2134, -0.4241, -0.2667, -0.3116]}, \"token.table\": {\"Topic\": [1, 2, 3, 1, 2, 3, 1, 2, 3, 1, 2, 3, 1, 2, 3, 1, 2, 3, 1, 2, 3, 1, 2, 3, 1, 1, 2, 3, 1, 2, 3, 1, 2, 3, 1, 2, 3, 1, 2, 3, 1, 2, 3, 1, 2, 3, 1, 2, 3, 1, 2, 3, 1, 2, 3, 1, 2, 3, 1, 2, 3, 1, 2, 3, 1, 2, 3, 1, 2, 3, 1, 2, 3, 1, 2, 3, 1, 2, 3, 1, 2, 3, 1, 2, 3, 1, 2, 3, 1, 2, 3, 1, 2, 3, 1, 2, 3, 1, 2, 3, 1, 2, 3, 1, 2, 3, 1, 2, 3, 1, 2, 3, 1, 2, 3, 1, 2, 3, 1, 2, 3, 1, 2, 3, 1, 2, 3, 1, 2, 3, 1, 2, 3, 1, 2, 3, 1, 2, 3, 1, 2, 3, 1, 2, 3, 1, 2, 3, 1, 2, 3, 1, 2, 3, 1, 2, 3, 1, 2, 3, 1, 2, 3, 1, 2, 3, 1, 2, 3, 1, 2, 3, 1, 2, 3, 1, 2, 3, 1, 2, 3, 1, 2, 3, 1, 2, 3, 1, 2, 3, 1, 2, 3, 1, 2, 3, 1, 2, 3, 1, 2, 3, 1, 2, 3, 1, 2, 3, 1, 2, 3, 1, 2, 3, 1, 2, 3, 1, 2, 3, 1, 2, 3, 1, 2, 3, 1, 1, 2, 3, 1, 2, 3, 1, 2, 3, 1, 2, 3, 1, 2, 3, 1, 2, 3, 1, 2, 3, 1, 2, 3, 1, 2, 1, 2, 3, 1, 2, 3, 1, 2, 3, 1, 2, 3, 1, 2, 3, 1, 2, 3, 1, 2, 3, 1, 2, 3, 1, 2, 3, 1, 2, 3, 1, 2, 3, 1, 2, 3, 1, 2, 3, 1, 2, 3, 1, 2, 3, 1, 2, 3, 1, 2, 3, 1, 2, 3, 1, 2, 3, 1, 2, 3, 1, 2, 3, 1, 2, 3, 1, 2, 3, 1, 2, 3, 1, 2, 3, 1, 2, 3, 1, 2, 3, 1, 2, 3, 1, 2, 3, 1, 2, 3, 1, 2, 3, 1, 2, 3, 1, 2, 3, 1, 2, 3, 1, 2, 3, 1, 2, 3, 1, 2, 3, 1, 2, 3, 1, 2, 3, 1, 2, 3, 1, 2, 3, 1, 2, 3, 1, 2, 3, 1, 2, 3, 1, 2, 3, 1, 2, 3, 1, 2, 3, 1, 2, 3, 1, 2, 3, 1, 2, 3, 1, 2, 3, 1, 1, 2, 3, 1, 2, 3, 1, 2, 3, 1, 2, 3, 1, 2, 3, 1, 2, 3, 1, 2, 3, 1, 2, 3, 1, 2, 3, 1, 2, 3, 1, 2, 3, 1, 2, 3, 1, 2, 3, 1, 2, 3, 1, 2, 3, 1, 2, 3, 1, 2, 3, 1, 2, 3, 1, 2, 3, 1, 2, 3, 1, 2, 3, 1, 2, 3, 1, 2, 3, 1, 2, 3, 1, 1, 2, 3, 1, 2, 3, 1, 2, 3, 1, 2, 3, 1, 2, 3, 1, 2, 3, 1, 1, 2, 3, 1, 2, 3, 1, 2, 3, 1, 2, 3, 1, 2, 3, 1, 2, 3, 1, 2, 3, 1, 2, 3, 1, 2, 3, 1, 2, 3, 1, 1, 2, 3, 1, 2, 3, 1, 2, 3, 1, 2, 3, 1, 2, 3, 1, 2, 3, 1, 2, 3, 1, 2, 3], \"Freq\": [0.47278436649771244, 0.3753402604256648, 0.14797067959088708, 0.44772232296039816, 0.2865422866946548, 0.2641561705466349, 0.5118755840928417, 0.25593779204642086, 0.25593779204642086, 0.5295308079270981, 0.24049524193355704, 0.2294633501017425, 0.32378625670685346, 0.32378625670685346, 0.32378625670685346, 0.5367186169713096, 0.27072024081837315, 0.1935964512829064, 0.5353459994217968, 0.23678765359041015, 0.2290663170602881, 0.46658919360217943, 0.3385484381485581, 0.19314622432834405, 0.6389360543154976, 0.6943440244983288, 0.1735860061245822, 0.15188775535900942, 0.433974430850321, 0.2169872154251605, 0.2169872154251605, 0.5265486858929154, 0.29210915193583165, 0.18178466536779223, 0.6057201370306319, 0.23864766667650938, 0.15572771469568833, 0.6582106519131059, 0.17951199597630163, 0.17951199597630163, 0.43851586018216554, 0.348563888862747, 0.20801393367615545, 0.4295412561012968, 0.2147706280506484, 0.2147706280506484, 0.555555872421582, 0.2671638678187664, 0.1775914857787536, 0.5153763447722092, 0.24614459471201997, 0.23833048059417805, 0.5197286712917752, 0.22407463672459768, 0.2583082617797446, 0.4816023745958338, 0.3498432343762189, 0.16810648924571558, 0.46553006890956283, 0.3657736255717994, 0.16626073889627244, 0.42657288162286394, 0.3554774013523866, 0.21328644081143197, 0.44066825745765403, 0.4006075067796855, 0.20030375338984274, 0.6609347031231418, 0.2033645240378898, 0.1016822620189449, 0.5224095123585532, 0.29619869480616534, 0.18121861074638806, 0.4979339473888784, 0.3332944970425557, 0.1646394503463227, 0.42500150508792983, 0.42500150508792983, 0.14166716836264326, 0.6582844183069408, 0.17953211408371114, 0.11968807605580743, 0.4647227418005185, 0.3983337786861587, 0.19916688934307936, 0.628009123083216, 0.21565596302102888, 0.15640981933393305, 0.43018150011383766, 0.24581800006505009, 0.3072725000813126, 0.41865859045491394, 0.35885022038992626, 0.21929735690495492, 0.42939138184572856, 0.2576348291074371, 0.30057396729201, 0.6787548564366672, 0.17861969906228087, 0.14289575924982467, 0.4098055303638371, 0.29505998186196275, 0.29505998186196275, 0.40656724121272025, 0.3684515623490277, 0.22869407318215515, 0.6469616736063514, 0.18224272495953558, 0.16857452058757041, 0.5345239739469504, 0.31124180761468, 0.1542676785568414, 0.6707662546712139, 0.17651743543979312, 0.16474960641047356, 0.44951281902075096, 0.334253121835943, 0.2161119322215149, 0.7471736353899254, 0.12452893923165423, 0.12452893923165423, 0.684355894984528, 0.15207908777433957, 0.15207908777433957, 0.6059795600253723, 0.21467437328253103, 0.17934821059046896, 0.4092211940365778, 0.4092211940365778, 0.18887132032457438, 0.469588078291475, 0.34028121615324275, 0.19055748104581594, 0.4401037925698145, 0.3772318222026982, 0.1886159111013491, 0.6178831592777766, 0.23095632652615924, 0.1499716406014021, 0.4323162081036356, 0.3242371560777267, 0.2161581040518178, 0.5246491124622767, 0.32138191705804386, 0.15657067754109827, 0.32933880724146014, 0.32933880724146014, 0.32933880724146014, 0.4991111061009642, 0.3141726158939105, 0.1849384902070537, 0.3229267337354936, 0.3229267337354936, 0.3229267337354936, 0.7447967991081236, 0.1861991997770309, 0.1861991997770309, 0.46341802992267644, 0.22067525234413166, 0.3089453532817843, 0.39067930059380224, 0.39067930059380224, 0.2604528670625348, 0.3297925185906689, 0.3297925185906689, 0.3297925185906689, 0.6606467499818288, 0.22341373495236122, 0.11650409491380799, 0.5776759127997673, 0.2618470308625159, 0.16019289572178014, 0.47292615846352754, 0.23646307923176377, 0.28375569507811654, 0.6008916300623838, 0.23837023341317704, 0.16015500057447832, 0.43758260498111184, 0.21879130249055592, 0.21879130249055592, 0.49858572827593495, 0.2732462710124341, 0.22711378369864652, 0.6345313724285018, 0.18941234997865722, 0.17573256914686533, 0.5918849762887245, 0.16198957245796672, 0.2460995427726802, 0.6078637842430988, 0.21102007017765606, 0.18109931395843618, 0.4844534050026145, 0.3303091397745099, 0.1871751792055556, 0.4857290948820415, 0.25625078233934473, 0.25880054136759695, 0.5289890730690381, 0.32622880737448173, 0.14499058105532522, 0.5234594944960905, 0.2514658355912592, 0.2240954045064963, 0.43617299664730075, 0.43617299664730075, 0.21808649832365037, 0.6459335444637277, 0.16148338611593194, 0.16148338611593194, 0.6493297845383813, 0.17671633376677465, 0.17671633376677465, 0.5003912787053081, 0.21445340515941774, 0.28593787354589034, 0.43132175485143864, 0.3594347957095322, 0.21566087742571932, 0.6743651470751904, 0.18264056066619738, 0.1545420128713978, 0.6381004465316452, 0.23522134107441037, 0.12511773461404807, 0.6445664387689044, 0.4898960540979769, 0.34848276013155055, 0.16161519310448721, 0.4409256056885379, 0.2519574889648788, 0.28345217508548864, 0.5606167760763701, 0.2879159225778435, 0.1521506907931693, 0.6099656691724127, 0.20603284825379273, 0.18434518001655137, 0.44856590927326406, 0.3488845961014276, 0.20559270841691268, 0.6628630001749244, 0.20395784620766902, 0.10197892310383451, 0.6822352122230768, 0.22741173740769227, 0.11370586870384614, 0.5294335567075624, 0.17901710190831246, 0.28947446266024995, 0.6188479109653098, 0.3094239554826549, 0.6610017750757716, 0.18177548814583722, 0.14872539939204862, 0.6494157928556962, 0.21010510945331345, 0.14325348371816826, 0.43013045355696067, 0.2724159539194084, 0.30109131748987245, 0.4466188549785673, 0.24812158609920407, 0.2977459033190449, 0.6499957755160614, 0.2020257140117488, 0.15810708053093384, 0.6672540923725652, 0.20530895149925082, 0.10265447574962541, 0.5279188249875912, 0.22138531370447373, 0.24936257862317096, 0.49053298966311515, 0.30621349388213215, 0.20337570033587962, 0.6624241952982479, 0.19388025228241404, 0.14541018921181054, 0.6605544863562013, 0.14678988585693362, 0.14678988585693362, 0.5107080888855992, 0.2704594949591342, 0.2201079932380188, 0.6746973186426787, 0.19530711855445962, 0.14204154076687972, 0.5824763165942466, 0.26018056797569966, 0.15704592841776466, 0.5366525742381715, 0.3374162891916647, 0.12532605027118976, 0.44695581326735234, 0.38600729327634975, 0.16760842997525713, 0.522980659510893, 0.3504791854313838, 0.12595345726440355, 0.421226644176387, 0.28081776278425796, 0.3510222034803225, 0.6644430519913107, 0.15633954164501426, 0.15633954164501426, 0.4877293036683653, 0.3586244879914451, 0.14344979519657802, 0.6467779462455336, 0.1616944865613834, 0.1616944865613834, 0.4273787635536489, 0.34190301084291913, 0.17095150542145957, 0.4529630888249576, 0.35760243854601914, 0.1907213005578769, 0.5835557163170982, 0.2866752247090355, 0.12988521507852743, 0.6634174502742264, 0.17921394776563088, 0.15705658695097108, 0.48602877995804217, 0.326742036946583, 0.18787667124428523, 0.5182886030746917, 0.14808245802134049, 0.29616491604268097, 0.4395129515601354, 0.4395129515601354, 0.4395129515601354, 0.6974675661133073, 0.21645545155240573, 0.09620242291218031, 0.6250059755685494, 0.19097404809039012, 0.1805572818309143, 0.6369744873346387, 0.19792992544296684, 0.16194266627151832, 0.4446177973099835, 0.36729296299520375, 0.19331208578694936, 0.6755987758453723, 0.18637207609527512, 0.13977905707145635, 0.4673327179270168, 0.24924411622774229, 0.28039963075621005, 0.6578389878811052, 0.18795399653745862, 0.14096549740309397, 0.5134714360058252, 0.2567357180029126, 0.2567357180029126, 0.523575588150978, 0.261787794075489, 0.261787794075489, 0.3145064713032685, 0.3145064713032685, 0.3145064713032685, 0.6759016969458879, 0.18925247514484858, 0.13518033938917756, 0.3310328064481639, 0.3310328064481639, 0.3310328064481639, 0.7052361890966505, 0.1410472378193301, 0.1410472378193301, 0.5053881609662978, 0.2526940804831489, 0.2526940804831489, 0.706630918397847, 0.1413261836795694, 0.1413261836795694, 0.46461079785262543, 0.25221729026285383, 0.2831913434530289, 0.4704735662400837, 0.3539476055614252, 0.17624551552647097, 0.47002273605942835, 0.3505254302816076, 0.1752627151408038, 0.46556456388055323, 0.25864697993364066, 0.2734268073584202, 0.5958283027348469, 0.252373134597881, 0.15370093159720574, 0.6244981650768948, 0.23418681190383553, 0.14166856522577706, 0.4807998790442772, 0.2801181903997093, 0.23914567896811004, 0.5690587656513834, 0.26835613369665234, 0.16173249129039316, 0.48886125773520905, 0.19554450309408364, 0.29331675464112544, 0.6374006129160743, 0.5097835281477252, 0.2548917640738626, 0.2548917640738626, 0.7555728440477458, 0.18889321101193646, 0.18889321101193646, 0.4576626522593821, 0.2540415569744875, 0.2908872789784208, 0.5939676359310087, 0.15949130964814123, 0.24748651497125362, 0.4659536412675407, 0.37858733352987683, 0.14561051289610646, 0.388100113313521, 0.388100113313521, 0.2587334088756807, 0.4996277467592987, 0.2160552418418589, 0.2835725049174398, 0.49515431494645934, 0.22507014315748153, 0.2700841717889778, 0.41641527602551714, 0.3974873089334482, 0.18927967092068962, 0.7042764076755802, 0.14085528153511603, 0.14085528153511603, 0.6740428792802785, 0.16249247982649573, 0.16249247982649573, 0.5390011579132132, 0.23870051279013726, 0.22330047970690262, 0.6276926597000996, 0.17718999434338603, 0.19456156241626701, 0.4193491657166328, 0.4193491657166328, 0.2096745828583164, 0.6759052610452058, 0.20133348201346554, 0.1150477040076946, 0.4800065420489643, 0.3200043613659762, 0.1600021806829881, 0.546030285749669, 0.2543154755546404, 0.2000864403260774, 0.48373418793962264, 0.26221105514484216, 0.25316929462260623, 0.4330787020832968, 0.4330787020832968, 0.14435956736109892, 0.46746307939860565, 0.3895525661655047, 0.15582102646620188, 0.45501271532700843, 0.3747163537987128, 0.1873581768993564, 0.4848601439860484, 0.2675744825911265, 0.24859756893218135, 0.5929890026039596, 0.2194526230109142, 0.1867681897965227, 0.6948849166146888, 0.15441887035881974, 0.15441887035881974, 0.6518590550771107, 0.46983247725760713, 0.33129213139959474, 0.19877527883975685, 0.4299644061415113, 0.4299644061415113, 0.1433214687138371, 0.4472536584146028, 0.2733216801422573, 0.2981691056097352, 0.39595947120058655, 0.39595947120058655, 0.19797973560029328, 0.4208170113339912, 0.4208170113339912, 0.1402723371113304, 0.4290791853128492, 0.4290791853128492, 0.4290791853128492, 0.643431761092744, 0.6080702923082305, 0.23894844331173867, 0.1533549710806681, 0.44144682069878927, 0.35281122375848334, 0.20600851632610165, 0.5058308257191579, 0.2632686753742986, 0.23072985032803697, 0.5530358497834607, 0.24064532923010046, 0.20776211654027307, 0.44532421516997656, 0.35625937213598124, 0.17812968606799062, 0.45435231062002823, 0.2855928809611606, 0.25962989178287327, 0.5204357703737934, 0.3005488949929338, 0.17789842681567036, 0.3197198355256496, 0.3197198355256496, 0.3197198355256496, 0.35370773476208534, 0.35370773476208534, 0.265280801071564, 0.6307129921221815, 0.195112652239236, 0.17242513453699923, 0.6442679447663447, 0.47764516490132347, 0.30663640215887433, 0.21464548151121204, 0.5148773126523658, 0.24790389127706502, 0.23646217321812357, 0.6208031118586999, 0.23769488517112383, 0.13982052068889636, 0.6017514399331713, 0.2828509072496934, 0.11508149657708114, 0.4938073646265842, 0.26118736641406104, 0.24486315601318223, 0.4417870392456907, 0.29452469283046046, 0.2594622293982628, 0.6133463745204158, 0.2155552114445364, 0.17135619332499424, 0.4799672619812539, 0.2786906682471797, 0.2419189828534546], \"Term\": [\"account\", \"account\", \"account\", \"actress\", \"actress\", \"actress\", \"adcmanagement\", \"adcmanagement\", \"adcmanagement\", \"adventure\", \"adventure\", \"adventure\", \"ahora\", \"ahora\", \"ahora\", \"ambassador\", \"ambassador\", \"ambassador\", \"art\", \"art\", \"art\", \"artist\", \"artist\", \"artist\", \"babybae\", \"bad\", \"bad\", \"bad\", \"bama\", \"bama\", \"bama\", \"base\", \"base\", \"base\", \"beauty\", \"beauty\", \"beauty\", \"begin\", \"begin\", \"begin\", \"big\", \"big\", \"big\", \"binge\", \"binge\", \"binge\", \"blog\", \"blog\", \"blog\", \"blogger\", \"blogger\", \"blogger\", \"brand\", \"brand\", \"brand\", \"brand_ambassador\", \"brand_ambassador\", \"brand_ambassador\", \"break\", \"break\", \"break\", \"broadcaster\", \"broadcaster\", \"broadcaster\", \"brunch\", \"brunch\", \"brunch\", \"builder\", \"builder\", \"builder\", \"business\", \"business\", \"business\", \"ca\", \"ca\", \"ca\", \"cancun\", \"cancun\", \"cancun\", \"celeb\", \"celeb\", \"celeb\", \"celebritiesf\", \"celebritiesf\", \"celebritiesf\", \"celebritiesi\", \"celebritiesi\", \"celebritiesi\", \"celebritiesnj\", \"celebritiesnj\", \"celebritiesnj\", \"celebritieswife\", \"celebritieswife\", \"celebritieswife\", \"chief\", \"chief\", \"chief\", \"client\", \"client\", \"client\", \"clothe\", \"clothe\", \"clothe\", \"collaborate\", \"collaborate\", \"collaborate\", \"collaboration\", \"collaboration\", \"collaboration\", \"content_creator\", \"content_creator\", \"content_creator\", \"cooking\", \"cooking\", \"cooking\", \"creative\", \"creative\", \"creative\", \"critic\", \"critic\", \"critic\", \"culinary\", \"culinary\", \"culinary\", \"currently\", \"currently\", \"currently\", \"custom\", \"custom\", \"custom\", \"dancer\", \"dancer\", \"dancer\", \"dfw\", \"dfw\", \"dfw\", \"digital\", \"digital\", \"digital\", \"dna\", \"dna\", \"dna\", \"dog\", \"dog\", \"dog\", \"embajador\", \"embajador\", \"embajador\", \"enthusiast\", \"enthusiast\", \"enthusiast\", \"espoo\", \"espoo\", \"espoo\", \"euch\", \"euch\", \"euch\", \"ex\", \"ex\", \"ex\", \"fairytale\", \"fairytale\", \"fairytale\", \"fake\", \"fake\", \"fake\", \"family\", \"family\", \"family\", \"fashion\", \"fashion\", \"fashion\", \"finalist\", \"finalist\", \"finalist\", \"fitness\", \"fitness\", \"fitness\", \"flywheel\", \"flywheel\", \"flywheel\", \"follow\", \"follow\", \"follow\", \"food\", \"food\", \"food\", \"foodie\", \"foodie\", \"foodie\", \"founder\", \"founder\", \"founder\", \"fun\", \"fun\", \"fun\", \"general\", \"general\", \"general\", \"girl\", \"girl\", \"girl\", \"good\", \"good\", \"good\", \"goofy\", \"goofy\", \"goofy\", \"government\", \"government\", \"government\", \"hair\", \"hair\", \"hair\", \"handmade\", \"handmade\", \"handmade\", \"happily\", \"happily\", \"happily\", \"happiness\", \"happiness\", \"happiness\", \"hello\", \"hello\", \"hello\", \"hellobabybrown\", \"help\", \"help\", \"help\", \"hip_hop\", \"hip_hop\", \"hip_hop\", \"home\", \"home\", \"home\", \"host\", \"host\", \"host\", \"ig\", \"ig\", \"ig\", \"influencers\", \"influencers\", \"influencers\", \"inq\", \"inq\", \"inq\", \"inquiry\", \"inquiry\", \"inquiry\", \"interestwifey\", \"interestwifey\", \"interiors\", \"interiors\", \"interiors\", \"international\", \"international\", \"international\", \"island\", \"island\", \"island\", \"istanbul\", \"istanbul\", \"istanbul\", \"italian\", \"italian\", \"italian\", \"item\", \"item\", \"item\", \"la\", \"la\", \"la\", \"lifestyle\", \"lifestyle\", \"lifestyle\", \"link\", \"link\", \"link\", \"location\", \"location\", \"location\", \"london\", \"london\", \"london\", \"los_angeles_ca\", \"los_angeles_ca\", \"los_angeles_ca\", \"mama\", \"mama\", \"mama\", \"management\", \"management\", \"management\", \"manager\", \"manager\", \"manager\", \"marketing\", \"marketing\", \"marketing\", \"marriage\", \"marriage\", \"marriage\", \"mental_health_advocate\", \"mental_health_advocate\", \"mental_health_advocate\", \"mia\", \"mia\", \"mia\", \"minas\", \"minas\", \"minas\", \"mio\", \"mio\", \"mio\", \"mix\", \"mix\", \"mix\", \"model\", \"model\", \"model\", \"mom\", \"mom\", \"mom\", \"mommy\", \"mommy\", \"mommy\", \"monday\", \"monday\", \"monday\", \"monmode\", \"monmode\", \"monmode\", \"morning\", \"morning\", \"morning\", \"mother\", \"mother\", \"mother\", \"motherhood\", \"motherhood\", \"motherhood\", \"movie\", \"movie\", \"movie\", \"mummy\", \"mummy\", \"mummy\", \"naples\", \"naples\", \"naples\", \"ninja\", \"ninja\", \"ninja\", \"nontoxic\", \"nontoxic\", \"nontoxic\", \"nullhere\", \"nullhere\", \"nullhere\", \"nulllike\", \"nulllike\", \"nulllike\", \"nullmom\", \"nullmom\", \"nullmom\", \"nullpost\", \"nullpost\", \"nullpost\", \"nullwhen\", \"nullwhen\", \"nullwhen\", \"nullworld\", \"nullworld\", \"nullworld\", \"nv\", \"nv\", \"nv\", \"ny\", \"ny\", \"ny\", \"nyc\", \"nyc\", \"nyc\", \"online\", \"online\", \"online\", \"outfit\", \"outfit\", \"outfit\", \"owner\", \"owner\", \"owner\", \"personal\", \"personal\", \"personal\", \"personal_goods_general_merchandise\", \"personal_goods_general_merchandise\", \"personal_goods_general_merchandise\", \"photographer\", \"photographer\", \"photographer\", \"photographers\", \"photographers\", \"photographers\", \"phreshaf\", \"piace\", \"piace\", \"piace\", \"pins\", \"pins\", \"pins\", \"post\", \"post\", \"post\", \"pro\", \"pro\", \"pro\", \"profile\", \"profile\", \"profile\", \"promise\", \"promise\", \"promise\", \"promotion\", \"promotion\", \"promotion\", \"room\", \"room\", \"room\", \"science\", \"science\", \"science\", \"scrub\", \"scrub\", \"scrub\", \"services\", \"services\", \"services\", \"share\", \"share\", \"share\", \"shop\", \"shop\", \"shop\", \"shower\", \"shower\", \"shower\", \"sister\", \"sister\", \"sister\", \"snacker\", \"snacker\", \"snacker\", \"snapchat\", \"snapchat\", \"snapchat\", \"stores\", \"stores\", \"stores\", \"storesstyle\", \"storesstyle\", \"storesstyle\", \"straight\", \"straight\", \"straight\", \"study\", \"study\", \"study\", \"style\", \"style\", \"style\", \"stylist\", \"stylist\", \"stylist\", \"subscribe_youtube_channel\", \"subscribe_youtube_channel\", \"subscribe_youtube_channel\", \"suchmaschine\", \"tag\", \"tag\", \"tag\", \"tarot\", \"tarot\", \"tarot\", \"taste\", \"taste\", \"taste\", \"tee\", \"tee\", \"tee\", \"texture\", \"texture\", \"texture\", \"thejuicyvlog\", \"thejuicyvlog\", \"thejuicyvlog\", \"theknitshow\", \"thing\", \"thing\", \"thing\", \"travel\", \"travel\", \"travel\", \"traveler\", \"traveler\", \"traveler\", \"twitter\", \"twitter\", \"twitter\", \"united_kingdom\", \"united_kingdom\", \"united_kingdom\", \"usa\", \"usa\", \"usa\", \"video\", \"video\", \"video\", \"vocalist\", \"vocalist\", \"vocalist\", \"von\", \"von\", \"von\", \"wellness\", \"wellness\", \"wellness\", \"whatskickinkw\", \"wife\", \"wife\", \"wife\", \"woman\", \"woman\", \"woman\", \"work\", \"work\", \"work\", \"world\", \"world\", \"world\", \"writer\", \"writer\", \"writer\", \"year_old\", \"year_old\", \"year_old\", \"youtube\", \"youtube\", \"youtube\", \"youtuber\", \"youtuber\", \"youtuber\"]}, \"R\": 30, \"lambda.step\": 0.01, \"plot.opts\": {\"xlab\": \"PC1\", \"ylab\": \"PC2\"}, \"topic.order\": [1, 3, 2]};\n\nfunction LDAvis_load_lib(url, callback){\n  var s = document.createElement('script');\n  s.src = url;\n  s.async = true;\n  s.onreadystatechange = s.onload = callback;\n  s.onerror = function(){console.warn(\"failed to load library \" + url);};\n  document.getElementsByTagName(\"head\")[0].appendChild(s);\n}\n\nif(typeof(LDAvis) !== \"undefined\"){\n   // already loaded: just create the visualization\n   !function(LDAvis){\n       new LDAvis(\"#\" + \"ldavis_el3306823450479641602906037796\", ldavis_el3306823450479641602906037796_data);\n   }(LDAvis);\n}else if(typeof define === \"function\" && define.amd){\n   // require.js is available: use it to load d3/LDAvis\n   require.config({paths: {d3: \"https://d3js.org/d3.v5\"}});\n   require([\"d3\"], function(d3){\n      window.d3 = d3;\n      LDAvis_load_lib(\"https://cdn.jsdelivr.net/gh/bmabey/pyLDAvis@3.4.0/pyLDAvis/js/ldavis.v3.0.0.js\", function(){\n        new LDAvis(\"#\" + \"ldavis_el3306823450479641602906037796\", ldavis_el3306823450479641602906037796_data);\n      });\n    });\n}else{\n    // require.js not available: dynamically load d3 & LDAvis\n    LDAvis_load_lib(\"https://d3js.org/d3.v5.js\", function(){\n         LDAvis_load_lib(\"https://cdn.jsdelivr.net/gh/bmabey/pyLDAvis@3.4.0/pyLDAvis/js/ldavis.v3.0.0.js\", function(){\n                 new LDAvis(\"#\" + \"ldavis_el3306823450479641602906037796\", ldavis_el3306823450479641602906037796_data);\n            })\n         });\n}\n</script>"
     },
     "execution_count": 23,
     "metadata": {},
     "output_type": "execute_result"
    }
   ],
   "source": [
    "pyLDAvis.enable_notebook()\n",
    "vis = pyLDAvis.gensim.prepare(lda_model, corpus, id2word, mds=\"mmds\", R=30,lambda_step=0.01)\n",
    "vis"
   ]
  },
  {
   "cell_type": "raw",
   "id": "724de6be69ae3cc8",
   "metadata": {
    "collapsed": false
   },
   "source": [
    "Evaluating the model"
   ]
  },
  {
   "cell_type": "code",
   "execution_count": 29,
   "id": "79addd879865edc5",
   "metadata": {
    "collapsed": false,
    "ExecuteTime": {
     "end_time": "2024-05-29T12:46:09.133767500Z",
     "start_time": "2024-05-29T12:45:49.123970Z"
    }
   },
   "outputs": [
    {
     "name": "stderr",
     "output_type": "stream",
     "text": [
      "2024-05-29 13:45:49,130 - INFO - using ParallelWordOccurrenceAccumulator<processes=11, batch_size=64> to estimate probabilities from sliding windows\n",
      "2024-05-29 13:46:03,124 - INFO - 1 batches submitted to accumulate stats from 64 documents (342328 virtual)\n",
      "2024-05-29 13:46:08,969 - INFO - 11 accumulators retrieved from output queue\n",
      "2024-05-29 13:46:08,991 - INFO - accumulated word occurrence stats for 342328 virtual documents\n"
     ]
    },
    {
     "name": "stdout",
     "output_type": "stream",
     "text": [
      "0.2759876709827538\n"
     ]
    }
   ],
   "source": [
    "coherence_model =gensim.models.CoherenceModel(model=lda_model, texts=texts,dictionary=id2word, coherence='c_v')\n",
    "coherence_score = coherence_model.get_coherence()\n",
    "print(coherence_score)"
   ]
  },
  {
   "cell_type": "raw",
   "id": "7fd7979704546419",
   "metadata": {
    "collapsed": false
   },
   "source": [
    "Saving and loading the model"
   ]
  },
  {
   "cell_type": "code",
   "execution_count": 13,
   "id": "a7356ea734ffb40",
   "metadata": {
    "ExecuteTime": {
     "end_time": "2024-05-29T11:10:13.182666400Z",
     "start_time": "2024-05-29T11:10:12.905087800Z"
    },
    "collapsed": false
   },
   "outputs": [],
   "source": [
    "# def Sort(sub_li):\n",
    "#     sub_li.sort(key=lambda  x:x[1])\n",
    "#     sub_li.reverse()\n",
    "#     return sub_li"
   ]
  },
  {
   "cell_type": "code",
   "execution_count": 14,
   "id": "c6f29cb4868bc675",
   "metadata": {
    "ExecuteTime": {
     "end_time": "2024-05-29T11:10:13.194648100Z",
     "start_time": "2024-05-29T11:10:12.949574100Z"
    },
    "collapsed": false
   },
   "outputs": [],
   "source": [
    "# # lda_model.save(\"../models/influencer_lda_model.model\")\n",
    "# new_model=gensim.models.ldamodel.LdaModel.load(\"../models/influencer_lda_model.model\")\n"
   ]
  },
  {
   "cell_type": "raw",
   "id": "6918043132ed1e91",
   "metadata": {
    "collapsed": false
   },
   "source": [
    "Testing the model on a new unseen doc (we need new data for this)"
   ]
  },
  {
   "cell_type": "code",
   "execution_count": 15,
   "id": "8f651e9cb30205b2",
   "metadata": {
    "ExecuteTime": {
     "end_time": "2024-05-29T11:10:13.194648100Z",
     "start_time": "2024-05-29T11:10:12.962872700Z"
    },
    "collapsed": false
   },
   "outputs": [],
   "source": [
    "# test_doc=corpus[-1]\n",
    "# vector=new_model[test_doc]\n",
    "# sorted_vector=Sort(vector)\n",
    "# print(sorted_vector)"
   ]
  },
  {
   "cell_type": "code",
   "execution_count": null,
   "id": "87cae4ea861d3cf7",
   "metadata": {
    "ExecuteTime": {
     "end_time": "2024-05-29T11:10:13.194648100Z",
     "start_time": "2024-05-29T11:10:12.965392100Z"
    },
    "collapsed": false
   },
   "outputs": [],
   "source": []
  },
  {
   "cell_type": "code",
   "execution_count": null,
   "id": "79658a7ee6e1f7db",
   "metadata": {
    "ExecuteTime": {
     "end_time": "2024-05-29T11:10:13.195728900Z",
     "start_time": "2024-05-29T11:10:12.967908200Z"
    },
    "collapsed": false
   },
   "outputs": [],
   "source": []
  },
  {
   "cell_type": "code",
   "execution_count": null,
   "id": "5dd58979cd828d89",
   "metadata": {
    "ExecuteTime": {
     "end_time": "2024-05-29T11:10:13.195728900Z",
     "start_time": "2024-05-29T11:10:12.969908300Z"
    },
    "collapsed": false
   },
   "outputs": [],
   "source": []
  }
 ],
 "metadata": {
  "kernelspec": {
   "display_name": "Python 3 (ipykernel)",
   "language": "python",
   "name": "python3"
  },
  "language_info": {
   "codemirror_mode": {
    "name": "ipython",
    "version": 3
   },
   "file_extension": ".py",
   "mimetype": "text/x-python",
   "name": "python",
   "nbconvert_exporter": "python",
   "pygments_lexer": "ipython3",
   "version": "3.11.3"
  }
 },
 "nbformat": 4,
 "nbformat_minor": 5
}
