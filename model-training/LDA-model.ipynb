{
 "cells": [
  {
   "cell_type": "code",
   "execution_count": 2,
   "id": "initial_id",
   "metadata": {
    "ExecuteTime": {
     "end_time": "2024-05-28T16:52:02.928566100Z",
     "start_time": "2024-05-28T16:52:00.639365800Z"
    }
   },
   "outputs": [
    {
     "name": "stderr",
     "output_type": "stream",
     "text": [
      "2024-05-28 17:52:01,886 - INFO - Note: NumExpr detected 12 cores but \"NUMEXPR_MAX_THREADS\" not set, so enforcing safe limit of 8.\n",
      "2024-05-28 17:52:01,887 - INFO - NumExpr defaulting to 8 threads.\n"
     ]
    }
   ],
   "source": [
    "from gensim.utils import simple_preprocess\n",
    "from gensim.models import CoherenceModel\n",
    "from  services.influencers_service import  InfluencersService\n",
    "from shared.mongo import MongoConnection\n",
    "#visualisation \n",
    "import pyLDAvis\n",
    "import pyLDAvis.gensim\n",
    "import gensim\n",
    "import gensim.corpora as corpora\n",
    "import json \n",
    "import glob\n",
    "import nltk\n",
    "from nltk.corpus import stopwords"
   ]
  },
  {
   "cell_type": "code",
   "execution_count": 3,
   "id": "d3935b9537cce65e",
   "metadata": {
    "collapsed": false,
    "ExecuteTime": {
     "end_time": "2024-05-28T16:52:33.425490600Z",
     "start_time": "2024-05-28T16:52:05.294920600Z"
    }
   },
   "outputs": [
    {
     "name": "stderr",
     "output_type": "stream",
     "text": [
      "2024-05-28 17:52:09,173 - INFO - MongoDB connection established successfully\n",
      "2024-05-28 17:52:29,142 - INFO - Fetched 20316 posts\n",
      "2024-05-28 17:52:33,392 - INFO - Fetched 38112 influencers\n"
     ]
    }
   ],
   "source": [
    "mongo_connection=MongoConnection()\n",
    "influencers_service = InfluencersService(mongo_connection)\n",
    "bios=[]\n",
    "posts=influencers_service.get_posts()\n",
    "influencers=influencers_service.get_influencers()\n",
    "for influencer in influencers:\n",
    "    info_string=\"\"\n",
    "    if influencer['Bio']!= 'NULL':\n",
    "        info_string+=influencer['Bio']\n",
    "    if influencer['Category']!= 'NULL':\n",
    "        info_string+=influencer['Category']\n",
    "    if info_string!= \"\":\n",
    "        bios.append(influencer['Bio']+\" \"+influencer['Category'])"
   ]
  },
  {
   "cell_type": "code",
   "execution_count": null,
   "outputs": [],
   "source": [],
   "metadata": {
    "collapsed": false
   },
   "id": "a580d567784b0475"
  },
  {
   "cell_type": "code",
   "execution_count": null,
   "id": "6c2fc0c4e6d7d0b1",
   "metadata": {
    "collapsed": false
   },
   "outputs": [],
   "source": [
    "def merge_content_posts_bios(posts,bios) : \n",
    "    #concatenation of captions of all posts + bios of all influencers\n",
    "    merged_content = \"\"\n",
    "    for post in posts:\n",
    "         #extract caption text\n",
    "         caption = post.get('caption')\n",
    "         if (caption):\n",
    "            merged_content += caption + \" \"\n",
    "    for bio in bios:\n",
    "        merged_content+=bio\n",
    "    return merged_content"
   ]
  },
  {
   "cell_type": "code",
   "execution_count": null,
   "id": "528624ed0c398732",
   "metadata": {
    "collapsed": false
   },
   "outputs": [],
   "source": [
    "def gen_words(text):\n",
    "    words=[]\n",
    "    new = gensim.utils.simple_preprocess(text, deacc=True)    \n",
    "    words.append(new)\n",
    "    return words"
   ]
  },
  {
   "cell_type": "code",
   "execution_count": null,
   "id": "8e08f19493148dbe",
   "metadata": {
    "collapsed": false
   },
   "outputs": [],
   "source": [
    "def gen_bow(words):\n",
    "    id2word = corpora.Dictionary(words)\n",
    "    corpus=[]\n",
    "    for word in words: \n",
    "        new = id2word.doc2bow(word)\n",
    "        corpus.append(new)\n",
    "    return  corpus"
   ]
  },
  {
   "cell_type": "code",
   "execution_count": null,
   "id": "2264c5dfce18f4f",
   "metadata": {
    "collapsed": false
   },
   "outputs": [],
   "source": [
    "def make_bigrams(texts,bigram):\n",
    "    return [bigram[doc] for doc in texts]\n",
    "\n",
    "def make_trigrams(texts,bigram,trigram):\n",
    "    return [trigram[bigram[doc]] for doc in texts]"
   ]
  },
  {
   "cell_type": "code",
   "execution_count": null,
   "id": "71cccd7184bb6b19",
   "metadata": {
    "collapsed": false
   },
   "outputs": [],
   "source": [
    "# posts=posts[0:3] #for rapid testing we only use three posts\n",
    "merge=merge_content_posts_bios(posts,bios)\n",
    "# print(merge)\n",
    "words=gen_words(merge)\n",
    "# print(words)\n",
    "\n",
    "##generate bigrams and tigrams##\n",
    "bigram_phrases = gensim.models.Phrases(words, min_count=5, threshold=100)\n",
    "trigram_phrases = gensim.models.Phrases(bigram_phrases[words], threshold=100)\n",
    "bigram = gensim.models.phrases.Phraser(bigram_phrases)\n",
    "trigram = gensim.models.phrases.Phraser(trigram_phrases)\n",
    "data_bigrams = make_bigrams(words,bigram)\n",
    "data_bigrams_trigrams = make_trigrams(data_bigrams,bigram,trigram)\n"
   ]
  },
  {
   "cell_type": "code",
   "execution_count": null,
   "id": "2fe33c7f3f3c0288",
   "metadata": {
    "collapsed": false
   },
   "outputs": [],
   "source": [
    "from gensim.parsing.preprocessing import STOPWORDS\n",
    "texts = data_bigrams_trigrams #for easier typing\n",
    "custom_stopwords = {\n",
    "    'com','gmail','creator','love','new','creators','dm','www','hotmail','dm','info','null','email','collab','contact','lover','celebrities','life','live','influencer',\n",
    "}  # Add any additional stop words to this set\n",
    "stopwords = STOPWORDS.union(custom_stopwords)\n",
    "filtered_texts = []\n",
    "for text in texts:\n",
    "    filtered_text = [word for word in text if word not in stopwords]\n",
    "    filtered_texts.append(filtered_text)\n",
    "texts=filtered_texts\n",
    "# print(texts)"
   ]
  },
  {
   "cell_type": "code",
   "execution_count": null,
   "id": "49e0dccc4dcdbeae",
   "metadata": {
    "collapsed": false
   },
   "outputs": [],
   "source": [
    "# # #TF-IDF REMOVAL\n",
    "# from gensim.models import TfidfModel\n",
    "# # \n",
    "id2word = corpora.Dictionary(texts)\n",
    "# \n",
    "corpus = [id2word.doc2bow(text) for text in texts]\n",
    "# tfidf = TfidfModel(corpus, id2word=id2word,smartirs='ntc')\n",
    "# \n",
    "# low_value =0.0005\n",
    "# words  = []\n",
    "# words_missing_in_tfidf = []\n",
    "# for i in range(0, len(corpus)):\n",
    "#     bow = corpus[i]\n",
    "#     low_value_words = []\n",
    "#     tfidf_ids = [id for id, value in tfidf[bow]]\n",
    "#     bow_ids = [id for id, value in bow]\n",
    "#     low_value_words = [id for id, value in tfidf[bow] if value < low_value]\n",
    "#     drops = low_value_words+words_missing_in_tfidf\n",
    "#     for item in drops:\n",
    "#         words.append(id2word[item])\n",
    "#     words_missing_in_tfidf = [id for id in bow_ids if id not in tfidf_ids] # The words with tf-idf socre 0 will be missing\n",
    "#     new_bow = [b for b in bow if b[0] not in low_value_words and b[0] not in words_missing_in_tfidf]\n",
    "#     corpus[i] = new_bow\n",
    "\n",
    "# print(corpus)"
   ]
  },
  {
   "cell_type": "code",
   "execution_count": null,
   "id": "bad2d2ca1e42c1d3",
   "metadata": {
    "collapsed": false
   },
   "outputs": [],
   "source": [
    "lda_model=gensim.models.ldamodel.LdaModel(\n",
    "    corpus=corpus,\n",
    "    id2word=id2word,\n",
    "    num_topics=3,\n",
    "    random_state=50,\n",
    "    chunksize=1000,\n",
    "    update_every=1,\n",
    "    iterations=10,\n",
    "    passes=1,\n",
    "    alpha=3,\n",
    "    eta=\"auto\",\n",
    ")"
   ]
  },
  {
   "cell_type": "code",
   "execution_count": null,
   "id": "d358152e6ac5c2d1",
   "metadata": {
    "collapsed": false
   },
   "outputs": [],
   "source": [
    "pyLDAvis.enable_notebook()\n",
    "vis = pyLDAvis.gensim.prepare(lda_model, corpus, id2word, mds=\"mmds\", R=30,lambda_step=0.01)\n",
    "vis"
   ]
  },
  {
   "cell_type": "raw",
   "id": "724de6be69ae3cc8",
   "metadata": {
    "collapsed": false
   },
   "source": [
    "Evaluating the model"
   ]
  },
  {
   "cell_type": "code",
   "execution_count": null,
   "id": "79addd879865edc5",
   "metadata": {
    "collapsed": false
   },
   "outputs": [],
   "source": [
    "coherence_model =gensim.models.CoherenceModel(model=lda_model, texts=texts,dictionary=id2word, coherence='c_v')\n",
    "coherence_score = coherence_model.get_coherence()\n",
    "print(coherence_score)"
   ]
  },
  {
   "cell_type": "raw",
   "id": "7fd7979704546419",
   "metadata": {
    "collapsed": false
   },
   "source": [
    "Saving and loading the model"
   ]
  },
  {
   "cell_type": "code",
   "execution_count": null,
   "id": "a7356ea734ffb40",
   "metadata": {
    "collapsed": false
   },
   "outputs": [],
   "source": [
    "# def Sort(sub_li):\n",
    "#     sub_li.sort(key=lambda  x:x[1])\n",
    "#     sub_li.reverse()\n",
    "#     return sub_li"
   ]
  },
  {
   "cell_type": "code",
   "execution_count": null,
   "id": "c6f29cb4868bc675",
   "metadata": {
    "collapsed": false
   },
   "outputs": [],
   "source": [
    "# # lda_model.save(\"../models/influencer_lda_model.model\")\n",
    "# new_model=gensim.models.ldamodel.LdaModel.load(\"../models/influencer_lda_model.model\")\n"
   ]
  },
  {
   "cell_type": "raw",
   "id": "6918043132ed1e91",
   "metadata": {
    "collapsed": false
   },
   "source": [
    "Testing the model on a new unseen doc (we need new data for this)"
   ]
  },
  {
   "cell_type": "code",
   "execution_count": null,
   "id": "8f651e9cb30205b2",
   "metadata": {
    "collapsed": false
   },
   "outputs": [],
   "source": [
    "# test_doc=corpus[-1]\n",
    "# vector=new_model[test_doc]\n",
    "# sorted_vector=Sort(vector)\n",
    "# print(sorted_vector)"
   ]
  },
  {
   "cell_type": "code",
   "execution_count": null,
   "id": "87cae4ea861d3cf7",
   "metadata": {
    "collapsed": false
   },
   "outputs": [],
   "source": []
  },
  {
   "cell_type": "code",
   "execution_count": null,
   "id": "79658a7ee6e1f7db",
   "metadata": {
    "collapsed": false
   },
   "outputs": [],
   "source": []
  },
  {
   "cell_type": "code",
   "execution_count": null,
   "id": "5dd58979cd828d89",
   "metadata": {
    "collapsed": false
   },
   "outputs": [],
   "source": []
  }
 ],
 "metadata": {
  "kernelspec": {
   "display_name": "Python 3 (ipykernel)",
   "language": "python",
   "name": "python3"
  },
  "language_info": {
   "codemirror_mode": {
    "name": "ipython",
    "version": 3
   },
   "file_extension": ".py",
   "mimetype": "text/x-python",
   "name": "python",
   "nbconvert_exporter": "python",
   "pygments_lexer": "ipython3",
   "version": "3.11.3"
  }
 },
 "nbformat": 4,
 "nbformat_minor": 5
}
