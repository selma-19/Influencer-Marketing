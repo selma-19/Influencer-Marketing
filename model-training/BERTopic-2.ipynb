{
 "cells": [
  {
   "cell_type": "code",
   "execution_count": null,
   "id": "initial_id",
   "metadata": {
    "collapsed": true
   },
   "outputs": [],
   "source": [
    "from bertopic import BERTopic\n",
    "import json\n",
    "import pandas as pd\n",
    "from  services.influencers_service import  InfluencersService\n",
    "from shared.mongo import MongoConnection\n",
    "from gensim.parsing.preprocessing import STOPWORDS"
   ]
  },
  {
   "cell_type": "raw",
   "source": [
    "Loading data to train the model : influencer bios"
   ],
   "metadata": {
    "collapsed": false
   },
   "id": "e5c015a8dcb5a0eb"
  },
  {
   "cell_type": "code",
   "execution_count": null,
   "outputs": [],
   "source": [
    "mongo_connection=MongoConnection()\n",
    "influencers_service = InfluencersService(mongo_connection)\n",
    "bios=[]\n",
    "posts=influencers_service.get_posts()\n",
    "influencers=influencers_service.get_influencers()\n",
    "custom_stopwords={'null','like','com','www','gmail','hotmail'}\n",
    "for influencer in influencers:\n",
    "    info_string=\"\"\n",
    "    if influencer['Bio']!= 'NULL':\n",
    "        info_string+=influencer['Bio']\n",
    "    if influencer['Category']!= 'NULL':\n",
    "        info_string+=influencer['Category']\n",
    "    if info_string!= \"\":\n",
    "        for stopword in custom_stopwords:\n",
    "            info_string=info_string.replace(stopword,\"\")\n",
    "        bios.append(info_string)"
   ],
   "metadata": {
    "collapsed": false
   },
   "id": "ee263790724fe78a"
  },
  {
   "cell_type": "raw",
   "source": [
    "Creating the model"
   ],
   "metadata": {
    "collapsed": false
   },
   "id": "9beef5809739ce02"
  },
  {
   "cell_type": "code",
   "execution_count": null,
   "outputs": [],
   "source": [
    "topic_model = BERTopic(embedding_model=\"all-MiniLM-L6-v2\")\n"
   ],
   "metadata": {
    "collapsed": false
   },
   "id": "a2e427a8acce9417"
  },
  {
   "cell_type": "raw",
   "source": [
    "Fitting thr model"
   ],
   "metadata": {
    "collapsed": false
   },
   "id": "4d1da2da64611d8e"
  },
  {
   "cell_type": "code",
   "execution_count": null,
   "outputs": [],
   "source": [
    "topics, probs = topic_model.fit_transform(bios)\n",
    "print(topics)\n",
    "print(probs)"
   ],
   "metadata": {
    "collapsed": false
   },
   "id": "781fd60dec895735"
  },
  {
   "cell_type": "raw",
   "source": [
    "Fine-tuning the model"
   ],
   "metadata": {
    "collapsed": false
   },
   "id": "f63c5c9383a745cb"
  },
  {
   "cell_type": "code",
   "execution_count": null,
   "outputs": [],
   "source": [
    "from sklearn.feature_extraction.text import CountVectorizer\n",
    "# representation_model = KeyBERTInspired()\n",
    "# topic_model = BERTopic(representation_model=representation_model)\n",
    "# df = pd.DataFrame({'topic': topics, 'document': bios})\n",
    "# topic_model.reduce_topics(bios, nr_topics=100)\n",
    "# topic_model.merge_topics(bios,[0,5])\n",
    "# vectorizer_model = CountVectorizer(ngram_range=(1, 3), stop_words=\"english\")\n",
    "# topic_model.update_topics(bios, vectorizer_model=vectorizer_model)"
   ],
   "metadata": {
    "collapsed": false
   },
   "id": "8b9cbb87a8c19e68"
  },
  {
   "cell_type": "raw",
   "source": [
    "Loading & saving the model"
   ],
   "metadata": {
    "collapsed": false
   },
   "id": "2bdb51d0c41c9010"
  },
  {
   "cell_type": "code",
   "execution_count": null,
   "outputs": [],
   "source": [
    "# topic_model.save(\"/models/bert_9\", serialization=\"safetensors\")\n",
    "topic_model=BERTopic.load(\"/models/bert_7\",embedding_model=\"all-MiniLM-L6-v2\")"
   ],
   "metadata": {
    "collapsed": false
   },
   "id": "a1ecb23364a335ba"
  },
  {
   "cell_type": "raw",
   "source": [
    "Visualizing the model"
   ],
   "metadata": {
    "collapsed": false
   },
   "id": "cf4e0784bb2e7899"
  },
  {
   "cell_type": "code",
   "execution_count": null,
   "outputs": [],
   "source": [
    "topic_model.visualize_topics()"
   ],
   "metadata": {
    "collapsed": false
   },
   "id": "8d5d145a91074e77"
  },
  {
   "cell_type": "code",
   "execution_count": null,
   "outputs": [],
   "source": [
    "topic_model.visualize_barchart()"
   ],
   "metadata": {
    "collapsed": false
   },
   "id": "cfdc6a622b69137d"
  },
  {
   "cell_type": "raw",
   "source": [
    "Playing around with the model"
   ],
   "metadata": {
    "collapsed": false
   },
   "id": "59c9abd5d8580995"
  },
  {
   "cell_type": "code",
   "execution_count": null,
   "outputs": [],
   "source": [
    "# topic_model.get_topic_info(30)\n",
    "topic_model.get_topic(topic=5)\n",
    "# topic_model.get_representative_docs(30)"
   ],
   "metadata": {
    "collapsed": false
   },
   "id": "a9e31cfd37cca89c"
  },
  {
   "cell_type": "raw",
   "source": [
    "Predicting category on unseen data"
   ],
   "metadata": {
    "collapsed": false
   },
   "id": "dbb6e6dd05a4d49"
  },
  {
   "cell_type": "code",
   "execution_count": null,
   "outputs": [],
   "source": [
    "new_topics, new_prob=topic_model.transform(documents=\"vogue\")\n",
    "print(\"topic_id:\",new_topics,\"probabilty of correct prediction:\",new_prob)\n",
    "#note : [-1] [.0] means the model couldn't fit the data in any cluster"
   ],
   "metadata": {
    "collapsed": false
   },
   "id": "dd1361093aaacc20"
  },
  {
   "cell_type": "raw",
   "source": [
    "Turn around to calculate the coherence score"
   ],
   "metadata": {
    "collapsed": false
   },
   "id": "ef0d570c2d77d607"
  },
  {
   "cell_type": "code",
   "execution_count": null,
   "outputs": [],
   "source": [
    "from bertopic import BERTopic\n",
    "import gensim.corpora as corpora\n",
    "from gensim.models.coherencemodel import CoherenceModel\n",
    "\n",
    "topic_model = BERTopic(verbose=True, n_gram_range=(1, 3))\n",
    "topics, _ = topic_model.fit_transform(bios)\n",
    "\n",
    "# Preprocess Documents\n",
    "documents = pd.DataFrame({\"Document\": bios,\n",
    "                          \"ID\": range(len(bios)),\n",
    "                          \"Topic\": topics})\n",
    "documents_per_topic = documents.groupby(['Topic'], as_index=False).agg({'Document': ' '.join})\n",
    "cleaned_docs = topic_model._preprocess_text(documents_per_topic.Document.values)\n",
    "\n",
    "# Extract vectorizer and analyzer from BERTopic\n",
    "vectorizer = topic_model.vectorizer_model\n",
    "analyzer = vectorizer.build_analyzer()\n",
    "\n",
    "# Extract features for Topic Coherence evaluation\n",
    "words = vectorizer.get_feature_names_out()\n",
    "tokens = [analyzer(doc) for doc in cleaned_docs]\n",
    "dictionary = corpora.Dictionary(tokens)\n",
    "corpus = [dictionary.doc2bow(token) for token in tokens]\n",
    "topic_words = [[words for words, _ in topic_model.get_topic(topic)] \n",
    "               for topic in range(len(set(topics))-1)]\n",
    "\n",
    "# Evaluate\n",
    "coherence_model = CoherenceModel(topics=topic_words, \n",
    "                                 texts=tokens, \n",
    "                                 corpus=corpus,\n",
    "                                 dictionary=dictionary, \n",
    "                                 coherence='c_v')\n",
    "coherence = coherence_model.get_coherence()\n",
    "print(coherence)"
   ],
   "metadata": {
    "collapsed": false
   },
   "id": "7d5c154f7676f29b"
  },
  {
   "cell_type": "code",
   "execution_count": null,
   "outputs": [],
   "source": [],
   "metadata": {
    "collapsed": false
   },
   "id": "da2af302a380bbd0"
  }
 ],
 "metadata": {
  "kernelspec": {
   "display_name": "Python 3",
   "language": "python",
   "name": "python3"
  },
  "language_info": {
   "codemirror_mode": {
    "name": "ipython",
    "version": 2
   },
   "file_extension": ".py",
   "mimetype": "text/x-python",
   "name": "python",
   "nbconvert_exporter": "python",
   "pygments_lexer": "ipython2",
   "version": "2.7.6"
  }
 },
 "nbformat": 4,
 "nbformat_minor": 5
}
