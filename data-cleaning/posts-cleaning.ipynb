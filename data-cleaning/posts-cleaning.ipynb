{
 "cells": [
  {
   "cell_type": "code",
   "execution_count": 287,
   "id": "initial_id",
   "metadata": {
    "collapsed": true,
    "ExecuteTime": {
     "end_time": "2024-05-01T21:40:36.105251700Z",
     "start_time": "2024-05-01T21:40:36.038006100Z"
    }
   },
   "outputs": [],
   "source": [
    "from deep_translator import GoogleTranslator\n",
    "import spacy\n",
    "import services.influencers_sevice as influencers_service\n",
    "from unidecode import unidecode\n",
    "import nltk\n",
    "from nltk.corpus import stopwords\n",
    "import json \n",
    "import glob\n",
    "import gensim\n",
    "import gensim.corpora as corpora\n",
    "from gensim.utils import simple_preprocess\n",
    "from gensim.models import CoherenceModel\n",
    "#visualisation \n",
    "import pyLDAvis\n",
    "import pyLDAvis.gensim"
   ]
  },
  {
   "cell_type": "code",
   "execution_count": 288,
   "outputs": [],
   "source": [
    "from pymongo import MongoClient\n",
    "client = MongoClient(\"localhost\", 27017)\n",
    "db = client.InfluencersMarketing\n",
    "collection = db.Influencers\n",
    "posts = db.posts_8"
   ],
   "metadata": {
    "collapsed": false,
    "ExecuteTime": {
     "end_time": "2024-05-01T21:40:36.140157900Z",
     "start_time": "2024-05-01T21:40:36.041035400Z"
    }
   },
   "id": "29d78a09832e072e"
  },
  {
   "cell_type": "code",
   "execution_count": 289,
   "outputs": [],
   "source": [
    "translator = GoogleTranslator(source='auto', target='en')\n",
    "influencers = influencers_service.get_influencers()\n",
    "posts=influencers_service.get_posts()\n",
    "stopwords_en = stopwords.words('english')"
   ],
   "metadata": {
    "collapsed": false,
    "ExecuteTime": {
     "end_time": "2024-05-01T21:40:36.140157900Z",
     "start_time": "2024-05-01T21:40:36.051981600Z"
    }
   },
   "id": "4bdfaac799918d2b"
  },
  {
   "cell_type": "code",
   "execution_count": 290,
   "outputs": [],
   "source": [
    "def translate_post(posts,key):\n",
    "    for post in posts:\n",
    "        content = post.get(key)\n",
    "        print(content)\n",
    "        try:\n",
    "            translated_content = translator.translate(content)\n",
    "            print(\"after tanslation\", translated_content)\n",
    "            influencers_service.update_post(post, key,translated_content)\n",
    "    \n",
    "        except Exception as e:\n",
    "            print(f\"An exception occurred: {e}. Skipping this caption.\")"
   ],
   "metadata": {
    "collapsed": false,
    "ExecuteTime": {
     "end_time": "2024-05-01T21:40:36.227734300Z",
     "start_time": "2024-05-01T21:40:36.057765100Z"
    }
   },
   "id": "4c9b547054853015"
  },
  {
   "cell_type": "code",
   "execution_count": 291,
   "outputs": [],
   "source": [
    "def translate_hashtags(posts):\n",
    "    updated_hashtags = []\n",
    "    for post in posts:\n",
    "        hashtags = post.get('hashtags', [])\n",
    "        translated_hashtags = []\n",
    "        for hashtag in hashtags:\n",
    "            try:\n",
    "                translated_hashtag = translator.translate(hashtag)\n",
    "                print(translated_hashtag)\n",
    "                translated_hashtags.append(translated_hashtag)\n",
    "                post['hashtags'] = translated_hashtags\n",
    "                updated_hashtags.append(hashtag)\n",
    "            except Exception as e:\n",
    "                print(f\"An exception occurred: {e}. Skipping this hashtag.\")\n",
    "                continue\n",
    "        influencers_service.update_post(post, 'hashtags', updated_hashtags)"
   ],
   "metadata": {
    "collapsed": false,
    "ExecuteTime": {
     "end_time": "2024-05-01T21:40:36.227734300Z",
     "start_time": "2024-05-01T21:40:36.071790500Z"
    }
   },
   "id": "ee4cdd02ce59e883"
  },
  {
   "cell_type": "code",
   "execution_count": 292,
   "outputs": [],
   "source": [
    "def lemmatize_text(text):\n",
    "    nlp = spacy.load(\"en_core_web_sm\", disable=[\"parser\", \"ner\"])\n",
    "    allowed_postags = [\"NOUN\", \"AD\", \"VERB\", \"ADV\"]\n",
    "    doc = nlp(text)\n",
    "    new_text = []\n",
    "    for word in doc:\n",
    "        print(word)\n",
    "        new_text.append(word.lemma_)\n",
    "    lemmatized_text = \" \".join(new_text)\n",
    "    return lemmatized_text"
   ],
   "metadata": {
    "collapsed": false,
    "ExecuteTime": {
     "end_time": "2024-05-01T21:40:36.228768400Z",
     "start_time": "2024-05-01T21:40:36.077094Z"
    }
   },
   "id": "b9c1d4b428e84f40"
  },
  {
   "cell_type": "code",
   "execution_count": 293,
   "outputs": [],
   "source": [
    "def lemmatize_post(posts,key):\n",
    "    for post in posts: \n",
    "        try:\n",
    "            content = post.get(key)\n",
    "            lemmatized_content = lemmatize_text(content)\n",
    "            influencers_service.update_post(post, key , lemmatized_content)\n",
    "        except Exception as e:\n",
    "            print(f\"An exception occurred: {e}. Skipping this hashtag.\")"
   ],
   "metadata": {
    "collapsed": false,
    "ExecuteTime": {
     "end_time": "2024-05-01T21:40:36.228768400Z",
     "start_time": "2024-05-01T21:40:36.082131900Z"
    }
   },
   "id": "e502647a6b1bd2fb"
  },
  {
   "cell_type": "code",
   "execution_count": 294,
   "outputs": [],
   "source": [
    "def lemmatize_hashtags(posts):\n",
    "    updated_hashtags = []\n",
    "    for post in posts:\n",
    "        hashtags = post.get('hashtags', [])\n",
    "        lemmatized_hashtags = []\n",
    "        for hashtag in hashtags:\n",
    "            try:\n",
    "                lemmatized_hashtag = lemmatize_text(hashtag)\n",
    "                lemmatized_hashtags.append(lemmatized_hashtag )\n",
    "                post['hashtags'] = lemmatized_hashtags\n",
    "                updated_hashtags.append(hashtag)\n",
    "            except Exception as e:\n",
    "                print(f\"An exception occurred: {e}. Skipping this hashtag.\")\n",
    "                continue\n",
    "        influencers_service.update_post(post, 'hashtags', updated_hashtags)"
   ],
   "metadata": {
    "collapsed": false,
    "ExecuteTime": {
     "end_time": "2024-05-01T21:40:36.228768400Z",
     "start_time": "2024-05-01T21:40:36.087798300Z"
    }
   },
   "id": "688ec6728117936a"
  },
  {
   "cell_type": "code",
   "execution_count": 295,
   "outputs": [],
   "source": [
    "def remove_emojis(text):\n",
    "    if(text):\n",
    "        print(\"before emoji removal :\",text)\n",
    "        return unidecode(text)\n",
    "    return text\n"
   ],
   "metadata": {
    "collapsed": false,
    "ExecuteTime": {
     "end_time": "2024-05-01T21:40:36.228768400Z",
     "start_time": "2024-05-01T21:40:36.096322900Z"
    }
   },
   "id": "eb47ecbec08729a8"
  },
  {
   "cell_type": "code",
   "execution_count": 296,
   "outputs": [],
   "source": [
    "def remove_hashtags_emojis(posts):\n",
    "    updated_hashtags = []\n",
    "    for post in posts:\n",
    "        hashtags = post.get('hashtags', [])\n",
    "        for hashtag in hashtags:\n",
    "            try:\n",
    "                updated_hashtag = remove_emojis(hashtag)\n",
    "                print(updated_hashtag)\n",
    "                updated_hashtags .append(updated_hashtags)\n",
    "                post['hashtags'] = updated_hashtags\n",
    "            except Exception as e:\n",
    "                print(f\"An exception occurred: {e}. Skipping this hashtag.\")\n",
    "                continue\n",
    "        influencers_service.update_post(post, 'hashtags', updated_hashtags)"
   ],
   "metadata": {
    "collapsed": false,
    "ExecuteTime": {
     "end_time": "2024-05-01T21:40:36.228768400Z",
     "start_time": "2024-05-01T21:40:36.098870300Z"
    }
   },
   "id": "7dcbd03ff36de43d"
  },
  {
   "cell_type": "code",
   "execution_count": 297,
   "outputs": [],
   "source": [
    "def remove_post_emojis(posts,key):\n",
    "    for post in posts:\n",
    "        content = post.get(key)\n",
    "        print(content)\n",
    "        no_emoji_content = remove_emojis(content)\n",
    "        influencers_service.update_post(post, key, no_emoji_content)"
   ],
   "metadata": {
    "collapsed": false,
    "ExecuteTime": {
     "end_time": "2024-05-01T21:40:36.228768400Z",
     "start_time": "2024-05-01T21:40:36.105251700Z"
    }
   },
   "id": "aca08b191eeea65f"
  },
  {
   "cell_type": "code",
   "execution_count": 298,
   "outputs": [],
   "source": [
    "def remove_stopwords(text, stopwords_list):\n",
    "    words = text.split()\n",
    "    words = [word for word in words if word not in stopwords_list]\n",
    "    return ' '.join(words)"
   ],
   "metadata": {
    "collapsed": false,
    "ExecuteTime": {
     "end_time": "2024-05-01T21:40:36.228768400Z",
     "start_time": "2024-05-01T21:40:36.110337800Z"
    }
   },
   "id": "698a284ba2691453"
  },
  {
   "cell_type": "code",
   "execution_count": 299,
   "outputs": [],
   "source": [
    "def remove_post_stopwords(posts,key):\n",
    "    for post in posts:\n",
    "        content = post.get(key)\n",
    "        try:\n",
    "            no_stopwords_content = remove_stopwords(content, stopwords_en)\n",
    "            print(no_stopwords_content)\n",
    "            influencers_service.update_post(post, key, no_stopwords_content)\n",
    "        except Exception as e:\n",
    "            print(f\"An exception occurred: {e}. Skipping this post\")"
   ],
   "metadata": {
    "collapsed": false,
    "ExecuteTime": {
     "end_time": "2024-05-01T21:40:36.230370600Z",
     "start_time": "2024-05-01T21:40:36.114193800Z"
    }
   },
   "id": "6f7b92f69f639d84"
  },
  {
   "cell_type": "code",
   "execution_count": 300,
   "outputs": [],
   "source": [
    "def remove_hashtags_stop_words(posts):\n",
    "    updated_hashtags = []\n",
    "    for post in posts:\n",
    "        hashtags = post.get('hashtags', [])\n",
    "        for hashtag in hashtags:\n",
    "            try:\n",
    "                print(\"before:\",hashtag)\n",
    "                updated_hashtag = remove_stopwords(hashtag)\n",
    "                print(\"after:\",updated_hashtag)\n",
    "                updated_hashtags .append(updated_hashtag)\n",
    "                post['hashtags'] = updated_hashtags\n",
    "            except Exception as e:\n",
    "                print(f\"An exception occurred: {e}. Skipping this hashtag.\")\n",
    "                continue\n",
    "        influencers_service.update_post(post, 'hashtags', updated_hashtags)"
   ],
   "metadata": {
    "collapsed": false,
    "ExecuteTime": {
     "end_time": "2024-05-01T21:40:36.230370600Z",
     "start_time": "2024-05-01T21:40:36.124511700Z"
    }
   },
   "id": "c94ee0c0693b2cc3"
  },
  {
   "cell_type": "raw",
   "source": [
    "translation"
   ],
   "metadata": {
    "collapsed": false
   },
   "id": "add07685a34bc8c9"
  },
  {
   "cell_type": "code",
   "execution_count": 301,
   "outputs": [],
   "source": [
    "# translate_post(posts,'firstComment')\n",
    "# translate_post(posts, 'caption')\n",
    "# translate_hashtags(posts)"
   ],
   "metadata": {
    "collapsed": false,
    "ExecuteTime": {
     "end_time": "2024-05-01T21:40:36.230370600Z",
     "start_time": "2024-05-01T21:40:36.129037300Z"
    }
   },
   "id": "ddde9d0e046c551f"
  },
  {
   "cell_type": "raw",
   "source": [
    "remove emojis"
   ],
   "metadata": {
    "collapsed": false
   },
   "id": "74554522c88f4d0f"
  },
  {
   "cell_type": "code",
   "execution_count": 302,
   "outputs": [],
   "source": [
    "# remove_post_emojis(posts, 'firstComment')\n",
    "# remove_post_emojis(posts, 'caption')\n",
    "# # remove_hashtags_emojis(posts)"
   ],
   "metadata": {
    "collapsed": false,
    "ExecuteTime": {
     "end_time": "2024-05-01T21:40:36.230370600Z",
     "start_time": "2024-05-01T21:40:36.134416500Z"
    }
   },
   "id": "2df87304ca88a6a4"
  },
  {
   "cell_type": "raw",
   "source": [
    "remove stopwords"
   ],
   "metadata": {
    "collapsed": false
   },
   "id": "2587ffb5d0d018ef"
  },
  {
   "cell_type": "code",
   "execution_count": 303,
   "outputs": [],
   "source": [
    "# remove_post_stopwords(posts, 'firstComment')\n",
    "# remove_post_stopwords(posts, 'caption')\n",
    "# remove_hashtags_stop_words(posts)"
   ],
   "metadata": {
    "collapsed": false,
    "ExecuteTime": {
     "end_time": "2024-05-01T21:40:36.232313800Z",
     "start_time": "2024-05-01T21:40:36.142177100Z"
    }
   },
   "id": "1f5fb1e0eb43b23d"
  },
  {
   "cell_type": "raw",
   "source": [
    "lemmatization"
   ],
   "metadata": {
    "collapsed": false
   },
   "id": "5bd4c1e78890eeac"
  },
  {
   "cell_type": "code",
   "execution_count": 304,
   "outputs": [],
   "source": [
    "# lemmatize_post(posts,'firstComment')\n",
    "# lemmatize_post(posts, 'caption')\n",
    "# lemmatize_hashtags(posts)        "
   ],
   "metadata": {
    "collapsed": false,
    "ExecuteTime": {
     "end_time": "2024-05-01T21:40:36.232313800Z",
     "start_time": "2024-05-01T21:40:36.145731Z"
    }
   },
   "id": "b5332c7480b1d851"
  },
  {
   "cell_type": "code",
   "execution_count": 305,
   "outputs": [],
   "source": [
    "# print(\"doooooooooone\")"
   ],
   "metadata": {
    "collapsed": false,
    "ExecuteTime": {
     "end_time": "2024-05-01T21:40:36.232313800Z",
     "start_time": "2024-05-01T21:40:36.151000100Z"
    }
   },
   "id": "be9d3b82dea13979"
  },
  {
   "cell_type": "raw",
   "source": [
    "Preparing the data for LDA "
   ],
   "metadata": {
    "collapsed": false
   },
   "id": "12200d9f58f10d92"
  },
  {
   "cell_type": "markdown",
   "source": [
    "Merging the captions and first comment of all posts in one text"
   ],
   "metadata": {
    "collapsed": false
   },
   "id": "19399fad006ccdd4"
  },
  {
   "cell_type": "code",
   "execution_count": 306,
   "outputs": [],
   "source": [
    "def merge_content_posts(posts) : \n",
    "    #concatenation of caption and firstComment of all selected posts\n",
    "    merged_content = \"\"\n",
    "    for post in posts:\n",
    "         #extract caption text\n",
    "         caption = post.get('caption')\n",
    "         #extract firstComment ext\n",
    "         firstComment = post.get('firstComment', [])\n",
    "         #concatenate caption and firstComment in one string\n",
    "         if (caption and firstComment):\n",
    "            merged_content += caption + \" \" + firstComment\n",
    "    return merged_content"
   ],
   "metadata": {
    "collapsed": false,
    "ExecuteTime": {
     "end_time": "2024-05-01T21:40:36.232313800Z",
     "start_time": "2024-05-01T21:40:36.158516100Z"
    }
   },
   "id": "f483ef6805136031"
  },
  {
   "cell_type": "markdown",
   "source": [
    "Extracting words from merged content"
   ],
   "metadata": {
    "collapsed": false
   },
   "id": "382341d1719950c9"
  },
  {
   "cell_type": "code",
   "execution_count": 307,
   "outputs": [],
   "source": [
    "def gen_words(text):\n",
    "    words=[]\n",
    "    new = gensim.utils.simple_preprocess(text, deacc=True)\n",
    "    words.append(new)\n",
    "    return words\n"
   ],
   "metadata": {
    "collapsed": false,
    "ExecuteTime": {
     "end_time": "2024-05-01T21:40:36.232313800Z",
     "start_time": "2024-05-01T21:40:36.167926300Z"
    }
   },
   "id": "f1a478800ce3bff7"
  },
  {
   "cell_type": "raw",
   "source": [
    "Generating bag of word"
   ],
   "metadata": {
    "collapsed": false
   },
   "id": "330c22942b9fe2d0"
  },
  {
   "cell_type": "code",
   "execution_count": 308,
   "outputs": [],
   "source": [
    "def gen_bow(words):\n",
    "    id2word = corpora.Dictionary(words)\n",
    "    corpus=[]\n",
    "    for word in words: \n",
    "        new = id2word.doc2bow(word)\n",
    "        corpus.append(new)\n",
    "    return  corpus"
   ],
   "metadata": {
    "collapsed": false,
    "ExecuteTime": {
     "end_time": "2024-05-01T21:40:36.232313800Z",
     "start_time": "2024-05-01T21:40:36.173695900Z"
    }
   },
   "id": "37515bc3e79d7ada"
  },
  {
   "cell_type": "code",
   "execution_count": 309,
   "outputs": [],
   "source": [
    "merge=merge_content_posts(posts)\n",
    "# print(merge)\n",
    "words=gen_words(merge)\n",
    "# print(words)\n",
    "bow=gen_bow(words)\n",
    "# print(bow)"
   ],
   "metadata": {
    "collapsed": false,
    "ExecuteTime": {
     "end_time": "2024-05-01T21:40:37.045790100Z",
     "start_time": "2024-05-01T21:40:36.178211Z"
    }
   },
   "id": "6393962d6ae09334"
  },
  {
   "cell_type": "code",
   "execution_count": 309,
   "outputs": [],
   "source": [],
   "metadata": {
    "collapsed": false,
    "ExecuteTime": {
     "end_time": "2024-05-01T21:40:37.053183100Z",
     "start_time": "2024-05-01T21:40:37.046712700Z"
    }
   },
   "id": "7330f8be21b6d93e"
  }
 ],
 "metadata": {
  "kernelspec": {
   "display_name": "Python 3",
   "language": "python",
   "name": "python3"
  },
  "language_info": {
   "codemirror_mode": {
    "name": "ipython",
    "version": 2
   },
   "file_extension": ".py",
   "mimetype": "text/x-python",
   "name": "python",
   "nbconvert_exporter": "python",
   "pygments_lexer": "ipython2",
   "version": "2.7.6"
  }
 },
 "nbformat": 4,
 "nbformat_minor": 5
}
