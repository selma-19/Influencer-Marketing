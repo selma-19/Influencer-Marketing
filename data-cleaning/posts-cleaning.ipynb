{
 "cells": [
  {
   "cell_type": "code",
   "id": "initial_id",
   "metadata": {
    "collapsed": true,
    "ExecuteTime": {
     "end_time": "2024-05-13T15:23:27.717066Z",
     "start_time": "2024-05-13T15:23:20.559150Z"
    }
   },
   "source": [
    "!pip install deep-translator spacy unidecode nltk\n",
    "!python -m spacy download en_core_web_sm\n",
    "\n",
    "import re\n",
    "\n",
    "import nltk\n",
    "import spacy\n",
    "from deep_translator import GoogleTranslator\n",
    "from nltk.corpus import stopwords\n",
    "from unidecode import unidecode\n",
    "\n",
    "import services.influencers_sevice as influencers_service"
   ],
   "outputs": [
    {
     "name": "stdout",
     "output_type": "stream",
     "text": [
      "Requirement already satisfied: deep-translator in c:\\users\\wawao\\onedrive\\bureau\\influencer-marketing\\.venv\\lib\\site-packages (1.11.4)\n",
      "Requirement already satisfied: spacy in c:\\users\\wawao\\onedrive\\bureau\\influencer-marketing\\.venv\\lib\\site-packages (3.7.4)\n",
      "Requirement already satisfied: unidecode in c:\\users\\wawao\\onedrive\\bureau\\influencer-marketing\\.venv\\lib\\site-packages (1.3.8)\n",
      "Requirement already satisfied: nltk in c:\\users\\wawao\\onedrive\\bureau\\influencer-marketing\\.venv\\lib\\site-packages (3.8.1)\n",
      "Requirement already satisfied: beautifulsoup4<5.0.0,>=4.9.1 in c:\\users\\wawao\\onedrive\\bureau\\influencer-marketing\\.venv\\lib\\site-packages (from deep-translator) (4.13.0b2)\n",
      "Requirement already satisfied: requests<3.0.0,>=2.23.0 in c:\\users\\wawao\\onedrive\\bureau\\influencer-marketing\\.venv\\lib\\site-packages (from deep-translator) (2.31.0)\n",
      "Requirement already satisfied: spacy-legacy<3.1.0,>=3.0.11 in c:\\users\\wawao\\onedrive\\bureau\\influencer-marketing\\.venv\\lib\\site-packages (from spacy) (3.0.12)\n",
      "Requirement already satisfied: spacy-loggers<2.0.0,>=1.0.0 in c:\\users\\wawao\\onedrive\\bureau\\influencer-marketing\\.venv\\lib\\site-packages (from spacy) (1.0.5)\n",
      "Requirement already satisfied: murmurhash<1.1.0,>=0.28.0 in c:\\users\\wawao\\onedrive\\bureau\\influencer-marketing\\.venv\\lib\\site-packages (from spacy) (1.0.10)\n",
      "Requirement already satisfied: cymem<2.1.0,>=2.0.2 in c:\\users\\wawao\\onedrive\\bureau\\influencer-marketing\\.venv\\lib\\site-packages (from spacy) (2.0.8)\n",
      "Requirement already satisfied: preshed<3.1.0,>=3.0.2 in c:\\users\\wawao\\onedrive\\bureau\\influencer-marketing\\.venv\\lib\\site-packages (from spacy) (3.0.9)\n",
      "Requirement already satisfied: thinc<8.3.0,>=8.2.2 in c:\\users\\wawao\\onedrive\\bureau\\influencer-marketing\\.venv\\lib\\site-packages (from spacy) (8.2.3)\n",
      "Requirement already satisfied: wasabi<1.2.0,>=0.9.1 in c:\\users\\wawao\\onedrive\\bureau\\influencer-marketing\\.venv\\lib\\site-packages (from spacy) (1.1.2)\n",
      "Requirement already satisfied: srsly<3.0.0,>=2.4.3 in c:\\users\\wawao\\onedrive\\bureau\\influencer-marketing\\.venv\\lib\\site-packages (from spacy) (2.4.8)\n",
      "Requirement already satisfied: catalogue<2.1.0,>=2.0.6 in c:\\users\\wawao\\onedrive\\bureau\\influencer-marketing\\.venv\\lib\\site-packages (from spacy) (2.0.10)\n",
      "Requirement already satisfied: weasel<0.4.0,>=0.1.0 in c:\\users\\wawao\\onedrive\\bureau\\influencer-marketing\\.venv\\lib\\site-packages (from spacy) (0.3.4)\n",
      "Requirement already satisfied: typer<0.10.0,>=0.3.0 in c:\\users\\wawao\\onedrive\\bureau\\influencer-marketing\\.venv\\lib\\site-packages (from spacy) (0.9.4)\n",
      "Requirement already satisfied: smart-open<7.0.0,>=5.2.1 in c:\\users\\wawao\\onedrive\\bureau\\influencer-marketing\\.venv\\lib\\site-packages (from spacy) (6.4.0)\n",
      "Requirement already satisfied: tqdm<5.0.0,>=4.38.0 in c:\\users\\wawao\\onedrive\\bureau\\influencer-marketing\\.venv\\lib\\site-packages (from spacy) (4.66.4)\n",
      "Requirement already satisfied: pydantic!=1.8,!=1.8.1,<3.0.0,>=1.7.4 in c:\\users\\wawao\\onedrive\\bureau\\influencer-marketing\\.venv\\lib\\site-packages (from spacy) (2.7.1)\n",
      "Requirement already satisfied: jinja2 in c:\\users\\wawao\\onedrive\\bureau\\influencer-marketing\\.venv\\lib\\site-packages (from spacy) (3.1.4)\n",
      "Requirement already satisfied: setuptools in c:\\users\\wawao\\onedrive\\bureau\\influencer-marketing\\.venv\\lib\\site-packages (from spacy) (69.5.1)\n",
      "Requirement already satisfied: packaging>=20.0 in c:\\users\\wawao\\onedrive\\bureau\\influencer-marketing\\.venv\\lib\\site-packages (from spacy) (24.0)\n",
      "Requirement already satisfied: langcodes<4.0.0,>=3.2.0 in c:\\users\\wawao\\onedrive\\bureau\\influencer-marketing\\.venv\\lib\\site-packages (from spacy) (3.4.0)\n",
      "Requirement already satisfied: numpy>=1.19.0 in c:\\users\\wawao\\onedrive\\bureau\\influencer-marketing\\.venv\\lib\\site-packages (from spacy) (1.26.4)\n",
      "Requirement already satisfied: click in c:\\users\\wawao\\onedrive\\bureau\\influencer-marketing\\.venv\\lib\\site-packages (from nltk) (8.1.7)\n",
      "Requirement already satisfied: joblib in c:\\users\\wawao\\onedrive\\bureau\\influencer-marketing\\.venv\\lib\\site-packages (from nltk) (1.4.2)\n",
      "Requirement already satisfied: regex>=2021.8.3 in c:\\users\\wawao\\onedrive\\bureau\\influencer-marketing\\.venv\\lib\\site-packages (from nltk) (2024.5.10)\n",
      "Requirement already satisfied: soupsieve>1.2 in c:\\users\\wawao\\onedrive\\bureau\\influencer-marketing\\.venv\\lib\\site-packages (from beautifulsoup4<5.0.0,>=4.9.1->deep-translator) (2.5)\n",
      "Requirement already satisfied: typing-extensions in c:\\users\\wawao\\onedrive\\bureau\\influencer-marketing\\.venv\\lib\\site-packages (from beautifulsoup4<5.0.0,>=4.9.1->deep-translator) (4.11.0)\n",
      "Requirement already satisfied: language-data>=1.2 in c:\\users\\wawao\\onedrive\\bureau\\influencer-marketing\\.venv\\lib\\site-packages (from langcodes<4.0.0,>=3.2.0->spacy) (1.2.0)\n",
      "Requirement already satisfied: annotated-types>=0.4.0 in c:\\users\\wawao\\onedrive\\bureau\\influencer-marketing\\.venv\\lib\\site-packages (from pydantic!=1.8,!=1.8.1,<3.0.0,>=1.7.4->spacy) (0.6.0)\n",
      "Requirement already satisfied: pydantic-core==2.18.2 in c:\\users\\wawao\\onedrive\\bureau\\influencer-marketing\\.venv\\lib\\site-packages (from pydantic!=1.8,!=1.8.1,<3.0.0,>=1.7.4->spacy) (2.18.2)\n",
      "Requirement already satisfied: charset-normalizer<4,>=2 in c:\\users\\wawao\\onedrive\\bureau\\influencer-marketing\\.venv\\lib\\site-packages (from requests<3.0.0,>=2.23.0->deep-translator) (3.3.2)\n",
      "Requirement already satisfied: idna<4,>=2.5 in c:\\users\\wawao\\onedrive\\bureau\\influencer-marketing\\.venv\\lib\\site-packages (from requests<3.0.0,>=2.23.0->deep-translator) (3.7)\n",
      "Requirement already satisfied: urllib3<3,>=1.21.1 in c:\\users\\wawao\\onedrive\\bureau\\influencer-marketing\\.venv\\lib\\site-packages (from requests<3.0.0,>=2.23.0->deep-translator) (2.2.1)\n",
      "Requirement already satisfied: certifi>=2017.4.17 in c:\\users\\wawao\\onedrive\\bureau\\influencer-marketing\\.venv\\lib\\site-packages (from requests<3.0.0,>=2.23.0->deep-translator) (2024.2.2)\n",
      "Requirement already satisfied: blis<0.8.0,>=0.7.8 in c:\\users\\wawao\\onedrive\\bureau\\influencer-marketing\\.venv\\lib\\site-packages (from thinc<8.3.0,>=8.2.2->spacy) (0.7.11)\n",
      "Requirement already satisfied: confection<1.0.0,>=0.0.1 in c:\\users\\wawao\\onedrive\\bureau\\influencer-marketing\\.venv\\lib\\site-packages (from thinc<8.3.0,>=8.2.2->spacy) (0.1.5a0)\n",
      "Requirement already satisfied: colorama in c:\\users\\wawao\\onedrive\\bureau\\influencer-marketing\\.venv\\lib\\site-packages (from tqdm<5.0.0,>=4.38.0->spacy) (0.4.6)\n",
      "Requirement already satisfied: cloudpathlib<0.17.0,>=0.7.0 in c:\\users\\wawao\\onedrive\\bureau\\influencer-marketing\\.venv\\lib\\site-packages (from weasel<0.4.0,>=0.1.0->spacy) (0.16.0)\n",
      "Requirement already satisfied: MarkupSafe>=2.0 in c:\\users\\wawao\\onedrive\\bureau\\influencer-marketing\\.venv\\lib\\site-packages (from jinja2->spacy) (2.1.5)\n",
      "Requirement already satisfied: marisa-trie>=0.7.7 in c:\\users\\wawao\\onedrive\\bureau\\influencer-marketing\\.venv\\lib\\site-packages (from language-data>=1.2->langcodes<4.0.0,>=3.2.0->spacy) (1.1.1)\n",
      "^C\n"
     ]
    }
   ],
   "execution_count": 41
  },
  {
   "metadata": {
    "ExecuteTime": {
     "end_time": "2024-05-13T15:23:28.581727Z",
     "start_time": "2024-05-13T15:23:27.719240Z"
    }
   },
   "cell_type": "code",
   "source": [
    "# Load necessary libraries\n",
    "nltk.download('stopwords')\n",
    "stopwords_en = stopwords.words('english')\n",
    "nlp = spacy.load(\"en_core_web_sm\", disable=[\"parser\", \"ner\"])\n",
    "translator = GoogleTranslator(source='auto', target='en')"
   ],
   "id": "2a3b0053e34bd72",
   "outputs": [
    {
     "name": "stderr",
     "output_type": "stream",
     "text": [
      "[nltk_data] Downloading package stopwords to\n",
      "[nltk_data]     C:\\Users\\wawao\\AppData\\Roaming\\nltk_data...\n",
      "[nltk_data]   Package stopwords is already up-to-date!\n"
     ]
    }
   ],
   "execution_count": 42
  },
  {
   "metadata": {
    "ExecuteTime": {
     "end_time": "2024-05-13T15:23:28.594518Z",
     "start_time": "2024-05-13T15:23:28.583889Z"
    }
   },
   "cell_type": "code",
   "source": [
    "def clean_and_process_posts(posts):\n",
    "    \"\"\" This performs URL removal, special character cleaning, emoji removal, translation, stopword removal, and lemmatization.\"\"\"\n",
    "\n",
    "    for post in posts:\n",
    "        print(post)\n",
    "        content = post.get('content', '')\n",
    "        try:\n",
    "            # Removing URLs\n",
    "            content = re.sub(r'http\\S+', '', content)\n",
    "\n",
    "            # Removing Special Characters\n",
    "            content = re.sub(r'\\W+', ' ', content)\n",
    "\n",
    "            # Removing Emojis\n",
    "            content = unidecode(content)\n",
    "        except Exception as e:\n",
    "            print(f\"An exception occurred: {e}. Skipping this caption.\")\n",
    "\n",
    "        try:\n",
    "            # Translating Text\n",
    "            content = translator.translate(content)\n",
    "        except Exception as e:\n",
    "            print(f\"Translation error: {e}. Skipping translation.\")\n",
    "\n",
    "        # Removing Stopwords\n",
    "        words = content.split()\n",
    "        content = ' '.join([word for word in words if word not in stopwords_en])\n",
    "\n",
    "        # Lemmatizing Text\n",
    "        doc = nlp(content)\n",
    "        lemmatized_content = \" \".join([token.lemma_ for token in doc])\n",
    "        print(lemmatized_content)\n",
    "        # Update the post with cleaned content\n",
    "        try:\n",
    "            influencers_service.update_post(post, 'content', lemmatized_content)\n",
    "        except Exception as e:\n",
    "            print(f\"Error updating post: {e}.\")\n"
   ],
   "id": "5486f9447de42710",
   "outputs": [],
   "execution_count": 43
  },
  {
   "metadata": {
    "ExecuteTime": {
     "end_time": "2024-05-13T15:23:28.614356Z",
     "start_time": "2024-05-13T15:23:28.597209Z"
    }
   },
   "cell_type": "code",
   "source": [
    "# Load posts\n",
    "posts = influencers_service.get_posts()\n",
    "\n",
    "# Clean and process posts\n",
    "clean_and_process_posts(posts)"
   ],
   "id": "dff93f1ac17c7d60",
   "outputs": [],
   "execution_count": 44
  }
 ],
 "metadata": {
  "kernelspec": {
   "display_name": "Python 3",
   "language": "python",
   "name": "python3"
  },
  "language_info": {
   "codemirror_mode": {
    "name": "ipython",
    "version": 2
   },
   "file_extension": ".py",
   "mimetype": "text/x-python",
   "name": "python",
   "nbconvert_exporter": "python",
   "pygments_lexer": "ipython2",
   "version": "2.7.6"
  }
 },
 "nbformat": 4,
 "nbformat_minor": 5
}
