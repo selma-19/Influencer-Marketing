{
 "cells": [
  {
   "cell_type": "code",
   "id": "initial_id",
   "metadata": {
    "collapsed": true,
    "jupyter": {
     "outputs_hidden": true
    }
   },
   "source": [
    "!python -m spacy download en_core_web_sm\n",
    "\n",
    "import re\n",
    "import logging\n",
    "\n",
    "import nltk\n",
    "import spacy\n",
    "from deep_translator import GoogleTranslator\n",
    "from nltk.corpus import stopwords\n",
    "from unidecode import unidecode\n",
    "logging.basicConfig(level=logging.INFO, format='%(asctime)s - %(levelname)s - %(message)s')\n"
   ],
   "outputs": [],
   "execution_count": null
  },
  {
   "cell_type": "code",
   "id": "2a3b0053e34bd72",
   "metadata": {},
   "source": [
    "# Load necessary libraries\n",
    "nltk.download('stopwords')\n",
    "stopwords_en = set(stopwords.words('english'))\n",
    "nlp = spacy.load(\"en_core_web_sm\", disable=[\"parser\", \"ner\"])\n",
    "translator = GoogleTranslator(source='auto', target='en')\n",
    "\n",
    "from services.influencers_service import InfluencersService\n",
    "from shared.mongo import MongoConnection"
   ],
   "outputs": [],
   "execution_count": null
  },
  {
   "metadata": {},
   "cell_type": "code",
   "source": [
    "import string\n",
    "\n",
    "\n",
    "def clean_and_process_posts(posts, key):\n",
    "    \"\"\" \n",
    "    This performs URL removal, special character cleaning, emoji removal, translation, stopword removal, and lemmatization.\n",
    "     Args:\n",
    "        posts (list): List of posts to process.\n",
    "        key (str): The key in the post dictionary that contains the content to be cleaned.\n",
    "    \n",
    "    Returns:\n",
    "        None\n",
    "    \"\"\"\n",
    "    for post in posts:\n",
    "        content = post.get(key, '')\n",
    "        if not content:\n",
    "            continue\n",
    "        # print(content)\n",
    "        try:\n",
    "            # Removing URLs\n",
    "            content = re.sub(r'http\\S+', '', content)\n",
    "\n",
    "            # Removing Special Characters\n",
    "            content = re.sub(r'\\W+', ' ', content)\n",
    "\n",
    "            # Removing Emojis\n",
    "            content = unidecode(content)\n",
    "\n",
    "            # Translating text (if not in English)\n",
    "            content = translator.translate(content)\n",
    "        except Exception as e:\n",
    "            logging.error(f\"An exception occurred during cleaning or translation: {e}. Skipping this caption.\")\n",
    "            continue\n",
    "\n",
    "        content = content.lower().translate(str.maketrans('', '', string.punctuation))\n",
    "\n",
    "        # Removing Stopwords\n",
    "        words = content.split()\n",
    "        content = ' '.join([word for word in words if word not in stopwords_en])\n",
    "\n",
    "        # Lemmatizing Text\n",
    "        try:\n",
    "            doc = nlp(content)\n",
    "            lemmatized_content = \" \".join([token.lemma_ for token in doc])\n",
    "        except Exception as e:\n",
    "            logging.error(f\"Lemmatization error: {e}.\")\n",
    "            continue\n",
    "\n",
    "        # Update the post with cleaned content\n",
    "        try:\n",
    "            influencers_service.update_post(post, key, lemmatized_content)\n",
    "        except Exception as e:\n",
    "            logging.error(f\"Error updating post: {e}.\")"
   ],
   "id": "5486f9447de42710",
   "outputs": [],
   "execution_count": null
  },
  {
   "metadata": {},
   "cell_type": "code",
   "source": [
    "# Load posts\n",
    "mongo_connection = MongoConnection()\n",
    "influencers_service = InfluencersService(mongo_connection)\n",
    "posts = influencers_service.get_posts()\n",
    "# Clean and process posts\n",
    "clean_and_process_posts(posts, 'posts')"
   ],
   "id": "dff93f1ac17c7d60",
   "outputs": [],
   "execution_count": null
  }
 ],
 "metadata": {
  "kernelspec": {
   "display_name": "Python 3 (ipykernel)",
   "language": "python",
   "name": "python3"
  },
  "language_info": {
   "codemirror_mode": {
    "name": "ipython",
    "version": 3
   },
   "file_extension": ".py",
   "mimetype": "text/x-python",
   "name": "python",
   "nbconvert_exporter": "python",
   "pygments_lexer": "ipython3",
   "version": "3.12.3"
  }
 },
 "nbformat": 4,
 "nbformat_minor": 5
}
