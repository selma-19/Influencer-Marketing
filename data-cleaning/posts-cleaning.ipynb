{
 "cells": [
  {
   "cell_type": "code",
   "execution_count": null,
   "id": "initial_id",
   "metadata": {
    "collapsed": true
   },
   "outputs": [],
   "source": [
    "from deep_translator import GoogleTranslator\n",
    "import spacy\n",
    "import services.influencers_sevice as influencers_service\n",
    "from unidecode import unidecode\n",
    "import nltk\n",
    "from nltk.corpus import stopwords\n",
    "import json \n",
    "import glob\n",
    "import gensim\n",
    "import gensim.corpora as corpora\n",
    "from gensim.utils import simple_preprocess\n",
    "from gensim.models import CoherenceModel\n",
    "#visualisation \n",
    "import pyLDAvis\n",
    "import pyLDAvis.gensim"
   ]
  },
  {
   "cell_type": "code",
   "execution_count": null,
   "outputs": [],
   "source": [
    "translator = GoogleTranslator(source='auto', target='en')\n",
    "influencers = influencers_service.get_influencers()\n",
    "posts=influencers_service.get_posts()\n",
    "stopwords_en = stopwords.words('english')"
   ],
   "metadata": {
    "collapsed": false
   },
   "id": "4bdfaac799918d2b"
  },
  {
   "cell_type": "code",
   "execution_count": null,
   "outputs": [],
   "source": [
    "def translate_post(posts,key):\n",
    "    for post in posts:\n",
    "        content = post.get(key)\n",
    "        print(content)\n",
    "        try:\n",
    "            translated_content = translator.translate(content)\n",
    "            print(\"after tanslation\", translated_content)\n",
    "            influencers_service.update_post(post, key,translated_content)\n",
    "    \n",
    "        except Exception as e:\n",
    "            print(f\"An exception occurred: {e}. Skipping this caption.\")"
   ],
   "metadata": {
    "collapsed": false
   },
   "id": "4c9b547054853015"
  },
  {
   "cell_type": "code",
   "execution_count": null,
   "outputs": [],
   "source": [
    "def lemmatize_text(text):\n",
    "    nlp = spacy.load(\"en_core_web_sm\", disable=[\"parser\", \"ner\"])\n",
    "    allowed_postags = [\"NOUN\", \"AD\", \"VERB\", \"ADV\"]\n",
    "    doc = nlp(text)\n",
    "    new_text = []\n",
    "    for word in doc:\n",
    "        print(word)\n",
    "        new_text.append(word.lemma_)\n",
    "    lemmatized_text = \" \".join(new_text)\n",
    "    return lemmatized_text"
   ],
   "metadata": {
    "collapsed": false
   },
   "id": "b9c1d4b428e84f40"
  },
  {
   "cell_type": "code",
   "execution_count": null,
   "outputs": [],
   "source": [
    "def lemmatize_post(posts,key):\n",
    "    for post in posts: \n",
    "        try:\n",
    "            content = post.get(key)\n",
    "            lemmatized_content = lemmatize_text(content)\n",
    "            influencers_service.update_post(post, key , lemmatized_content)\n",
    "        except Exception as e:\n",
    "            print(f\"An exception occurred: {e}. Skipping this hashtag.\")"
   ],
   "metadata": {
    "collapsed": false
   },
   "id": "e502647a6b1bd2fb"
  },
  {
   "cell_type": "code",
   "execution_count": null,
   "outputs": [],
   "source": [
    "def remove_emojis(text):\n",
    "    if(text):\n",
    "        print(\"before emoji removal :\",text)\n",
    "        return unidecode(text)\n",
    "    return text\n"
   ],
   "metadata": {
    "collapsed": false
   },
   "id": "eb47ecbec08729a8"
  },
  {
   "cell_type": "code",
   "execution_count": null,
   "outputs": [],
   "source": [
    "def remove_post_emojis(posts,key):\n",
    "    for post in posts:\n",
    "        content = post.get(key)\n",
    "        print(content)\n",
    "        no_emoji_content = remove_emojis(content)\n",
    "        influencers_service.update_post(post, key, no_emoji_content)"
   ],
   "metadata": {
    "collapsed": false
   },
   "id": "aca08b191eeea65f"
  },
  {
   "cell_type": "code",
   "execution_count": null,
   "outputs": [],
   "source": [
    "def remove_stopwords(text, stopwords_list):\n",
    "    words = text.split()\n",
    "    words = [word for word in words if word not in stopwords_list]\n",
    "    return ' '.join(words)"
   ],
   "metadata": {
    "collapsed": false
   },
   "id": "698a284ba2691453"
  },
  {
   "cell_type": "code",
   "execution_count": null,
   "outputs": [],
   "source": [
    "def remove_post_stopwords(posts,key):\n",
    "    for post in posts:\n",
    "        content = post.get(key)\n",
    "        try:\n",
    "            no_stopwords_content = remove_stopwords(content, stopwords_en)\n",
    "            print(no_stopwords_content)\n",
    "            influencers_service.update_post(post, key, no_stopwords_content)\n",
    "        except Exception as e:\n",
    "            print(f\"An exception occurred: {e}. Skipping this post\")"
   ],
   "metadata": {
    "collapsed": false
   },
   "id": "6f7b92f69f639d84"
  },
  {
   "cell_type": "raw",
   "source": [
    "translation"
   ],
   "metadata": {
    "collapsed": false
   },
   "id": "add07685a34bc8c9"
  },
  {
   "cell_type": "code",
   "execution_count": null,
   "outputs": [],
   "source": [
    "# translate_post(posts, 'caption')"
   ],
   "metadata": {
    "collapsed": false
   },
   "id": "ddde9d0e046c551f"
  },
  {
   "cell_type": "raw",
   "source": [
    "remove emojis"
   ],
   "metadata": {
    "collapsed": false
   },
   "id": "74554522c88f4d0f"
  },
  {
   "cell_type": "code",
   "execution_count": null,
   "outputs": [],
   "source": [
    "# remove_post_emojis(posts, 'caption')"
   ],
   "metadata": {
    "collapsed": false
   },
   "id": "2df87304ca88a6a4"
  },
  {
   "cell_type": "raw",
   "source": [
    "remove stopwords"
   ],
   "metadata": {
    "collapsed": false
   },
   "id": "2587ffb5d0d018ef"
  },
  {
   "cell_type": "code",
   "execution_count": null,
   "outputs": [],
   "source": [
    "# remove_post_stopwords(posts, 'caption')"
   ],
   "metadata": {
    "collapsed": false
   },
   "id": "1f5fb1e0eb43b23d"
  },
  {
   "cell_type": "raw",
   "source": [
    "lemmatization"
   ],
   "metadata": {
    "collapsed": false
   },
   "id": "5bd4c1e78890eeac"
  },
  {
   "cell_type": "code",
   "execution_count": null,
   "outputs": [],
   "source": [
    "# lemmatize_post(posts, 'caption')"
   ],
   "metadata": {
    "collapsed": false
   },
   "id": "b5332c7480b1d851"
  },
  {
   "cell_type": "code",
   "execution_count": null,
   "outputs": [],
   "source": [
    "# print(\"doooooooooone\")"
   ],
   "metadata": {
    "collapsed": false
   },
   "id": "be9d3b82dea13979"
  }
 ],
 "metadata": {
  "kernelspec": {
   "display_name": "Python 3",
   "language": "python",
   "name": "python3"
  },
  "language_info": {
   "codemirror_mode": {
    "name": "ipython",
    "version": 2
   },
   "file_extension": ".py",
   "mimetype": "text/x-python",
   "name": "python",
   "nbconvert_exporter": "python",
   "pygments_lexer": "ipython2",
   "version": "2.7.6"
  }
 },
 "nbformat": 4,
 "nbformat_minor": 5
}
