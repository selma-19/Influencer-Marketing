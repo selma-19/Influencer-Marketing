{
 "cells": [
  {
   "cell_type": "code",
   "id": "initial_id",
   "metadata": {
    "collapsed": true
   },
   "source": [
    "!pip install deep-translator spacy unidecode nltk\n",
    "!python -m spacy download en_core_web_sm\n",
    "\n",
    "import re\n",
    "\n",
    "import nltk\n",
    "import spacy\n",
    "from deep_translator import GoogleTranslator\n",
    "from nltk.corpus import stopwords\n",
    "from unidecode import unidecode\n",
    "\n",
    "import services.influencers_sevice as influencers_service"
   ],
   "outputs": [],
   "execution_count": null
  },
  {
   "metadata": {},
   "cell_type": "code",
   "source": [
    "# Load necessary libraries\n",
    "nltk.download('stopwords')\n",
    "stopwords_en = stopwords.words('english')\n",
    "nlp = spacy.load(\"en_core_web_sm\", disable=[\"parser\", \"ner\"])\n",
    "translator = GoogleTranslator(source='auto', target='en')"
   ],
   "id": "2a3b0053e34bd72",
   "outputs": [],
   "execution_count": null
  },
  {
   "metadata": {
    "ExecuteTime": {
     "end_time": "2024-05-13T14:00:33.550438Z",
     "start_time": "2024-05-13T14:00:33.545430Z"
    }
   },
   "cell_type": "code",
   "source": [
    "def clean_and_process_posts(posts):\n",
    "    \"\"\" This performs URL removal, special character cleaning, emoji removal, translation, stopword removal, and lemmatization.\"\"\"\n",
    "\n",
    "    for post in posts:\n",
    "        content = post.get('content', '')\n",
    "        try:\n",
    "            # Removing URLs\n",
    "            content = re.sub(r'http\\S+', '', content)\n",
    "\n",
    "            # Removing Special Characters\n",
    "            content = re.sub(r'\\W+', ' ', content)\n",
    "\n",
    "            # Removing Emojis\n",
    "            content = unidecode(content)\n",
    "        except Exception as e:\n",
    "            print(f\"An exception occurred: {e}. Skipping this caption.\")\n",
    "\n",
    "        try:\n",
    "            # Translating Text\n",
    "            content = translator.translate(content)\n",
    "        except Exception as e:\n",
    "            print(f\"Translation error: {e}. Skipping translation.\")\n",
    "\n",
    "        # Removing Stopwords\n",
    "        words = content.split()\n",
    "        content = ' '.join([word for word in words if word not in stopwords_en])\n",
    "\n",
    "        # Lemmatizing Text\n",
    "        doc = nlp(content)\n",
    "        lemmatized_content = \" \".join([token.lemma_ for token in doc])\n",
    "        print(lemmatized_content)\n",
    "        # Update the post with cleaned content\n",
    "        try:\n",
    "            influencers_service.update_post(post, 'content', lemmatized_content)\n",
    "        except Exception as e:\n",
    "            print(f\"Error updating post: {e}.\")\n"
   ],
   "id": "5486f9447de42710",
   "outputs": [],
   "execution_count": 8
  },
  {
   "metadata": {},
   "cell_type": "code",
   "source": [
    "# Load posts\n",
    "posts = influencers_service.get_posts()\n",
    "\n",
    "# Clean and process posts\n",
    "clean_and_process_posts(posts)"
   ],
   "id": "dff93f1ac17c7d60",
   "outputs": [],
   "execution_count": null
  }
 ],
 "metadata": {
  "kernelspec": {
   "display_name": "Python 3",
   "language": "python",
   "name": "python3"
  },
  "language_info": {
   "codemirror_mode": {
    "name": "ipython",
    "version": 2
   },
   "file_extension": ".py",
   "mimetype": "text/x-python",
   "name": "python",
   "nbconvert_exporter": "python",
   "pygments_lexer": "ipython2",
   "version": "2.7.6"
  }
 },
 "nbformat": 4,
 "nbformat_minor": 5
}
