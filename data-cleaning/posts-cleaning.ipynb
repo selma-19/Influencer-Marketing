{
 "cells": [
  {
   "cell_type": "code",
   "execution_count": null,
   "id": "initial_id",
   "metadata": {
    "collapsed": true,
    "ExecuteTime": {
     "start_time": "2024-04-26T22:11:55.726508800Z"
    }
   },
   "outputs": [],
   "source": [
    "from deep_translator import GoogleTranslator\n",
    "import spacy\n",
    "import services.influencers_sevice as influencers_service\n",
    "from unidecode import unidecode\n",
    "import nltk\n",
    "from nltk.corpus import stopwords"
   ]
  },
  {
   "cell_type": "code",
   "execution_count": 16,
   "outputs": [],
   "source": [
    "translator = GoogleTranslator(source='auto', target='en')\n",
    "influencers = influencers_service.get_influencers()\n",
    "posts=influencers_service.get_posts()\n",
    "stopwords_en = stopwords.words('english')"
   ],
   "metadata": {
    "collapsed": false,
    "ExecuteTime": {
     "end_time": "2024-04-26T22:11:57.942201Z",
     "start_time": "2024-04-26T22:11:57.930376700Z"
    }
   },
   "id": "4bdfaac799918d2b"
  },
  {
   "cell_type": "code",
   "execution_count": 17,
   "outputs": [],
   "source": [
    "def translate_post(posts,key):\n",
    "    for post in posts:\n",
    "        content = post.get(key)\n",
    "        print(content)\n",
    "        try:\n",
    "            translated_content = translator.translate(content)\n",
    "            print(\"after tanslation\", translated_content)\n",
    "            influencers_service.update_post(post, key,translated_content)\n",
    "    \n",
    "        except Exception as e:\n",
    "            print(f\"An exception occurred: {e}. Skipping this caption.\")"
   ],
   "metadata": {
    "collapsed": false,
    "ExecuteTime": {
     "end_time": "2024-04-26T22:11:58.977159600Z",
     "start_time": "2024-04-26T22:11:58.962537100Z"
    }
   },
   "id": "4c9b547054853015"
  },
  {
   "cell_type": "code",
   "execution_count": 18,
   "outputs": [],
   "source": [
    "def translate_hashtags(posts):\n",
    "    updated_hashtags = []\n",
    "    for post in posts:\n",
    "        hashtags = post.get('hashtags', [])\n",
    "        translated_hashtags = []\n",
    "        for hashtag in hashtags:\n",
    "            try:\n",
    "                translated_hashtag = translator.translate(hashtag)\n",
    "                print(translated_hashtag)\n",
    "                translated_hashtags.append(translated_hashtag)\n",
    "                post['hashtags'] = translated_hashtags\n",
    "                updated_hashtags.append(hashtag)\n",
    "            except Exception as e:\n",
    "                print(f\"An exception occurred: {e}. Skipping this hashtag.\")\n",
    "                continue\n",
    "        influencers_service.update_post(post, 'hashtags', updated_hashtags)"
   ],
   "metadata": {
    "collapsed": false,
    "ExecuteTime": {
     "end_time": "2024-04-26T22:12:00.032916200Z",
     "start_time": "2024-04-26T22:12:00.025510400Z"
    }
   },
   "id": "ee4cdd02ce59e883"
  },
  {
   "cell_type": "code",
   "execution_count": null,
   "outputs": [],
   "source": [
    "def lemmatize_text(text):\n",
    "    nlp = spacy.load(\"en_core_web_sm\", disable=[\"parser\", \"ner\"])\n",
    "    allowed_postags = [\"NOUN\", \"AD\", \"VERB\", \"ADV\"]\n",
    "    doc = nlp(text)\n",
    "    new_text = []\n",
    "    for word in doc:\n",
    "        new_text.append(word.lemma_)\n",
    "    lemmatized_text = \" \".join(new_text)\n",
    "    return lemmatized_text"
   ],
   "metadata": {
    "collapsed": false,
    "ExecuteTime": {
     "start_time": "2024-04-26T22:11:55.738311200Z"
    }
   },
   "id": "b9c1d4b428e84f40"
  },
  {
   "cell_type": "code",
   "execution_count": null,
   "outputs": [],
   "source": [
    "def lemmatize_post(posts,key):\n",
    "    for post in posts: \n",
    "        try:\n",
    "            content = post.get(key)\n",
    "            lemmatized_content = lemmatize_text(content)\n",
    "            influencers_service.update_post(post, key , lemmatized_content)\n",
    "        except Exception as e:\n",
    "            print(f\"An exception occurred: {e}. Skipping this hashtag.\")"
   ],
   "metadata": {
    "collapsed": false,
    "ExecuteTime": {
     "start_time": "2024-04-26T22:11:55.741309800Z"
    }
   },
   "id": "e502647a6b1bd2fb"
  },
  {
   "cell_type": "code",
   "execution_count": null,
   "outputs": [],
   "source": [
    "def lemmatize_hashtags(posts):\n",
    "    updated_hashtags = []\n",
    "    for post in posts:\n",
    "        hashtags = post.get('hashtags', [])\n",
    "        lemmatized_hashtags = []\n",
    "        for hashtag in hashtags:\n",
    "            try:\n",
    "                lemmatized_hashtag = lemmatize_text(hashtag)\n",
    "                lemmatized_hashtags.append(lemmatized_hashtag )\n",
    "                post['hashtags'] = lemmatized_hashtags\n",
    "                updated_hashtags.append(hashtag)\n",
    "            except Exception as e:\n",
    "                print(f\"An exception occurred: {e}. Skipping this hashtag.\")\n",
    "                continue\n",
    "        influencers_service.update_post(post, 'hashtags', updated_hashtags)"
   ],
   "metadata": {
    "collapsed": false,
    "ExecuteTime": {
     "start_time": "2024-04-26T22:11:55.743310900Z"
    }
   },
   "id": "688ec6728117936a"
  },
  {
   "cell_type": "code",
   "execution_count": null,
   "outputs": [],
   "source": [
    "def remove_emojis(text):\n",
    "    return unidecode(text)\n"
   ],
   "metadata": {
    "collapsed": false,
    "ExecuteTime": {
     "start_time": "2024-04-26T22:11:55.744814700Z"
    }
   },
   "id": "eb47ecbec08729a8"
  },
  {
   "cell_type": "code",
   "execution_count": null,
   "outputs": [],
   "source": [
    "def remove_hashtags_emojis(posts):\n",
    "    updated_hashtags = []\n",
    "    for post in posts:\n",
    "        hashtags = post.get('hashtags', [])\n",
    "        hashtags = []\n",
    "        for hashtag in hashtags:\n",
    "            try:\n",
    "                updated_hashtags = remove_emojis(hashtag)\n",
    "                updated_hashtags .append(updated_hashtags)\n",
    "                post['hashtags'] = updated_hashtags\n",
    "                updated_hashtags.append(hashtag)\n",
    "            except Exception as e:\n",
    "                print(f\"An exception occurred: {e}. Skipping this hashtag.\")\n",
    "                continue\n",
    "        influencers_service.update_post(post, 'hashtags', updated_hashtags)"
   ],
   "metadata": {
    "collapsed": false,
    "ExecuteTime": {
     "start_time": "2024-04-26T22:11:55.745820900Z"
    }
   },
   "id": "7dcbd03ff36de43d"
  },
  {
   "cell_type": "code",
   "execution_count": null,
   "outputs": [],
   "source": [
    "def remove_post_emojis(posts,key):\n",
    "    for post in posts:\n",
    "        content = post.get(key)\n",
    "        no_emoji_content = remove_emojis(content)\n",
    "        influencers_service.update_post(post, key, no_emoji_content)"
   ],
   "metadata": {
    "collapsed": false,
    "ExecuteTime": {
     "start_time": "2024-04-26T22:11:55.747821800Z"
    }
   },
   "id": "aca08b191eeea65f"
  },
  {
   "cell_type": "code",
   "execution_count": null,
   "outputs": [],
   "source": [
    "def remove_stopwords(text, stopwords_list):\n",
    "    words = text.split()\n",
    "    words = [word for word in words if word not in stopwords_list]\n",
    "    return ' '.join(words)"
   ],
   "metadata": {
    "collapsed": false,
    "ExecuteTime": {
     "start_time": "2024-04-26T22:11:55.748821900Z"
    }
   },
   "id": "698a284ba2691453"
  },
  {
   "cell_type": "code",
   "execution_count": null,
   "outputs": [],
   "source": [
    "def remove_post_stopwords(posts,key):\n",
    "    for post in posts:\n",
    "        content = post.get(key)\n",
    "        try:\n",
    "            no_stopwords_content = remove_stopwords(content, stopwords_en)\n",
    "            influencers_service.update_post(post, key, no_stopwords_content)\n",
    "        except Exception as e:\n",
    "            print(f\"An exception occurred: {e}. Skipping this post\")"
   ],
   "metadata": {
    "collapsed": false,
    "ExecuteTime": {
     "start_time": "2024-04-26T22:11:55.750825100Z"
    }
   },
   "id": "6f7b92f69f639d84"
  },
  {
   "cell_type": "code",
   "execution_count": null,
   "outputs": [],
   "source": [
    "def remove_hashtags_stop_words(posts):\n",
    "    updated_hashtags = []\n",
    "    for post in posts:\n",
    "        hashtags = post.get('hashtags', [])\n",
    "        hashtags = []\n",
    "        for hashtag in hashtags:\n",
    "            try:\n",
    "                updated_hashtags = remove_stopwords(hashtag)\n",
    "                updated_hashtags .append(updated_hashtags)\n",
    "                post['hashtags'] = updated_hashtags\n",
    "                updated_hashtags.append(hashtag)\n",
    "            except Exception as e:\n",
    "                print(f\"An exception occurred: {e}. Skipping this hashtag.\")\n",
    "                continue\n",
    "        influencers_service.update_post(post, 'hashtags', updated_hashtags)"
   ],
   "metadata": {
    "collapsed": false,
    "ExecuteTime": {
     "start_time": "2024-04-26T22:11:55.752822400Z"
    }
   },
   "id": "c94ee0c0693b2cc3"
  },
  {
   "cell_type": "raw",
   "source": [
    "translation"
   ],
   "metadata": {
    "collapsed": false
   },
   "id": "add07685a34bc8c9"
  },
  {
   "cell_type": "code",
   "execution_count": null,
   "outputs": [],
   "source": [
    "#translate_post(posts,'firstComment')\n",
    "translate_post(posts, 'caption')\n",
    "translate_hashtags(posts)"
   ],
   "metadata": {
    "collapsed": false,
    "ExecuteTime": {
     "start_time": "2024-04-26T22:11:55.754339300Z"
    }
   },
   "id": "ddde9d0e046c551f"
  },
  {
   "cell_type": "raw",
   "source": [
    "lemmatization"
   ],
   "metadata": {
    "collapsed": false
   },
   "id": "5bd4c1e78890eeac"
  },
  {
   "cell_type": "code",
   "execution_count": null,
   "outputs": [],
   "source": [
    "lemmatize_post(posts,'firstComment')\n",
    "lemmatize_post(posts, 'caption')\n",
    "lemmatize_hashtags(posts)        "
   ],
   "metadata": {
    "collapsed": false,
    "ExecuteTime": {
     "start_time": "2024-04-26T22:11:55.756350200Z"
    }
   },
   "id": "b5332c7480b1d851"
  },
  {
   "cell_type": "raw",
   "source": [
    "remove emojis"
   ],
   "metadata": {
    "collapsed": false
   },
   "id": "a83d47c6dfb46d1d"
  },
  {
   "cell_type": "code",
   "execution_count": null,
   "outputs": [],
   "source": [
    "remove_post_emojis(posts,'firstcomment')\n",
    "remove_post_emojis(posts,'caption')\n",
    "remove_hashtags_emojis(posts)"
   ],
   "metadata": {
    "collapsed": false,
    "ExecuteTime": {
     "start_time": "2024-04-26T22:11:55.758350400Z"
    }
   },
   "id": "22d724f78e5acd8f"
  },
  {
   "cell_type": "raw",
   "source": [
    "remove stop words"
   ],
   "metadata": {
    "collapsed": false
   },
   "id": "c136cfcf138e9543"
  },
  {
   "cell_type": "code",
   "execution_count": null,
   "outputs": [],
   "source": [
    "remove_post_stopwords(posts,'firstcomment')\n",
    "remove_post_stopwords(posts,'caption')\n",
    "remove_hashtags_stop_words(posts)"
   ],
   "metadata": {
    "collapsed": false,
    "ExecuteTime": {
     "start_time": "2024-04-26T22:11:55.759353300Z"
    }
   },
   "id": "636c12a50a7bc189"
  }
 ],
 "metadata": {
  "kernelspec": {
   "display_name": "Python 3",
   "language": "python",
   "name": "python3"
  },
  "language_info": {
   "codemirror_mode": {
    "name": "ipython",
    "version": 2
   },
   "file_extension": ".py",
   "mimetype": "text/x-python",
   "name": "python",
   "nbconvert_exporter": "python",
   "pygments_lexer": "ipython2",
   "version": "2.7.6"
  }
 },
 "nbformat": 4,
 "nbformat_minor": 5
}
