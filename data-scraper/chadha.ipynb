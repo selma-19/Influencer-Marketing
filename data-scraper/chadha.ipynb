{
 "cells": [
  {
   "cell_type": "code",
   "execution_count": 14,
   "id": "3b2f61774e3862ac",
   "metadata": {
    "ExecuteTime": {
     "end_time": "2024-03-31T21:47:02.640798400Z",
     "start_time": "2024-03-31T21:47:00.678474Z"
    }
   },
   "outputs": [
    {
     "name": "stdout",
     "output_type": "stream",
     "text": [
      "Requirement already satisfied: pymongo in c:\\users\\chadha\\pycharmprojects\\influencer-marketing\\venv\\lib\\site-packages (4.6.3)\n",
      "Requirement already satisfied: dnspython<3.0.0,>=1.16.0 in c:\\users\\chadha\\pycharmprojects\\influencer-marketing\\venv\\lib\\site-packages (from pymongo) (2.6.1)\n"
     ]
    },
    {
     "name": "stderr",
     "output_type": "stream",
     "text": [
      "\n",
      "[notice] A new release of pip available: 22.3.1 -> 24.0\n",
      "[notice] To update, run: python.exe -m pip install --upgrade pip\n"
     ]
    }
   ],
   "source": [
    "import json\n",
    "import httpx\n",
    "import jmespath\n",
    "from bs4 import BeautifulSoup\n",
    "import requests\n",
    "!pip install pymongo\n",
    "import mongo"
   ]
  },
  {
   "cell_type": "code",
   "execution_count": 15,
   "id": "33a29f27636c8ecd",
   "metadata": {
    "ExecuteTime": {
     "end_time": "2024-03-31T21:47:02.747950200Z",
     "start_time": "2024-03-31T21:47:02.639284600Z"
    }
   },
   "outputs": [],
   "source": [
    "client = httpx.Client(\n",
    "    headers={\n",
    "        # this is internal ID of an instegram backend app. It doesn't change often.\n",
    "        \"x-ig-app-id\": \"936619743392459\",\n",
    "        # use browser-like features\n",
    "        \"User-Agent\": \"Mozilla/5.0 (Windows NT 10.0; Win64; x64) AppleWebKit/537.36 (KHTML, like Gecko) Chrome/62.0.3202.94 Safari/537.36\",\n",
    "        \"Accept-Language\": \"en-US,en;q=0.9,ru;q=0.8\",\n",
    "        \"Accept-Encoding\": \"gzip, deflate, br\",\n",
    "        \"Accept\": \"*/*\",\n",
    "    }\n",
    ")\n",
    "\n",
    "def parse_user(data) :\n",
    "    \"\"\"Parse instagram user's hidden web dataset for user's data\"\"\"\n",
    "    result = jmespath.search(\n",
    "        \"\"\"{\n",
    "        name: full_name,\n",
    "        username: username,\n",
    "        id: id,\n",
    "        category: category_name,\n",
    "        business_category: business_category_name,\n",
    "        phone: business_phone_number,\n",
    "        email: business_email,\n",
    "        bio: biography,\n",
    "        bio_links: bio_links[].url,\n",
    "        homepage: external_url,        \n",
    "        followers: edge_followed_by.count,\n",
    "        follows: edge_follow.count,\n",
    "        facebook_id: fbid,\n",
    "        is_private: is_private,\n",
    "        is_verified: is_verified,\n",
    "        profile_image: profile_pic_url_hd,\n",
    "        video_count: edge_felix_video_timeline.count,\n",
    "        videos: edge_felix_video_timeline.edges[].node.{\n",
    "            id: id, \n",
    "            title: title,\n",
    "            shortcode: shortcode,\n",
    "            thumb: display_url,\n",
    "            url: video_url,\n",
    "            views: video_view_count,\n",
    "            tagged: edge_media_to_tagged_user.edges[].node.user.username,\n",
    "            captions: edge_media_to_caption.edges[].node.text,\n",
    "            comments_count: edge_media_to_comment.count,\n",
    "            comments_disabled: comments_disabled,\n",
    "            taken_at: taken_at_timestamp,\n",
    "            likes: edge_liked_by.count,\n",
    "            location: location.name,\n",
    "            duration: video_duration\n",
    "        },\n",
    "        image_count: edge_owner_to_timeline_media.count,\n",
    "        images: edge_felix_video_timeline.edges[].node.{\n",
    "            id: id, \n",
    "            title: title,\n",
    "            shortcode: shortcode,\n",
    "            src: display_url,\n",
    "            url: video_url,\n",
    "            views: video_view_count,\n",
    "            tagged: edge_media_to_tagged_user.edges[].node.user.username,\n",
    "            captions: edge_media_to_caption.edges[].node.text,\n",
    "            comments_count: edge_media_to_comment.count,\n",
    "            comments_disabled: comments_disabled,\n",
    "            taken_at: taken_at_timestamp,\n",
    "            likes: edge_liked_by.count,\n",
    "            location: location.name,\n",
    "            accesibility_caption: accessibility_caption,\n",
    "            duration: video_duration\n",
    "        },\n",
    "        saved_count: edge_saved_media.count,\n",
    "        collections_count: edge_saved_media.count,\n",
    "        related_profiles: edge_related_profiles.edges[].node.username\n",
    "    }\"\"\",\n",
    "        data,\n",
    "    )\n",
    "    return result\n",
    "\n",
    "def scrape_user(username: str):\n",
    "    \"\"\"Scrape Instagram user's data\"\"\"\n",
    "    result = client.get(\n",
    "        f\"https://i.instagram.com/api/v1/users/web_profile_info/?username={username}\",\n",
    "    )\n",
    "    data = json.loads(result.content)\n",
    "    return data[\"data\"][\"user\"]\n"
   ]
  },
  {
   "cell_type": "code",
   "execution_count": 16,
   "id": "c8c9ff7caa3d6f21",
   "metadata": {
    "ExecuteTime": {
     "end_time": "2024-03-31T21:47:02.747950200Z",
     "start_time": "2024-03-31T21:47:02.655823700Z"
    }
   },
   "outputs": [],
   "source": [
    "def scrape_for_influencers():\n",
    "    influencers=[]\n",
    "    for nb_pages in range(29):\n",
    "        url=\"https://www.influenceurs.tn/?page=\"+str(nb_pages+1)\n",
    "        response = requests.get(url)\n",
    "        soup = BeautifulSoup(response.text, 'html.parser')\n",
    "        div_tags = soup.find_all('div', class_='isotope-item')\n",
    "        for div_tag in div_tags:\n",
    "            a_tag = div_tag.find('a')\n",
    "            href=a_tag[\"href\"]\n",
    "            uri=href[0:44]\n",
    "            length_url=len(href)\n",
    "            username=href[44:length_url]\n",
    "            influencers.append(username)\n",
    "    print(influencers)"
   ]
  },
  {
   "cell_type": "code",
   "execution_count": 17,
   "id": "7a0267178113de19",
   "metadata": {
    "ExecuteTime": {
     "end_time": "2024-03-31T21:47:02.747950200Z",
     "start_time": "2024-03-31T21:47:02.660560500Z"
    }
   },
   "outputs": [],
   "source": [
    "def write_data(file,data):\n",
    "    with open(file,\"a\",encoding=\"utf-8\") as f:\n",
    "        json.dump(data,f,indent=4)"
   ]
  },
  {
   "cell_type": "code",
   "execution_count": 18,
   "id": "3a3a59e1bed103f1",
   "metadata": {
    "ExecuteTime": {
     "end_time": "2024-03-31T21:47:02.747950200Z",
     "start_time": "2024-03-31T21:47:02.665610300Z"
    }
   },
   "outputs": [],
   "source": [
    "def load_data(file):\n",
    "    with open(file,\"r\",encoding=\"utf-8\") as f:\n",
    "        data=json.load(f)\n",
    "    return data"
   ]
  },
  {
   "cell_type": "code",
   "outputs": [],
   "source": [],
   "metadata": {
    "collapsed": false,
    "ExecuteTime": {
     "end_time": "2024-03-31T21:47:02.748951600Z",
     "start_time": "2024-03-31T21:47:02.669485800Z"
    }
   },
   "id": "2971efe22c904e7",
   "execution_count": 18
  },
  {
   "cell_type": "code",
   "outputs": [
    {
     "name": "stdout",
     "output_type": "stream",
     "text": [
      "<Response [302 Found]>\n"
     ]
    },
    {
     "ename": "JSONDecodeError",
     "evalue": "Expecting value: line 1 column 1 (char 0)",
     "output_type": "error",
     "traceback": [
      "\u001B[1;31m---------------------------------------------------------------------------\u001B[0m",
      "\u001B[1;31mJSONDecodeError\u001B[0m                           Traceback (most recent call last)",
      "Cell \u001B[1;32mIn[19], line 3\u001B[0m\n\u001B[0;32m      1\u001B[0m influencers\u001B[38;5;241m=\u001B[39mload_data(\u001B[38;5;124m\"\u001B[39m\u001B[38;5;124minfluencers.json\u001B[39m\u001B[38;5;124m\"\u001B[39m)[\u001B[38;5;124m'\u001B[39m\u001B[38;5;124minfluencers_list\u001B[39m\u001B[38;5;124m'\u001B[39m]\n\u001B[0;32m      2\u001B[0m \u001B[38;5;28;01mfor\u001B[39;00m i \u001B[38;5;129;01min\u001B[39;00m \u001B[38;5;28mrange\u001B[39m(\u001B[38;5;241m161\u001B[39m,\u001B[38;5;241m161\u001B[39m\u001B[38;5;241m+\u001B[39m\u001B[38;5;241m16\u001B[39m):\n\u001B[1;32m----> 3\u001B[0m     influencer_info\u001B[38;5;241m=\u001B[39mparse_user(\u001B[43mscrape_user\u001B[49m\u001B[43m(\u001B[49m\u001B[43minfluencers\u001B[49m\u001B[43m[\u001B[49m\u001B[43mi\u001B[49m\u001B[43m]\u001B[49m\u001B[43m)\u001B[49m)\n\u001B[0;32m      4\u001B[0m     write_data(\u001B[38;5;124m\"\u001B[39m\u001B[38;5;124mscraped-data.txt\u001B[39m\u001B[38;5;124m\"\u001B[39m,influencer_info)\n\u001B[0;32m      5\u001B[0m     mongo\u001B[38;5;241m.\u001B[39mcollection\u001B[38;5;241m.\u001B[39minsert_one(influencer_info)\n",
      "Cell \u001B[1;32mIn[15], line 82\u001B[0m, in \u001B[0;36mscrape_user\u001B[1;34m(username)\u001B[0m\n\u001B[0;32m     78\u001B[0m result \u001B[38;5;241m=\u001B[39m client\u001B[38;5;241m.\u001B[39mget(\n\u001B[0;32m     79\u001B[0m     \u001B[38;5;124mf\u001B[39m\u001B[38;5;124m\"\u001B[39m\u001B[38;5;124mhttps://i.instagram.com/api/v1/users/web_profile_info/?username=\u001B[39m\u001B[38;5;132;01m{\u001B[39;00musername\u001B[38;5;132;01m}\u001B[39;00m\u001B[38;5;124m\"\u001B[39m,\n\u001B[0;32m     80\u001B[0m )\n\u001B[0;32m     81\u001B[0m \u001B[38;5;28mprint\u001B[39m(result)\n\u001B[1;32m---> 82\u001B[0m data \u001B[38;5;241m=\u001B[39m \u001B[43mjson\u001B[49m\u001B[38;5;241;43m.\u001B[39;49m\u001B[43mloads\u001B[49m\u001B[43m(\u001B[49m\u001B[43mresult\u001B[49m\u001B[38;5;241;43m.\u001B[39;49m\u001B[43mcontent\u001B[49m\u001B[43m)\u001B[49m\n\u001B[0;32m     83\u001B[0m \u001B[38;5;28;01mreturn\u001B[39;00m data[\u001B[38;5;124m\"\u001B[39m\u001B[38;5;124mdata\u001B[39m\u001B[38;5;124m\"\u001B[39m][\u001B[38;5;124m\"\u001B[39m\u001B[38;5;124muser\u001B[39m\u001B[38;5;124m\"\u001B[39m]\n",
      "File \u001B[1;32m~\\AppData\\Local\\Programs\\Python\\Python311\\Lib\\json\\__init__.py:346\u001B[0m, in \u001B[0;36mloads\u001B[1;34m(s, cls, object_hook, parse_float, parse_int, parse_constant, object_pairs_hook, **kw)\u001B[0m\n\u001B[0;32m    341\u001B[0m     s \u001B[38;5;241m=\u001B[39m s\u001B[38;5;241m.\u001B[39mdecode(detect_encoding(s), \u001B[38;5;124m'\u001B[39m\u001B[38;5;124msurrogatepass\u001B[39m\u001B[38;5;124m'\u001B[39m)\n\u001B[0;32m    343\u001B[0m \u001B[38;5;28;01mif\u001B[39;00m (\u001B[38;5;28mcls\u001B[39m \u001B[38;5;129;01mis\u001B[39;00m \u001B[38;5;28;01mNone\u001B[39;00m \u001B[38;5;129;01mand\u001B[39;00m object_hook \u001B[38;5;129;01mis\u001B[39;00m \u001B[38;5;28;01mNone\u001B[39;00m \u001B[38;5;129;01mand\u001B[39;00m\n\u001B[0;32m    344\u001B[0m         parse_int \u001B[38;5;129;01mis\u001B[39;00m \u001B[38;5;28;01mNone\u001B[39;00m \u001B[38;5;129;01mand\u001B[39;00m parse_float \u001B[38;5;129;01mis\u001B[39;00m \u001B[38;5;28;01mNone\u001B[39;00m \u001B[38;5;129;01mand\u001B[39;00m\n\u001B[0;32m    345\u001B[0m         parse_constant \u001B[38;5;129;01mis\u001B[39;00m \u001B[38;5;28;01mNone\u001B[39;00m \u001B[38;5;129;01mand\u001B[39;00m object_pairs_hook \u001B[38;5;129;01mis\u001B[39;00m \u001B[38;5;28;01mNone\u001B[39;00m \u001B[38;5;129;01mand\u001B[39;00m \u001B[38;5;129;01mnot\u001B[39;00m kw):\n\u001B[1;32m--> 346\u001B[0m     \u001B[38;5;28;01mreturn\u001B[39;00m \u001B[43m_default_decoder\u001B[49m\u001B[38;5;241;43m.\u001B[39;49m\u001B[43mdecode\u001B[49m\u001B[43m(\u001B[49m\u001B[43ms\u001B[49m\u001B[43m)\u001B[49m\n\u001B[0;32m    347\u001B[0m \u001B[38;5;28;01mif\u001B[39;00m \u001B[38;5;28mcls\u001B[39m \u001B[38;5;129;01mis\u001B[39;00m \u001B[38;5;28;01mNone\u001B[39;00m:\n\u001B[0;32m    348\u001B[0m     \u001B[38;5;28mcls\u001B[39m \u001B[38;5;241m=\u001B[39m JSONDecoder\n",
      "File \u001B[1;32m~\\AppData\\Local\\Programs\\Python\\Python311\\Lib\\json\\decoder.py:337\u001B[0m, in \u001B[0;36mJSONDecoder.decode\u001B[1;34m(self, s, _w)\u001B[0m\n\u001B[0;32m    332\u001B[0m \u001B[38;5;28;01mdef\u001B[39;00m \u001B[38;5;21mdecode\u001B[39m(\u001B[38;5;28mself\u001B[39m, s, _w\u001B[38;5;241m=\u001B[39mWHITESPACE\u001B[38;5;241m.\u001B[39mmatch):\n\u001B[0;32m    333\u001B[0m \u001B[38;5;250m    \u001B[39m\u001B[38;5;124;03m\"\"\"Return the Python representation of ``s`` (a ``str`` instance\u001B[39;00m\n\u001B[0;32m    334\u001B[0m \u001B[38;5;124;03m    containing a JSON document).\u001B[39;00m\n\u001B[0;32m    335\u001B[0m \n\u001B[0;32m    336\u001B[0m \u001B[38;5;124;03m    \"\"\"\u001B[39;00m\n\u001B[1;32m--> 337\u001B[0m     obj, end \u001B[38;5;241m=\u001B[39m \u001B[38;5;28;43mself\u001B[39;49m\u001B[38;5;241;43m.\u001B[39;49m\u001B[43mraw_decode\u001B[49m\u001B[43m(\u001B[49m\u001B[43ms\u001B[49m\u001B[43m,\u001B[49m\u001B[43m \u001B[49m\u001B[43midx\u001B[49m\u001B[38;5;241;43m=\u001B[39;49m\u001B[43m_w\u001B[49m\u001B[43m(\u001B[49m\u001B[43ms\u001B[49m\u001B[43m,\u001B[49m\u001B[43m \u001B[49m\u001B[38;5;241;43m0\u001B[39;49m\u001B[43m)\u001B[49m\u001B[38;5;241;43m.\u001B[39;49m\u001B[43mend\u001B[49m\u001B[43m(\u001B[49m\u001B[43m)\u001B[49m\u001B[43m)\u001B[49m\n\u001B[0;32m    338\u001B[0m     end \u001B[38;5;241m=\u001B[39m _w(s, end)\u001B[38;5;241m.\u001B[39mend()\n\u001B[0;32m    339\u001B[0m     \u001B[38;5;28;01mif\u001B[39;00m end \u001B[38;5;241m!=\u001B[39m \u001B[38;5;28mlen\u001B[39m(s):\n",
      "File \u001B[1;32m~\\AppData\\Local\\Programs\\Python\\Python311\\Lib\\json\\decoder.py:355\u001B[0m, in \u001B[0;36mJSONDecoder.raw_decode\u001B[1;34m(self, s, idx)\u001B[0m\n\u001B[0;32m    353\u001B[0m     obj, end \u001B[38;5;241m=\u001B[39m \u001B[38;5;28mself\u001B[39m\u001B[38;5;241m.\u001B[39mscan_once(s, idx)\n\u001B[0;32m    354\u001B[0m \u001B[38;5;28;01mexcept\u001B[39;00m \u001B[38;5;167;01mStopIteration\u001B[39;00m \u001B[38;5;28;01mas\u001B[39;00m err:\n\u001B[1;32m--> 355\u001B[0m     \u001B[38;5;28;01mraise\u001B[39;00m JSONDecodeError(\u001B[38;5;124m\"\u001B[39m\u001B[38;5;124mExpecting value\u001B[39m\u001B[38;5;124m\"\u001B[39m, s, err\u001B[38;5;241m.\u001B[39mvalue) \u001B[38;5;28;01mfrom\u001B[39;00m \u001B[38;5;28;01mNone\u001B[39;00m\n\u001B[0;32m    356\u001B[0m \u001B[38;5;28;01mreturn\u001B[39;00m obj, end\n",
      "\u001B[1;31mJSONDecodeError\u001B[0m: Expecting value: line 1 column 1 (char 0)"
     ]
    }
   ],
   "source": [
    "influencers=load_data(\"influencers.json\")['influencers_list']\n",
    "for i in range(161,161+16):\n",
    "    influencer_info=parse_user(scrape_user(influencers[i]))\n",
    "    write_data(\"scraped-data.txt\",influencer_info)\n",
    "    mongo.collection.insert_one(influencer_info)"
   ],
   "metadata": {
    "ExecuteTime": {
     "end_time": "2024-03-31T21:47:03.146137200Z",
     "start_time": "2024-03-31T21:47:02.673510800Z"
    }
   },
   "id": "349b211702a68255",
   "execution_count": 19
  },
  {
   "cell_type": "code",
   "outputs": [],
   "source": [],
   "metadata": {
    "collapsed": false,
    "ExecuteTime": {
     "start_time": "2024-03-31T21:47:03.146137200Z"
    }
   },
   "id": "5f7e4544c63825de",
   "execution_count": null
  }
 ],
 "metadata": {
  "kernelspec": {
   "display_name": "Python 3 (ipykernel)",
   "language": "python",
   "name": "python3"
  },
  "language_info": {
   "codemirror_mode": {
    "name": "ipython",
    "version": 3
   },
   "file_extension": ".py",
   "mimetype": "text/x-python",
   "name": "python",
   "nbconvert_exporter": "python",
   "pygments_lexer": "ipython3",
   "version": "3.11.5"
  }
 },
 "nbformat": 4,
 "nbformat_minor": 5
}
