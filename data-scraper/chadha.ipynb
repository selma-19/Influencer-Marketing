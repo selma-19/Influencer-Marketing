{
 "cells": [
  {
   "cell_type": "code",
   "execution_count": 12,
   "id": "3b2f61774e3862ac",
   "metadata": {
    "ExecuteTime": {
     "end_time": "2024-03-31T00:35:42.386492Z",
     "start_time": "2024-03-31T00:35:31.568985Z"
    }
   },
   "outputs": [
    {
     "name": "stdout",
     "output_type": "stream",
     "text": [
      "Collecting pymongo\n",
      "  Downloading pymongo-4.6.3-cp38-cp38-win_amd64.whl.metadata (22 kB)\n",
      "Collecting dnspython<3.0.0,>=1.16.0 (from pymongo)\n",
      "  Downloading dnspython-2.6.1-py3-none-any.whl.metadata (5.8 kB)\n",
      "Downloading pymongo-4.6.3-cp38-cp38-win_amd64.whl (472 kB)\n",
      "   ---------------------------------------- 0.0/472.7 kB ? eta -:--:--\n",
      "   --- ----------------------------------- 41.0/472.7 kB 653.6 kB/s eta 0:00:01\n",
      "   --------- ------------------------------ 112.6/472.7 kB 1.3 MB/s eta 0:00:01\n",
      "   ------------------- -------------------- 225.3/472.7 kB 1.5 MB/s eta 0:00:01\n",
      "   ---------------------------- ----------- 337.9/472.7 kB 1.8 MB/s eta 0:00:01\n",
      "   ---------------------------------------  471.0/472.7 kB 2.0 MB/s eta 0:00:01\n",
      "   ---------------------------------------- 472.7/472.7 kB 1.7 MB/s eta 0:00:00\n",
      "Downloading dnspython-2.6.1-py3-none-any.whl (307 kB)\n",
      "   ---------------------------------------- 0.0/307.7 kB ? eta -:--:--\n",
      "   -------------- ------------------------- 112.6/307.7 kB 2.2 MB/s eta 0:00:01\n",
      "   -------------------------- ------------- 204.8/307.7 kB 2.5 MB/s eta 0:00:01\n",
      "   ---------------------------------------  307.2/307.7 kB 2.4 MB/s eta 0:00:01\n",
      "   ---------------------------------------- 307.7/307.7 kB 2.1 MB/s eta 0:00:00\n",
      "Installing collected packages: dnspython, pymongo\n",
      "Successfully installed dnspython-2.6.1 pymongo-4.6.3\n"
     ]
    }
   ],
   "source": [
    "import json\n",
    "import httpx\n",
    "import jmespath\n",
    "from bs4 import BeautifulSoup\n",
    "import requests\n",
    "!pip install pymongo\n",
    "import mongo"
   ]
  },
  {
   "cell_type": "code",
   "execution_count": 6,
   "id": "33a29f27636c8ecd",
   "metadata": {
    "ExecuteTime": {
     "end_time": "2024-03-31T00:31:29.583971Z",
     "start_time": "2024-03-31T00:31:29.074290Z"
    }
   },
   "outputs": [],
   "source": [
    "client = httpx.Client(\n",
    "    headers={\n",
    "        # this is internal ID of an instegram backend app. It doesn't change often.\n",
    "        \"x-ig-app-id\": \"936619743392459\",\n",
    "        # use browser-like features\n",
    "        \"User-Agent\": \"Mozilla/5.0 (Windows NT 10.0; Win64; x64) AppleWebKit/537.36 (KHTML, like Gecko) Chrome/62.0.3202.94 Safari/537.36\",\n",
    "        \"Accept-Language\": \"en-US,en;q=0.9,ru;q=0.8\",\n",
    "        \"Accept-Encoding\": \"gzip, deflate, br\",\n",
    "        \"Accept\": \"*/*\",\n",
    "    }\n",
    ")\n",
    "\n",
    "def parse_user(data) :\n",
    "    \"\"\"Parse instagram user's hidden web dataset for user's data\"\"\"\n",
    "    result = jmespath.search(\n",
    "        \"\"\"{\n",
    "        name: full_name,\n",
    "        username: username,\n",
    "        id: id,\n",
    "        category: category_name,\n",
    "        business_category: business_category_name,\n",
    "        phone: business_phone_number,\n",
    "        email: business_email,\n",
    "        bio: biography,\n",
    "        bio_links: bio_links[].url,\n",
    "        homepage: external_url,        \n",
    "        followers: edge_followed_by.count,\n",
    "        follows: edge_follow.count,\n",
    "        facebook_id: fbid,\n",
    "        is_private: is_private,\n",
    "        is_verified: is_verified,\n",
    "        profile_image: profile_pic_url_hd,\n",
    "        video_count: edge_felix_video_timeline.count,\n",
    "        videos: edge_felix_video_timeline.edges[].node.{\n",
    "            id: id, \n",
    "            title: title,\n",
    "            shortcode: shortcode,\n",
    "            thumb: display_url,\n",
    "            url: video_url,\n",
    "            views: video_view_count,\n",
    "            tagged: edge_media_to_tagged_user.edges[].node.user.username,\n",
    "            captions: edge_media_to_caption.edges[].node.text,\n",
    "            comments_count: edge_media_to_comment.count,\n",
    "            comments_disabled: comments_disabled,\n",
    "            taken_at: taken_at_timestamp,\n",
    "            likes: edge_liked_by.count,\n",
    "            location: location.name,\n",
    "            duration: video_duration\n",
    "        },\n",
    "        image_count: edge_owner_to_timeline_media.count,\n",
    "        images: edge_felix_video_timeline.edges[].node.{\n",
    "            id: id, \n",
    "            title: title,\n",
    "            shortcode: shortcode,\n",
    "            src: display_url,\n",
    "            url: video_url,\n",
    "            views: video_view_count,\n",
    "            tagged: edge_media_to_tagged_user.edges[].node.user.username,\n",
    "            captions: edge_media_to_caption.edges[].node.text,\n",
    "            comments_count: edge_media_to_comment.count,\n",
    "            comments_disabled: comments_disabled,\n",
    "            taken_at: taken_at_timestamp,\n",
    "            likes: edge_liked_by.count,\n",
    "            location: location.name,\n",
    "            accesibility_caption: accessibility_caption,\n",
    "            duration: video_duration\n",
    "        },\n",
    "        saved_count: edge_saved_media.count,\n",
    "        collections_count: edge_saved_media.count,\n",
    "        related_profiles: edge_related_profiles.edges[].node.username\n",
    "    }\"\"\",\n",
    "        data,\n",
    "    )\n",
    "    return result\n",
    "\n",
    "def scrape_user(username: str):\n",
    "    \"\"\"Scrape Instagram user's data\"\"\"\n",
    "    result = client.get(\n",
    "        f\"https://i.instagram.com/api/v1/users/web_profile_info/?username={username}\",\n",
    "    )\n",
    "    data = json.loads(result.content)\n",
    "    return data[\"data\"][\"user\"]\n"
   ]
  },
  {
   "cell_type": "code",
   "execution_count": 7,
   "id": "c8c9ff7caa3d6f21",
   "metadata": {
    "ExecuteTime": {
     "end_time": "2024-03-31T00:31:53.571844Z",
     "start_time": "2024-03-31T00:31:53.545587Z"
    }
   },
   "outputs": [],
   "source": [
    "def scrape_for_influencers():\n",
    "    influencers=[]\n",
    "    for nb_pages in range(29):\n",
    "        url=\"https://www.influenceurs.tn/?page=\"+str(nb_pages+1)\n",
    "        response = requests.get(url)\n",
    "        soup = BeautifulSoup(response.text, 'html.parser')\n",
    "        div_tags = soup.find_all('div', class_='isotope-item')\n",
    "        for div_tag in div_tags:\n",
    "            a_tag = div_tag.find('a')\n",
    "            href=a_tag[\"href\"]\n",
    "            uri=href[0:44]\n",
    "            length_url=len(href)\n",
    "            username=href[44:length_url]\n",
    "            influencers.append(username)\n",
    "    print(influencers)"
   ]
  },
  {
   "cell_type": "code",
   "execution_count": 8,
   "id": "7a0267178113de19",
   "metadata": {
    "ExecuteTime": {
     "end_time": "2024-03-31T00:32:04.966588Z",
     "start_time": "2024-03-31T00:32:04.950852Z"
    }
   },
   "outputs": [],
   "source": [
    "def write_data(file,data):\n",
    "    with open(file,\"a\",encoding=\"utf-8\") as f:\n",
    "        json.dump(data,f,indent=4)"
   ]
  },
  {
   "cell_type": "code",
   "execution_count": 9,
   "id": "3a3a59e1bed103f1",
   "metadata": {
    "ExecuteTime": {
     "end_time": "2024-03-31T00:32:09.375926Z",
     "start_time": "2024-03-31T00:32:09.356821Z"
    }
   },
   "outputs": [],
   "source": [
    "def load_data(file):\n",
    "    with open(file,\"r\",encoding=\"utf-8\") as f:\n",
    "        data=json.load(f)\n",
    "    return data"
   ]
  },
  {
   "cell_type": "code",
   "outputs": [],
   "source": [],
   "metadata": {
    "collapsed": false
   },
   "id": "2971efe22c904e7"
  },
  {
   "cell_type": "code",
   "outputs": [],
   "source": [
    "influencers=load_data(\"influencers.json\")['influencers_list']\n",
    "for i in range(130,145):\n",
    "    influencer_info=parse_user(scrape_user(influencers[i]))\n",
    "    write_data(\"scraped-dataaa.txt\",influencer_info)\n",
    "    mongo.collection.insert_one(influencer_info)"
   ],
   "metadata": {
    "ExecuteTime": {
     "end_time": "2024-03-31T00:45:12.860348Z",
     "start_time": "2024-03-31T00:44:54.620145Z"
    }
   },
   "id": "349b211702a68255",
   "execution_count": 15
  },
  {
   "cell_type": "code",
   "outputs": [],
   "source": [],
   "metadata": {
    "collapsed": false
   },
   "id": "5f7e4544c63825de"
  }
 ],
 "metadata": {
  "kernelspec": {
   "display_name": "Python 3 (ipykernel)",
   "language": "python",
   "name": "python3"
  },
  "language_info": {
   "codemirror_mode": {
    "name": "ipython",
    "version": 3
   },
   "file_extension": ".py",
   "mimetype": "text/x-python",
   "name": "python",
   "nbconvert_exporter": "python",
   "pygments_lexer": "ipython3",
   "version": "3.11.5"
  }
 },
 "nbformat": 4,
 "nbformat_minor": 5
}
