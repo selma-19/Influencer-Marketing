{
 "cells": [
  {
   "metadata": {},
   "cell_type": "markdown",
   "source": [
    "Transform our posts collection to prepare it for the model: \n",
    "1- unset the shortcode field \n",
    "2- group posts by owner id\n",
    "3- concatenate captions\n",
    "4- export data to a new collection"
   ],
   "id": "2dca0e377cd1070f"
  },
  {
   "metadata": {},
   "cell_type": "code",
   "outputs": [],
   "execution_count": null,
   "source": [
    "from pymongo import MongoClient\n",
    "\n",
    "# Requires the PyMongo package.\n",
    "# https://api.mongodb.com/python/current\n",
    "\n",
    "client = MongoClient('mongodb://localhost:27017/')\n",
    "result = client['InfluencersMarketing']['newPosts'].aggregate([\n",
    "    {\n",
    "        '$unset': 'shortcode'\n",
    "    }, {\n",
    "        '$group': {\n",
    "            '_id': '$owner.id', \n",
    "            'posts': {\n",
    "                '$push': '$$ROOT.caption'\n",
    "            }\n",
    "        }\n",
    "    }, {\n",
    "        '$project': {\n",
    "            'posts': {\n",
    "                '$reduce': {\n",
    "                    'input': '$posts', \n",
    "                    'initialValue': '', \n",
    "                    'in': {\n",
    "                        '$concat': [\n",
    "                            '$$value', '$$this'\n",
    "                        ]\n",
    "                    }\n",
    "                }\n",
    "            }\n",
    "        }\n",
    "    }, {\n",
    "        '$out': {\n",
    "            'db': 'InfluencersMarketing', \n",
    "            'coll': 'Posts'\n",
    "        }\n",
    "    }\n",
    "])"
   ],
   "id": "c3587e7165d3b772"
  }
 ],
 "metadata": {
  "kernelspec": {
   "display_name": "Python 3",
   "language": "python",
   "name": "python3"
  },
  "language_info": {
   "codemirror_mode": {
    "name": "ipython",
    "version": 2
   },
   "file_extension": ".py",
   "mimetype": "text/x-python",
   "name": "python",
   "nbconvert_exporter": "python",
   "pygments_lexer": "ipython2",
   "version": "2.7.6"
  }
 },
 "nbformat": 4,
 "nbformat_minor": 5
}
